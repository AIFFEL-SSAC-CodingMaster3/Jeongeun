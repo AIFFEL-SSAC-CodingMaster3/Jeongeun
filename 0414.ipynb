{
 "cells": [
  {
   "cell_type": "markdown",
   "metadata": {},
   "source": [
    "### 148"
   ]
  },
  {
   "cell_type": "code",
   "execution_count": null,
   "metadata": {},
   "outputs": [],
   "source": [
    "# Definition for singly-linked list.\n",
    "# class ListNode:\n",
    "#     def __init__(self, val=0, next=None):\n",
    "#         self.val = val\n",
    "#         self.next = next\n",
    "\n",
    "from collections import deque\n",
    "\n",
    "class Solution:\n",
    "    def sortList(self, head: ListNode) -> ListNode:\n",
    "        \n",
    "        if not head: \n",
    "            return None\n",
    "        \n",
    "        #O(nlogn)에 정렬되는 것은 병합정렬 뿐이다!\n",
    "        #쪼개서 #비교하고 #합친다\n",
    "        value_list = []\n",
    "        \n",
    "        def bring_value(head):\n",
    "            if head :\n",
    "                value_list.append(head.val)\n",
    "                bring_value(head.next)\n",
    "                \n",
    "        bring_value(head)\n",
    "        value_list.sort()\n",
    "        new_que = deque(value_list)\n",
    "          \n",
    "        #다시 새로운 listNode를 만들어준다.\n",
    "        new_head = ListNode()\n",
    "        \n",
    "        def make_listnode(head, new_que):\n",
    "            if new_que:\n",
    "                head.val = new_que.popleft()\n",
    "                \n",
    "                if len(new_que) >= 1: \n",
    "                    head.next = ListNode()\n",
    "                \n",
    "                    make_listnode(head.next, new_que)\n",
    "                \n",
    "                else:\n",
    "                    head.next = None\n",
    "            \n",
    "            print(head)\n",
    "                    \n",
    "        make_listnode(new_head, new_que)\n",
    "                \n",
    "        return new_head"
   ]
  },
  {
   "cell_type": "markdown",
   "metadata": {},
   "source": [
    "![아웃풋](./PostingPic/0414_1번아웃풋.png)"
   ]
  },
  {
   "cell_type": "markdown",
   "metadata": {},
   "source": [
    "## 56"
   ]
  },
  {
   "cell_type": "code",
   "execution_count": null,
   "metadata": {},
   "outputs": [],
   "source": [
    "from collections import deque\n",
    "\n",
    "class Solution:\n",
    "    def merge(self, intervals: List[List[int]]) -> List[List[int]]:\n",
    "        \n",
    "        #노오오... 코딩해놔ㅆ던거 다 날아갔네 ㅠㅠㅠ\n",
    "        \n",
    "        starts=[]\n",
    "        ends=[]\n",
    "        result=[]\n",
    "        merge=[]\n",
    "        \n",
    "        #타임을 돌\n",
    "        index=0\n",
    "        \n",
    "        for i in intervals:\n",
    "            #intervals안에 있는 요소들을 리스트 단위로 쪼개어놓기\n",
    "            starts.append(i[0])\n",
    "            ends.append(i[1])\n",
    "            \n",
    "        starts = deque(starts)\n",
    "        ends = deque(ends)\n",
    "        \n",
    "        \n",
    "        for i in range(len(starts)):\n",
    "            \n",
    "            if i == len(starts):\n",
    "                if starts:\n",
    "                    result.append(starts[i])\n",
    "                    result.append(ends[i])\n",
    "                    continue\n",
    "            \n",
    "            else:\n",
    "                j = i-1\n",
    "            \n",
    "                if  ends[i] >= starts[j] :\n",
    "                    result.append(starts.popleft())\n",
    "                    starts.popleft()\n",
    "                \n",
    "                    ends.popleft()\n",
    "                    result.append(ends.popleft())\n",
    "                else:\n",
    "                    result.append(starts.popleft())\n",
    "                    result.append(ends.popleft())\n",
    "                    \n",
    "            print(starts)\n",
    "            \n",
    "                merge.append(result)  \n",
    "                \n",
    "        return merge\n",
    "                    "
   ]
  },
  {
   "cell_type": "markdown",
   "metadata": {},
   "source": [
    "## 61_가장 큰 수(leetcode 179.LargestNumber)        "
   ]
  },
  {
   "cell_type": "markdown",
   "metadata": {},
   "source": [
    "#### 혼자 생각했을 때"
   ]
  },
  {
   "cell_type": "code",
   "execution_count": null,
   "metadata": {},
   "outputs": [],
   "source": [
    "class Solution:\n",
    "    def largestNumber(self, nums: List[int]) -> str:\n",
    "        #자릿수\n",
    "        self.index = 0\n",
    "        self.result = []\n",
    "        \n",
    "        #index자리의 숫자를 기반으로 딕셔너리를 만들어\n",
    "        #각 숫자의 크기를 비교하여 결과물을 만든다.\n",
    "        def devideAndCompare(nums, index):\n",
    "            #자릿수를 기반으로 저장할 배열\n",
    "            divide_dict ={}\n",
    "        \n",
    "            #해당 자릿수의 가장 큰 값\n",
    "            max_value = 9\n",
    "        \n",
    "            for i, v in enumerate(nums):\n",
    "                letter = str(v)\n",
    "                letter = letter[index:index+1]\n",
    "                divide_dict[letter] = i\n",
    "            \n",
    "            #임시 결과값을 담을 값\n",
    "            temp = []\n",
    "            \n",
    "            #비교를 수행\n",
    "            #숫자는 9~0까지 통용될것이므로, max_value를 하나씩 낮춰가며 적용해본다.\n",
    "            while max_value >= 1:\n",
    "                if max_value in divide_dict.keys():\n",
    "                    temp.append(divide_dict[max_value])\n",
    "                    \n",
    "                    #만약 두 개 이상이 동일한 값을 가지면\n",
    "                    if len(temp) >= 2:\n",
    "                        val += 1\n",
    "                        devideAndCompare(nums, index)\n",
    "                        \n",
    "                    #한개만 최고값이면\n",
    "                    else:\n",
    "                        result.append(nums[divide_dict[max_value]])\n",
    "                        nums.remove(nums[divide_dict[max_value]])\n",
    "                        index += 1\n",
    "                \n",
    "                max_value += 1\n",
    "                print(result)\n",
    "                    \n",
    "        devideAndCompare(nums, index)\n",
    "        \n",
    "        return result"
   ]
  },
  {
   "cell_type": "markdown",
   "metadata": {},
   "source": [
    "#### 책 풀이           "
   ]
  },
  {
   "cell_type": "code",
   "execution_count": null,
   "metadata": {},
   "outputs": [],
   "source": [
    "class Solution:\n",
    "    \n",
    "    @staticmethod\n",
    "    def to_swap(n1:int, n2:int)->bool:\n",
    "        val = str(n1)+str(n2)\n",
    "        print(val, \"타입 : \", type(val)) \n",
    "        return str(n1) + str(n2) < str(n2) + str(n1)\n",
    "    \n",
    "    \n",
    "    def largestNumber(self, nums:List[int]) -> str:\n",
    "        i = 1\n",
    "        \n",
    "        while i < len(nums):\n",
    "            \n",
    "            #가장 먼저 비교할 때, \n",
    "            #삽입 정렬은 인덱스 0 가 아니라 1부터 시작한다.\n",
    "            ## i는 하나씩 커지고,\n",
    "            j = i\n",
    "            \n",
    "            #j-1(이전 인덱스)와 j(지금 인덱스)를 앞뒤로 붙여본 후\n",
    "            #더 큰 쪽이 나올 수 있도록 swap\n",
    "            while j > 0 and self.to_swap(nums[j-1], nums[j]):\n",
    "                \n",
    "                print('정렬전:', nums)\n",
    "                nums[j], nums[j-1] = nums[j-1], nums[j]\n",
    "                \n",
    "                ## j는 하나씩 줄어든다.\n",
    "                j -= 1\n",
    "                print('정렬후:', nums)\n",
    "            \n",
    "            #i는 하나씩 값을 키워가며 올라가야 하므로\n",
    "            i+=1\n",
    "            \n",
    "            #nums를 str화 해주는데\n",
    "            #다 붙여줘\n",
    "            #근데 숫자로 바꿔주구(중간에 생길 00 을 방지하기 위해서)\n",
    "            #그리고 다시 문자로 바꿔줘\n",
    "        return str(int(''.join(map(str, nums))))"
   ]
  },
  {
   "cell_type": "markdown",
   "metadata": {},
   "source": [
    "![그림](./PostingPic/0414_61번.png)"
   ]
  },
  {
   "cell_type": "markdown",
   "metadata": {},
   "source": [
    "- @staticmethod 란?\n",
    "- @staticmethod와 @classmethod         \n",
    "- 삽입 정렬"
   ]
  },
  {
   "cell_type": "code",
   "execution_count": 2,
   "metadata": {},
   "outputs": [],
   "source": [
    "class Person:\n",
    "    default= \"아빠\"\n",
    "    \n",
    "    def __init__(self):\n",
    "        self.data = self.default\n",
    "    \n",
    "    @classmethod\n",
    "    def class_person(cls):\n",
    "        return cls()\n",
    "    \n",
    "    @staticmethod\n",
    "    def static_person():\n",
    "        return Person()\n",
    "\n",
    "#default값이 '아빠' 인 person을 상속하여 default값을 '엄마'로 변경해주었을 때\n",
    "class WhatPerson(Person):\n",
    "    default = \"엄마\""
   ]
  },
  {
   "cell_type": "code",
   "execution_count": 5,
   "metadata": {},
   "outputs": [
    {
     "name": "stdout",
     "output_type": "stream",
     "text": [
      "엄마\n"
     ]
    }
   ],
   "source": [
    "#classperson을 호출하면 해당 클래스()를 호출\n",
    "person1 = WhatPerson.class_person()    # return 엄마\n",
    "print(person1.default)"
   ]
  },
  {
   "cell_type": "code",
   "execution_count": 3,
   "metadata": {},
   "outputs": [
    {
     "name": "stdout",
     "output_type": "stream",
     "text": [
      "<__main__.Person object at 0x7f02d84f2c10>\n"
     ]
    }
   ],
   "source": [
    "#staticperson을 호출하면 상속한 부모 세대의 Person()를 호출\n",
    "person2 = WhatPerson.static_person()   # return 아빠\n",
    "print(person2.default)"
   ]
  },
  {
   "cell_type": "markdown",
   "metadata": {},
   "source": [
    "![성능비교](./PostingPic/0414_성능비교.png)"
   ]
  },
  {
   "cell_type": "markdown",
   "metadata": {},
   "source": [
    "#### 최다 빈도수 제출 코드"
   ]
  },
  {
   "cell_type": "code",
   "execution_count": null,
   "metadata": {},
   "outputs": [],
   "source": [
    "class largenum(str):\n",
    "    def __lt__(x, y):\n",
    "        return x + y > y + x\n",
    "\n",
    "class Solution:\n",
    "    def largestNumber(self, nums: List[int]) -> str:\n",
    "        \n",
    "        #sorted(key=조건) : 정렬할 list에 대해, key의 callable 요건이 각 한번씩만 불리게 됨\n",
    "        nums = sorted(list(map(str, nums)), key = largenum)\n",
    "        \n",
    "        #join 한 다음 값을 돌려주게 됨\n",
    "        res = \"\".join(nums)\n",
    "        return res if res[0] != \"0\" else \"0\""
   ]
  },
  {
   "cell_type": "markdown",
   "metadata": {},
   "source": [
    "![키설명1](./PostingPic/0414_키설명1.png)"
   ]
  },
  {
   "cell_type": "markdown",
   "metadata": {},
   "source": [
    "![키설명2](./PostingPic/0414_키설명3.png)"
   ]
  },
  {
   "cell_type": "markdown",
   "metadata": {},
   "source": [
    "> key 뒤에 오는 요건에 따라 student_objects라는 리스트가 정렬되었음을 알 수 있다."
   ]
  },
  {
   "cell_type": "markdown",
   "metadata": {},
   "source": [
    "#### 가장 빠른 제출코드"
   ]
  },
  {
   "cell_type": "code",
   "execution_count": null,
   "metadata": {},
   "outputs": [],
   "source": [
    "class Solution:\n",
    "    def largestNumber(self, nums: list[int]) -> str:\n",
    "        \n",
    "        #먄약 nums안에 하나라도 True가 아니라면..(아무것도 바꿀 것이 없다면)\n",
    "        if not any(nums):\n",
    "            return '0'\n",
    "\n",
    "        def compareNum(strNum1: str, strNum2: str) -> int:\n",
    "\n",
    "            if strNum1 + strNum2 > strNum2 + strNum1:\n",
    "                return -1\n",
    "            elif strNum1 + strNum2 < strNum2 + strNum1:\n",
    "                return 1\n",
    "            else:\n",
    "                return 0\n",
    "\n",
    "            #이 cmp_to_key가...\n",
    "        return ''.join(sorted(map(str, nums), key = cmp_to_key(compareNum)))"
   ]
  },
  {
   "cell_type": "markdown",
   "metadata": {},
   "source": [
    "- sorted 에서의 key 개념\n",
    "- any 개념"
   ]
  }
 ],
 "metadata": {
  "kernelspec": {
   "display_name": "aiffel",
   "language": "python",
   "name": "aiffel"
  },
  "language_info": {
   "codemirror_mode": {
    "name": "ipython",
    "version": 3
   },
   "file_extension": ".py",
   "mimetype": "text/x-python",
   "name": "python",
   "nbconvert_exporter": "python",
   "pygments_lexer": "ipython3",
   "version": "3.7.9"
  }
 },
 "nbformat": 4,
 "nbformat_minor": 4
}
