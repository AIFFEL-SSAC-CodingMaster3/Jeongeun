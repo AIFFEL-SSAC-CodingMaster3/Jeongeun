{
 "cells": [
  {
   "cell_type": "code",
   "execution_count": 2,
   "metadata": {},
   "outputs": [],
   "source": [
    "class Node:\n",
    "    def __init__(self, data, next=None):\n",
    "        self.data = data\n",
    "        self.next = next\n",
    "    \n",
    "    def init_list():\n",
    "        global node_A\n",
    "        node_A = Node(\"A\")\n",
    "        node_B = Node(\"B\")\n",
    "        node_D = Node(\"D\")\n",
    "        node_E = Node(\"E\")\n",
    "        \n",
    "        #다음 노드 연결\n",
    "        node_A.next = node_B\n",
    "        node_B.next = node_D\n",
    "        node_D.next = node_E\n",
    "    \n",
    "    def delete_node(del_data):\n",
    "        global node_1\n",
    "        pre_node = node_1\n",
    "        "
   ]
  },
  {
   "cell_type": "code",
   "execution_count": 8,
   "metadata": {},
   "outputs": [],
   "source": []
  },
  {
   "cell_type": "markdown",
   "metadata": {},
   "source": [
    "## 두 정렬 리스트의 병합"
   ]
  },
  {
   "cell_type": "code",
   "execution_count": 11,
   "metadata": {},
   "outputs": [],
   "source": [
    "l1 = [1,2,4]\n",
    "l2 = [1,3,4]"
   ]
  },
  {
   "cell_type": "code",
   "execution_count": null,
   "metadata": {},
   "outputs": [],
   "source": [
    "def mergeTwoLists(self, l1:ListNode, l2:ListNode) -> ListNode:\n",
    "    "
   ]
  }
 ],
 "metadata": {
  "kernelspec": {
   "display_name": "aiffel",
   "language": "python",
   "name": "aiffel"
  },
  "language_info": {
   "codemirror_mode": {
    "name": "ipython",
    "version": 3
   },
   "file_extension": ".py",
   "mimetype": "text/x-python",
   "name": "python",
   "nbconvert_exporter": "python",
   "pygments_lexer": "ipython3",
   "version": "3.7.9"
  }
 },
 "nbformat": 4,
 "nbformat_minor": 4
}
