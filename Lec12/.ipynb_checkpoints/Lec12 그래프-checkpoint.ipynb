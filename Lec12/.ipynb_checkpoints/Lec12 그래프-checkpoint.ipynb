{
 "cells": [
  {
   "cell_type": "markdown",
   "metadata": {},
   "source": [
    "# 그래프"
   ]
  },
  {
   "cell_type": "markdown",
   "metadata": {},
   "source": [
    "## 1. 위상수학이란?      \n",
    "\n",
    "- 연결성이나 연속성 등, 작은 편환에 의존하지 않는 기하학적 성질을 다루는 수학의 한 분야이다.     \n",
    "\n",
    "\n",
    "## 2. 그래프 이론         \n",
    "\n",
    "- 오일러, '쾨니히스베르크의 다리'        \n",
    "\n",
    "![쾨니히스베르크의 다리](./PostingPic/쾨니히.jpeg)"
   ]
  },
  {
   "cell_type": "markdown",
   "metadata": {},
   "source": [
    "어떻게 풀었나?     \n",
    "\n",
    "- A~D 까지의 정점을 서로 이은 간선을 통해 모든 정점이 짝수 개의 차수를 갖는다면 모든 다리를 한번씩만 건너(한붓그리기) 도달하는 것이 성립한다고 말했다.   \n",
    "- 위의 다리 그림은, 모든 정점이 홀수개의 차수를 가지므로 한붓그리기가 불가능하다."
   ]
  },
  {
   "cell_type": "markdown",
   "metadata": {},
   "source": [
    "- 해밀턴 경로     \n",
    "\n",
    "![해밀턴경로](./PostingPic/해밀턴.png)\n",
    "\n",
    "- 해밀턴 경로 : 각 정점을 한번씩 방문하는 무향, 혹은 유향 그래프 경로를 말한다.      \n",
    "- 오일러 경로는 간선에 방점이 있다면, 해밀턴 경로는 정점에 방점이 찍혀 있다.       \n",
    "\n",
    "1. 해밀턴 순환 : 원래 정점으로 돌아오는 문제       \n",
    "2. 외판원 문제 : 최단 거리를 찾는 문제(TSP)"
   ]
  },
  {
   "cell_type": "markdown",
   "metadata": {},
   "source": [
    "## 3. 그래프        \n",
    "\n",
    "- 그래프 순회 : __그래프 탐색이라고 불리며 각 그래프의 정점을 방문하는 과정을 말한다.__   \n",
    "- 깊이 우선 탐색(DFS) : 주로 스택이나 재귀로 구현\n",
    "- 너비 우선 탐색(BFS) : 주로 큐로 구현"
   ]
  },
  {
   "cell_type": "markdown",
   "metadata": {},
   "source": [
    "##### 재귀구조로 DFS 구현 "
   ]
  },
  {
   "cell_type": "code",
   "execution_count": 1,
   "metadata": {},
   "outputs": [],
   "source": [
    "def recursive_dfs(v, discovered=[]):\n",
    "    discovered.append(v)\n",
    "    \n",
    "    for w in graph[v]:\n",
    "        if not w in discovered:\n",
    "            discovered = recursive_dfs(w, discovered)\n",
    "        \n",
    "    return discovered"
   ]
  },
  {
   "cell_type": "markdown",
   "metadata": {},
   "source": [
    "##### 스택을 구조로 DFS 구현"
   ]
  },
  {
   "cell_type": "code",
   "execution_count": 3,
   "metadata": {},
   "outputs": [],
   "source": [
    "def iterative_dfs(start_v):\n",
    "    discover=[]\n",
    "    \n",
    "    stack=[start_v]\n",
    "    \n",
    "    while stack:\n",
    "        v = stack.pop()\n",
    "        \n",
    "        if v not in discovered:\n",
    "            discovered.append(v)\n",
    "            \n",
    "            for w in graph[v]:\n",
    "                stack.append(w)\n",
    "                \n",
    "    return discovered"
   ]
  },
  {
   "cell_type": "markdown",
   "metadata": {},
   "source": [
    "##### 큐를 이용한 반복 구조로 BFS 구현"
   ]
  },
  {
   "cell_type": "code",
   "execution_count": 4,
   "metadata": {},
   "outputs": [],
   "source": [
    "def iterative_bfs(start_v):\n",
    "    discovered=[start_v]\n",
    "    queue=[start_v]\n",
    "    \n",
    "    while queue :\n",
    "        v = queue.pop(0)\n",
    "        \n",
    "        for w in graph[v]:\n",
    "            if w not in discovered:\n",
    "                discovered.append(w)\n",
    "                queue.append(w)\n",
    "    return discovered"
   ]
  },
  {
   "cell_type": "markdown",
   "metadata": {},
   "source": [
    "+ 백트래킹        \n",
    "+ 제약 충족 문제"
   ]
  },
  {
   "cell_type": "markdown",
   "metadata": {},
   "source": [
    "# 두 개의 섬(leetcode : 200)"
   ]
  },
  {
   "cell_type": "code",
   "execution_count": null,
   "metadata": {},
   "outputs": [],
   "source": [
    "#grid: List[List[str]]\n",
    "#grid = List_row[List_col]"
   ]
  },
  {
   "cell_type": "code",
   "execution_count": null,
   "metadata": {},
   "outputs": [],
   "source": [
    "gird=[\n",
    "    [1,1,1,1,0],\n",
    "    [1,1,0,1,0],\n",
    "    [1,1,0,0,0],\n",
    "    [0,0,0,0,0]\n",
    "]"
   ]
  },
  {
   "cell_type": "code",
   "execution_count": null,
   "metadata": {},
   "outputs": [],
   "source": [
    "#i==세로가 몇 줄, j=가로가 몇 칸\n",
    "def dfs(self, grid:List[List[str]], i:int, j:int):\n",
    "    \n",
    "    # i가 0보다 작거나 세로줄의 범위를 넘었을 때  \n",
    "    # j가 0보다 작거나 가로칸의 범위를 넘었을 때\n",
    "    # grid[i][j]가 1값이 아닐 때(이미 방문했거나, 0이어서 방문할 필요가 없을 때)\n",
    "    if i<0 or i>=len(grid) or \\ j < 0 or j>= len(gird[0]) or \\ grid[i][j] != '1' :\n",
    "        return\n",
    "    \n",
    "    #이미 탐색한 곳에 대해 0으로 변환시킨다.\n",
    "    grid[i][j] = '0'\n",
    "    \n",
    "    #상하좌우를 탐색하도록 재귀적인 방식을 사용한다.\n",
    "    self.dfs(grid, i+1, j)\n",
    "    self.dfs(grid, i-1, j)\n",
    "    self.dfs(grid, i, j+1)\n",
    "    self.dfs(grid, i, j-1)\n",
    "    \n",
    "def numIsIsland(self, grid:List[List[str]]) -> int:\n",
    "    #예외처리\n",
    "    if not grid:\n",
    "        return 0\n",
    "    \n",
    "    #덩어리의 수를 센다.\n",
    "    count = 0\n",
    "    \n",
    "    #이중 for문을 통해, grid 안의 (i,j)에 대해 dfs를 수행한다.\n",
    "    for i in range(len(grid)):\n",
    "        for j in range(len(grid[0])):\n",
    "            \n",
    "            if grid[i][j] == '1':\n",
    "                self.dfs(grid, i, j)\n",
    "                \n",
    "                #육지 탐색 후 카운트 1 증가\n",
    "                #단, 이때 count를 세는 육지는 '첫 발을 내디딘' 육지에 한정한다.\n",
    "                count += 1\n",
    "            \n",
    "    return count"
   ]
  },
  {
   "cell_type": "markdown",
   "metadata": {},
   "source": [
    "![그래프](./PostingPic/그래프.png)"
   ]
  },
  {
   "cell_type": "code",
   "execution_count": null,
   "metadata": {},
   "outputs": [],
   "source": [
    "class Solution:  \n",
    "\n",
    "    def explore(self, row, col):\n",
    "        # 만약 row가 길이 안에 포함되어 있지 않거나\n",
    "        # 만약 col이 너비 안에 포함되어 있지 않으면 return\n",
    "        if 0 > row or row >= len(self.grid) or 0 > col or col >= len(self.grid[row]):\n",
    "            return\n",
    "        \n",
    "        # 만약 이 땅이 1이 아니라면? (0이거나 이미 왔던 땅인 경우)\n",
    "        if self.grid[row][col] != \"1\":\n",
    "            return \n",
    "        \n",
    "        # 만약 1이고, 처음 온 땅이라면 '깃발'을 심는다\n",
    "        self.grid[row][col] = \"x\"\n",
    "        \n",
    "        # 현재 있는 땅을 기준으로 전후좌우를 탐색\n",
    "        self.explore(row-1, col)\n",
    "        self.explore(row+1, col)\n",
    "        self.explore(row, col+1)\n",
    "        self.explore(row, col-1)\n",
    "        \n",
    "        \n",
    "        def numIslands(self, grid: List[List[str]]) -> int:\n",
    "        self.grid = grid\n",
    "        \n",
    "        #grid = 줄[칸]\n",
    "        #grid[0][0] = (0,0)\n",
    "        #섬의 수를 카운트할 변수\n",
    "        islands = 0\n",
    "        \n",
    "        \n",
    "        for row in range(len(self.grid)):\n",
    "            for col in range(len(self.grid[row])):\n",
    "\n",
    "                # 육지(1)인 경우 islands를 하나 올리고\n",
    "                # 그를 바탕으로 dfs(explore)를 수행한다.\n",
    "                if self.grid[row][col] == \"1\":\n",
    "                    \n",
    "                    islands += 1\n",
    "                    self.explore(row, col)\n",
    "        \n",
    "        return islands"
   ]
  },
  {
   "cell_type": "code",
   "execution_count": null,
   "metadata": {},
   "outputs": [],
   "source": [
    "import collections\n",
    "class Solution:\n",
    "    def numIslands(self, grid: List[List[str]]) -> int:\n",
    "        \n",
    "        #섬의 토탈 수를 센다\n",
    "        total = 0\n",
    "        \n",
    "        #queue를 이용하기 위해 선언한다.\n",
    "        queue = deque()\n",
    "        \n",
    "        #grid[i][j]\n",
    "        row = len(grid)\n",
    "        column = len(grid[0])\n",
    "        \n",
    "        for i in range(row):\n",
    "            for j in range(column):\n",
    "                \n",
    "                # grid[i][j]가 1(육지)일 때, 카운트 수를 높이고\n",
    "                # 다녀간 땅 표시를 수행하며(2)\n",
    "                # queue에 이를 저장한다.\n",
    "                if grid[i][j] == \"1\":   \n",
    "                    total += 1\n",
    "                    grid[i][j] = 2\n",
    "                    queue.append((i, j))\n",
    "                    \n",
    "                    while queue:\n",
    "                        \n",
    "                        #위에서 큐에 저장했던 grid[i][j]를 왼쪽(저장한 순서)부터 꺼낸다.\n",
    "                        x, y = queue.popleft()\n",
    "                        \n",
    "                        # left, right, up, down\n",
    "                        if y > 0 and grid[x][y - 1] == \"1\":\n",
    "                            \n",
    "                            #여기서 append 되면 계속 뒤로 붙으며, while queue: 가 수행되도록 한다.\n",
    "                            queue.append((x, y - 1))\n",
    "                            grid[x][y - 1] = 2\n",
    "                        \n",
    "                        if y < column - 1 and grid[x][y + 1] == \"1\":\n",
    "                            queue.append((x, y + 1))\n",
    "                            grid[x][y + 1] = 2\n",
    "                        if x > 0 and grid[x - 1][y] == \"1\":\n",
    "                            queue.append((x - 1, y))\n",
    "                            grid[x - 1][y] = 2\n",
    "                        if x < row - 1 and grid[x + 1][y] == \"1\":\n",
    "                            queue.append((x + 1, y))\n",
    "                            grid[x + 1][y] = 2\n",
    "        return total"
   ]
  },
  {
   "cell_type": "markdown",
   "metadata": {},
   "source": [
    "## 전화번호 조합"
   ]
  },
  {
   "cell_type": "code",
   "execution_count": null,
   "metadata": {},
   "outputs": [],
   "source": [
    "class Solution:\n",
    "    def letterCombinations(self, digits: str) -> List[str]:\n",
    "        \n",
    "        #조건\n",
    "        #1.전달되는 숫자의 수는 0 <= 숫자의 수 <= 4\n",
    "        #2.시간적인 제약 조건은 없다\n",
    "        #조금 지저분할 수 있지만, 다음과 같이 지정해준다.\n",
    "        \n",
    "        letter_dic=[]\n",
    "        \n",
    "        letter = char(100)\n",
    "        print(letter)\n",
    "        \n",
    "        for i in range(2,10):\n",
    "            \n",
    "            #7을 기준으로 알파벳 숫자가 나뉘어지기 때문에\n",
    "            if i <7 :\n",
    "                letter_dic[i] = "
   ]
  }
 ],
 "metadata": {
  "kernelspec": {
   "display_name": "aiffel",
   "language": "python",
   "name": "aiffel"
  },
  "language_info": {
   "codemirror_mode": {
    "name": "ipython",
    "version": 3
   },
   "file_extension": ".py",
   "mimetype": "text/x-python",
   "name": "python",
   "nbconvert_exporter": "python",
   "pygments_lexer": "ipython3",
   "version": "3.7.9"
  }
 },
 "nbformat": 4,
 "nbformat_minor": 4
}
