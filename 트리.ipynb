{
 "cells": [
  {
   "cell_type": "markdown",
   "metadata": {},
   "source": [
    "## 특징           \n",
    "\n",
    "1. 재귀로 정의된(Recursively Defined)        \n",
    "2. 자기 참조(Self-Referential)       \n",
    "3. 서브트리들로 구성         \n",
    "\n",
    "\n",
    "Root(가장 위의 뿌리 노드)      \n",
    "- 간선(Edge)로 자식노드(Child) 와 연결되어 있다.       \n",
    "- 차수(Degree) : 자식 노드의 개수      \n",
    "- 크기(Size) : 자신을 포함한 모든 자식 노드의 개수\n",
    "- 높이(Height) : 현재에서 Leaf 까지의 거리     \n",
    "- 깊이(Depth) : 루트에서부터 현재 노드까지의 거리\n",
    "\n",
    "\n",
    "__그래프와의 차이 : 트리는 순환하지 않는다__ (일방향)\n",
    "\n",
    "\n",
    "트리의 종류(가장 많이 사용하는 트리의 종류)\n",
    "- 이진트리\n",
    "- 이진탐색트리\n",
    "\n",
    "1. 정이진트리 : 모든 노드가 0아니면 2의 자식을 갖는다              \n",
    "2. 완전이진트리 : 마지막 노드를 제외하고는 다 채워져 있으며, 마지막 레벨의 모든 노드는 왼쪽부터        \n",
    "3. 포화이진트리 : 모든 노드가 2개의 자식 노드를 갖고 있다"
   ]
  },
  {
   "cell_type": "markdown",
   "metadata": {},
   "source": [
    "### DFS"
   ]
  },
  {
   "cell_type": "code",
   "execution_count": 1,
   "metadata": {},
   "outputs": [],
   "source": [
    "def dfs(graph, v, visited):\n",
    "    visited[v] = True\n",
    "    print(v, end=' ')\n",
    "    \n",
    "    for i in graph[v]:\n",
    "        if not visited[i]:\n",
    "            dfs(graph, i, visited)"
   ]
  },
  {
   "cell_type": "code",
   "execution_count": 2,
   "metadata": {},
   "outputs": [],
   "source": [
    "from collections import deque\n",
    "\n",
    "def bfs(graph, start, visited):\n",
    "    \n",
    "    queue = deque([start])\n",
    "    \n",
    "    visited[start] = True\n",
    "    \n",
    "    while queue:\n",
    "        v = queue.popleft()\n",
    "        print(v, end=' ')\n",
    "        \n",
    "        for i in graph[v]:\n",
    "            if not visited[i]:\n",
    "                queue.append(i)\n",
    "                visited[i] = True"
   ]
  },
  {
   "cell_type": "markdown",
   "metadata": {},
   "source": [
    "![시도1](./PostingPic/시도1.png)"
   ]
  },
  {
   "cell_type": "markdown",
   "metadata": {},
   "source": [
    "![시도2](./PostingPic/시도2.png)"
   ]
  },
  {
   "cell_type": "markdown",
   "metadata": {},
   "source": [
    "## 책 내용 풀이"
   ]
  },
  {
   "cell_type": "code",
   "execution_count": null,
   "metadata": {},
   "outputs": [],
   "source": [
    "# Definition for a binary tree node.\n",
    "class TreeNode:\n",
    "     def __init__(self, val=0, left=None, right=None):\n",
    "        self.val = val\n",
    "        self.left = left\n",
    "        self.right = right\n",
    "\n",
    "class Solution:\n",
    "    def maxDepth(self, root: TreeNode) -> int:\n",
    "        \n",
    "        if root is None:\n",
    "            return 0\n",
    "        \n",
    "        queue = collections.deque([root])\n",
    "        depth = 0\n",
    "        \n",
    "        while queue:\n",
    "            depth += 1\n",
    "            \n",
    "            for _ in range(len(queue)):\n",
    "                count += 1\n",
    "                cur_root = queue.popleft()\n",
    "                \n",
    "                print(cur_root)\n",
    "                \n",
    "                if cur_root.left:\n",
    "                    queue.append(cur_root.left)\n",
    "                    \n",
    "                if cur_root.right:\n",
    "                    queue.append(cur_root.right)\n",
    "                    \n",
    "            \n",
    "        return depth"
   ]
  },
  {
   "cell_type": "markdown",
   "metadata": {},
   "source": [
    "## 모범답안 1 - 가장 빠른 재귀적 방식"
   ]
  },
  {
   "cell_type": "code",
   "execution_count": null,
   "metadata": {},
   "outputs": [],
   "source": [
    "class Solution:\n",
    "    def __init__(self):\n",
    "        self.ans = 0\n",
    "        \n",
    "    def maxDepth(self, root: TreeNode) -> int:\n",
    "        \n",
    "        #노드와, 노드의 뎁스를 가지고 들어오게 된다.\n",
    "        def helper(node, depth):\n",
    "        \n",
    "            #만약 더 이상 노드가 없다면 return\n",
    "            if not node:\n",
    "                return \n",
    "\n",
    "            #만약 노드의 left와 right가 없다면, \n",
    "            if not node.left and not node.right:\n",
    "                \n",
    "                #노드의 self.ans와 depth(이번 길이) 중에 최대를 택하여 항상 ans가 최대 깊이를 갖도록 한다.\n",
    "                self.ans = max(self.ans, depth)\n",
    "            \n",
    "            #레프트와 라이트에 각각 helper를 부른다.\n",
    "            #항상 양쪽 모두를 탐색하고, 공통의 최댓값을 ans에 저장\n",
    "            helper(node.left, depth+1)\n",
    "            helper(node.right, depth+1)\n",
    "            \n",
    "        \n",
    "        helper(root, 1)\n",
    "        return self.ans"
   ]
  },
  {
   "cell_type": "markdown",
   "metadata": {},
   "source": [
    "## 모범답안 2 - 가장 짧은 재귀적 방식(3)"
   ]
  },
  {
   "cell_type": "code",
   "execution_count": null,
   "metadata": {},
   "outputs": [],
   "source": [
    "class Solution:\n",
    "    def maxDepth(self, root: TreeNode) -> int:\n",
    "        \n",
    "        #루트에 아무 값이 없으면 return\n",
    "        if not root : return 0\n",
    "        \n",
    "        #계속 재귀적으로 maxDepth의 오른쪽/왼쪽을 각각 불러서, max값을 리턴함\n",
    "        # +1이 붙는 건 첫 루트 노드에서의 시도(첫번째 maxdepth를 수행했다는 것)도 세어줘야 하기 때문\n",
    "        else : return max(self.maxDepth(root.left) + 1 , self.maxDepth(root.right) + 1)"
   ]
  },
  {
   "cell_type": "markdown",
   "metadata": {},
   "source": [
    "## 모범답안 3 - 가장 많은 사람들이 제출한 방식(5), 대중픽"
   ]
  },
  {
   "cell_type": "code",
   "execution_count": null,
   "metadata": {},
   "outputs": [],
   "source": [
    "class Solution:\n",
    "    def maxDepth(self, root: TreeNode) -> int:\n",
    "        \n",
    "        #만약 첫 루트노트부터 left, right가 없다면 반환할 수 있게끔 level이라는 안전장치를 해 두었다.\n",
    "        res = self.func(root, 0)\n",
    "        return res\n",
    "    \n",
    "    def func(self, root, level): \n",
    "        if root == None:\n",
    "            return level\n",
    "        \n",
    "        r1 = self.func(root.left, level+1)\n",
    "        r2 = self.func(root.right, level+1)\n",
    "        return max(r1, r2)"
   ]
  },
  {
   "cell_type": "markdown",
   "metadata": {},
   "source": [
    "# leetcode 543"
   ]
  },
  {
   "cell_type": "code",
   "execution_count": null,
   "metadata": {},
   "outputs": [],
   "source": [
    "# Definition for a binary tree node.\n",
    "# class TreeNode:\n",
    "#     def __init__(self, val=0, left=None, right=None):\n",
    "#         self.val = val\n",
    "#         self.left = left\n",
    "#         self.right = right\n",
    "\n",
    "#형제 노드의 수 세기\n",
    "class Solution:\n",
    "    def __init__(self):\n",
    "        self.result=0\n",
    "    \n",
    "    def diameterOfBinaryTree(self, root: TreeNode) -> int:\n",
    "        \n",
    "        def deepdown(node):\n",
    "            \n",
    "            #노드가 없다면 \n",
    "            #아무것도 탐색하지 않았으므로 그냥 break\n",
    "            if not node:\n",
    "                print('탐색할 노드가 없으니 돌아가겠다')\n",
    "                return\n",
    "                \n",
    "            #이 노드에 더이상 딸린 노드가 없다면 얘는 여기서 종료    \n",
    "            if not node.left and not node.right:\n",
    "                self.result = self.result+1\n",
    "                \n",
    "                \n",
    "            deepdown(node.left)\n",
    "            deepdown(node.right)\n",
    "            \n",
    "        deepdown(root)\n",
    "        \n",
    "        return self.result"
   ]
  },
  {
   "cell_type": "code",
   "execution_count": null,
   "metadata": {},
   "outputs": [],
   "source": [
    "# Definition for a binary tree node.\n",
    "# class TreeNode:\n",
    "#     def __init__(self, val=0, left=None, right=None):\n",
    "#         self.val = val\n",
    "#         self.left = left\n",
    "#         self.right = right\n",
    "class Solution:\n",
    "    def mergeTrees(self, root1: TreeNode, root2: TreeNode) -> TreeNode:\n",
    "        \n",
    "        queue_1 = collections.deque([root1])\n",
    "        queue_2 = collections.deque([root2])\n",
    "        \n",
    "        array_1, array_2 = [], []\n",
    "        \n",
    "        while queue_1 or queue_2:\n",
    "            \n",
    "            current_1 = queue_1.popleft()\n",
    "            current_2 = queue_2.popleft()\n",
    "            \n",
    "            zipper = [current_1, current_2]\n",
    "            adder = [array_1, array_2]\n",
    "            \n",
    "            for i, v in zip(zipper, adder):\n",
    "                \n",
    "                #만약 i가 없다면\n",
    "                if not i:\n",
    "                    return\n",
    "                \n",
    "                #만약 left와 right 둘 다 없다면 break\n",
    "                if not i.left and not i.right:\n",
    "                    v.append(0)\n",
    "                    break\n",
    "                    \n",
    "                v.append(i.val)\n",
    "                self.mergeTrees(current_1, current_2)\n",
    "            \n",
    "        print(array_1)\n",
    "        print(array_2)"
   ]
  },
  {
   "cell_type": "code",
   "execution_count": null,
   "metadata": {},
   "outputs": [],
   "source": []
  },
  {
   "cell_type": "code",
   "execution_count": 4,
   "metadata": {},
   "outputs": [],
   "source": [
    "# Definition for a binary tree node.\n",
    "class TreeNode:\n",
    "    def __init__(self, val=0, left=None, right=None):\n",
    "        self.val = val\n",
    "        self.left = left\n",
    "        self.right = right\n",
    "\n",
    "        \n",
    "class Solution:\n",
    "    def mergeTrees(self, root1: TreeNode, root2: TreeNode) -> TreeNode:\n",
    "        \n",
    "        queue_1 = collections.deque([root1])\n",
    "        queue_2 = collections.deque([root2])\n",
    "        \n",
    "        array_1, array_2 = [], []\n",
    "        \n",
    "        while queue_1 or queue_2:\n",
    "            \n",
    "            current_1 = queue_1.popleft()\n",
    "            current_2 = queue_2.popleft()\n",
    "            \n",
    "            zipper = [current_1, current_2]\n",
    "            adder = [array_1, array_2]\n",
    "            \n",
    "            for i, v in zip(zipper, adder):\n",
    "                \n",
    "                #만약 i가 없다면\n",
    "                if not i:\n",
    "                    return\n",
    "                \n",
    "                #만약 left와 right 둘 다 없다면 break\n",
    "                if not i.left and not i.right:\n",
    "                    v.append(0)\n",
    "                    break\n",
    "                    \n",
    "\n",
    "                queue_1.append(current_1)\n",
    "                queue_2.append(current_2)\n",
    "                \n",
    "                v.append(i.val)\n",
    "                \n",
    "            \n",
    "        print(array_1)\n",
    "        print(array_2)"
   ]
  },
  {
   "cell_type": "code",
   "execution_count": 7,
   "metadata": {},
   "outputs": [],
   "source": [
    "root1 = [1,3,2,5] \n",
    "root2 = [2,1,3,0,4,0,7]"
   ]
  },
  {
   "cell_type": "code",
   "execution_count": null,
   "metadata": {},
   "outputs": [],
   "source": [
    "# Definition for a binary tree node.\n",
    "# class TreeNode:\n",
    "#     def __init__(self, val=0, left=None, right=None):\n",
    "#         self.val = val\n",
    "#         self.left = left\n",
    "#         self.right = right\n",
    "class Solution:\n",
    "    def mergeTrees(self, root1: TreeNode, root2: TreeNode) -> TreeNode:\n",
    "        \n",
    "        queue_1 = collections.deque([root1])\n",
    "        queue_2 = collections.deque([root2])\n",
    "        \n",
    "        array_1, array_2 = [], []\n",
    "        \n",
    "        result = []\n",
    "        \n",
    "        while queue_1 or queue_2:\n",
    "            \n",
    "            current_1 = queue_1.popleft()\n",
    "            current_2 = queue_2.popleft()\n",
    "            \n",
    "            zipper = [current_1, current_2]\n",
    "            adder = [array_1, array_2]\n",
    "            \n",
    "            for i, v in zip(zipper, adder):\n",
    "                \n",
    "                #만약 i가 없다면\n",
    "                if not i:\n",
    "                    return\n",
    "                \n",
    "                #만약 left와 right 둘 다 없다면 break\n",
    "                if not i.left and not i.right:\n",
    "                    v.append(0)\n",
    "                    break\n",
    "                    \n",
    "                v.append(i.val)\n",
    "                \n",
    "                queue_1.append(current_1)\n",
    "                queue_2.append(current_2)\n",
    "                \n",
    "        \n",
    "        if(len(array_1) > len(array_2)):\n",
    "            for i in ragne(len(array_1)):\n",
    "                result[i].append(array_1[i] + array_2[i])\n",
    "                \n",
    "        else:\n",
    "            for i in range(len(array_2)):\n",
    "                result[i].append(array_1[1] + array_2[i])\n",
    "\n",
    "                \n",
    "        return result\n",
    "    "
   ]
  },
  {
   "cell_type": "code",
   "execution_count": null,
   "metadata": {},
   "outputs": [],
   "source": []
  },
  {
   "cell_type": "code",
   "execution_count": null,
   "metadata": {},
   "outputs": [],
   "source": []
  },
  {
   "cell_type": "code",
   "execution_count": null,
   "metadata": {},
   "outputs": [],
   "source": []
  }
 ],
 "metadata": {
  "kernelspec": {
   "display_name": "aiffel",
   "language": "python",
   "name": "aiffel"
  },
  "language_info": {
   "codemirror_mode": {
    "name": "ipython",
    "version": 3
   },
   "file_extension": ".py",
   "mimetype": "text/x-python",
   "name": "python",
   "nbconvert_exporter": "python",
   "pygments_lexer": "ipython3",
   "version": "3.7.9"
  }
 },
 "nbformat": 4,
 "nbformat_minor": 4
}
