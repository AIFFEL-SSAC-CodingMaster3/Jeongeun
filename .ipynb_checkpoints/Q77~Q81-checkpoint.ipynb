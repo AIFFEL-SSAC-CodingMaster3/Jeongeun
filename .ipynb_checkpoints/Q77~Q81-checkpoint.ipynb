{
 "cells": [
  {
   "cell_type": "markdown",
   "metadata": {},
   "source": [
    "## Q77(424) *발표 \n",
    "---"
   ]
  },
  {
   "cell_type": "code",
   "execution_count": null,
   "metadata": {},
   "outputs": [],
   "source": [
    "class Solution:\n",
    "    def characterReplacement(self, s: str, k: int) -> int:\n",
    "        \n",
    "        #카운트를 하나 잡는다.\n",
    "        count = 0\n",
    "        pointer = 0\n",
    "        target = 0\n",
    "        end = len(s)-1\n",
    "        \n",
    "        #포인터가 주어진 string의 길이-1 일 경우까지, 그리고\n",
    "        #count가 k번의 기회를 아직 다 쓰지 않았을 때 까지만\n",
    "        while (target < end):\n",
    "            \n",
    "            if count <= k:\n",
    "            \n",
    "                #대상자가 타겟과 다를 경우\n",
    "                if s[target] != s[target+1] :\n",
    "                \n",
    "                    #카운트를 올리고, 포인터도 이동한다. \n",
    "                    count += 1\n",
    "                    pointer += \n",
    "                    \n",
    "                else:\n",
    "                    pointer += 1\n",
    "                    \n",
    "                \n",
    "        return pointer+1"
   ]
  },
  {
   "cell_type": "markdown",
   "metadata": {},
   "source": [
    "#### 책에서의 풀이        \n",
    "----\n",
    "\n",
    "1. 투 포인터, 슬라이딩 윈도우, 카운터를 모두 이용"
   ]
  },
  {
   "cell_type": "code",
   "execution_count": null,
   "metadata": {},
   "outputs": [],
   "source": [
    "left, right = 0, 0\n",
    "counts = collections.Counter()\n",
    "\n",
    "for right in range(1, len(s)+1):\n",
    "    counts[s[right-1]] += 1\n",
    "    \n",
    "    max_char_n = counts.most_common(1)[0][1]\n",
    "    \n",
    "    \n",
    "    if right-left-max_char_n > k :\n",
    "        counts[s[left]] -= 1\n",
    "        left += 1\n",
    "        \n",
    "return right-left"
   ]
  },
  {
   "cell_type": "markdown",
   "metadata": {},
   "source": [
    "#### 가장 많은 사람이 제출한 코드"
   ]
  },
  {
   "cell_type": "code",
   "execution_count": null,
   "metadata": {},
   "outputs": [],
   "source": [
    "class Solution:\n",
    "    \n",
    "    def characterReplacement(self, s: str, k: int) -> int:\n",
    "\n",
    "        movingFreqDict = collections.defaultdict(int)\n",
    "        maxFreq, maxLen, i, j = 0, 0, 0, 0\n",
    "        \n",
    "        while j < len(s):\n",
    "            movingFreqDict[s[j]] += 1\n",
    "            maxFreq = max(maxFreq, movingFreqDict[s[j]])\n",
    "            \n",
    "            if (j - i + 1) - maxFreq > k:\n",
    "                # start poping from the top\n",
    "                movingFreqDict[s[i]] -= 1\n",
    "                i += 1\n",
    "            else:\n",
    "                maxLen = max(maxLen, j - i + 1)\n",
    "                \n",
    "            j += 1\n",
    "                \n",
    "        return maxLen"
   ]
  },
  {
   "cell_type": "markdown",
   "metadata": {},
   "source": [
    "#### 가장 빠른 코드"
   ]
  },
  {
   "cell_type": "code",
   "execution_count": null,
   "metadata": {},
   "outputs": [],
   "source": [
    "class Solution:\n",
    "    def characterReplacement(self, s: str, k: int) -> int:\n",
    "        charMap = defaultdict(int)\n",
    "        \n",
    "        left = 0\n",
    "        maxFreq = 0\n",
    "        maxLen = 0\n",
    "        \n",
    "        for right in range(len(s)):\n",
    "            charMap[s[right]] += 1\n",
    "            \n",
    "            if charMap[s[right]] > maxFreq:\n",
    "                maxFreq = charMap[s[right]]\n",
    "                \n",
    "            if right - left + 1 - maxFreq <= k:\n",
    "                maxLen = max(maxLen, right - left + 1)\n",
    "            else:\n",
    "                charMap[s[left]] -= 1\n",
    "                left += 1\n",
    "            \n",
    "        return maxLen"
   ]
  },
  {
   "cell_type": "markdown",
   "metadata": {},
   "source": [
    "#### 특이한 풀이"
   ]
  },
  {
   "cell_type": "code",
   "execution_count": null,
   "metadata": {},
   "outputs": [],
   "source": [
    "class Solution:\n",
    "    def characterReplacement(self, s: str, k: int) -> int:\n",
    "        wdow = [0] * 26\n",
    "        ans = i = j = maxCnt = 0\n",
    "        while j < len(s):\n",
    "            wdow[ord(s[j])-ord(\"A\")] += 1 \n",
    "            maxCnt = max(maxCnt, wdow[ord(s[j])-ord(\"A\")])\n",
    "            \n",
    "            while j - i + 1 - maxCnt > k: \n",
    "                wdow[ord(s[i])-ord(\"A\")] -= 1 \n",
    "                i += 1 \n",
    "\n",
    "            ans = max(ans, j - i + 1)            \n",
    "            j += 1 \n",
    "        \n",
    "        return ans "
   ]
  },
  {
   "cell_type": "markdown",
   "metadata": {},
   "source": [
    "## Q78(122)            \n",
    "---"
   ]
  },
  {
   "cell_type": "code",
   "execution_count": null,
   "metadata": {},
   "outputs": [],
   "source": [
    "class Solution:\n",
    "    def maxProfit(self, prices: List[int]) -> int:\n",
    "        \n",
    "        profit =0\n",
    "        \n",
    "        for i in range(len(prices)-1):\n",
    "            \n",
    "            if prices[i] < prices[i+1]:\n",
    "                \n",
    "                profit += (prices[i+1] - prices[i])\n",
    "            \n",
    "        return profit"
   ]
  },
  {
   "cell_type": "markdown",
   "metadata": {},
   "source": [
    "Runtime: 60 ms, faster than 70.96% of Python3 online submissions for Best Time to Buy and Sell Stock II.\n",
    "Memory Usage: 15 MB, less than 63.42% of Python3 online submissions for Best Time to Buy and Sell Stock II."
   ]
  },
  {
   "cell_type": "markdown",
   "metadata": {},
   "source": [
    "## Q79(406)        \n",
    "---"
   ]
  },
  {
   "cell_type": "code",
   "execution_count": null,
   "metadata": {},
   "outputs": [],
   "source": [
    "class Solution:\n",
    "    def reconstructQueue(self, people: List[List[int]]) -> List[List[int]]:\n",
    "        \n",
    "        for i in range(1, len(people)):\n",
    "            \n",
    "            j = i-1\n",
    "            key = people[i][1]\n",
    "            \n",
    "            while people[j][1] > key and j>=0:\n",
    "                people[j+1][1] = people[j][1]\n",
    "                j = j-1\n",
    "                \n",
    "            people[j+1][1] = key\n",
    "            \n",
    "            \n",
    "        for h in range(1, len(people)):\n",
    "            \n",
    "            j = h-1\n",
    "            key = people[h][0]\n",
    "             \n",
    "            while (people[j][0] > key):\n",
    "                if j >=0:\n",
    "                    people[j+1][0] = people[j][0]\n",
    "                    j = j-1\n",
    "                \n",
    "                people[j+1][0] = key\n",
    "            \n",
    "        print(people)"
   ]
  },
  {
   "cell_type": "markdown",
   "metadata": {},
   "source": [
    "## Q80(621)                \n",
    "---"
   ]
  },
  {
   "cell_type": "code",
   "execution_count": null,
   "metadata": {},
   "outputs": [],
   "source": [
    "class Solution:\n",
    "    def leastInterval(self, tasks: List[str], n: int) -> int:\n",
    "        \n",
    "        count = len(tasks)\n",
    "        \n",
    "        #만약 task가 종류보다 작거나 같으면 문제가 생김.\n",
    "        #종류별 개수가 필요함\n",
    "        \n",
    "        task_dict = {}\n",
    "        \n",
    "        for i in range(len(tasks)):\n",
    "            \n",
    "            if tasks[i] in task_dict:\n",
    "                task_dict[tasks[i]] += 1\n",
    "                \n",
    "            else:\n",
    "                task_dict[tasks[i]] = 1\n",
    "            \n",
    "        for i, v in task_dict.items():\n",
    "            \n",
    "            if v <= n:\n",
    "                count += (n-v)\n",
    "                \n",
    "        return count\n",
    "                "
   ]
  },
  {
   "cell_type": "markdown",
   "metadata": {},
   "source": [
    "## Q81(134)           \n",
    "---"
   ]
  },
  {
   "cell_type": "code",
   "execution_count": null,
   "metadata": {},
   "outputs": [],
   "source": [
    "class Solution:\n",
    "    def canCompleteCircuit(self, gas: List[int], cost: List[int]) -> int:\n",
    "        \n",
    "        result = []\n",
    "        index = []\n",
    "        \n",
    "        \n",
    "        for i in range(len(gas)):\n",
    "            temp = gas[i] - cost[i]\n",
    "            result.append(temp)\n",
    "            \n",
    "        print(result)\n",
    "\n",
    "        \n",
    "        for i in range(len(result)):\n",
    "            \n",
    "            if result[i] > 0:\n",
    "                index.append(i)\n",
    "                \n",
    "        print(index)\n",
    "        \n",
    "        #양수로 시작하는 인덱스가 하나도 없으므로 \n",
    "        #목적에 맞는 방문법은 존재하지 않으므로 -1 리턴\n",
    "        if len(index) <= 0:\n",
    "            return -1\n",
    "      \n",
    "        def round_gas_stataion(index):\n",
    "            \n",
    "            sum_gas = 0\n",
    "            \n",
    "            while index:\n",
    "            \n",
    "                false_index = index.pop()\n",
    "                print(index)\n",
    "            \n",
    "                #정렬순서\n",
    "                counts = []\n",
    "                counts.append(false_index)\n",
    "            \n",
    "                for i in range(0, false_index):\n",
    "                    counts.append(i)\n",
    "                \n",
    "                print(counts)\n",
    "            \n",
    "                for i in range(len(counts)):\n",
    "                    if sum_gas >= 0:\n",
    "                        sum_gas += result[counts[i]]\n",
    "                        print('sum_gas', sum_gas)\n",
    "                    else:\n",
    "                        round_gas_stataion(index)\n",
    "        \n",
    "                return false_index \n",
    "                \n",
    "        return round_gas_stataion(index)"
   ]
  }
 ],
 "metadata": {
  "kernelspec": {
   "display_name": "aiffel",
   "language": "python",
   "name": "aiffel"
  },
  "language_info": {
   "codemirror_mode": {
    "name": "ipython",
    "version": 3
   },
   "file_extension": ".py",
   "mimetype": "text/x-python",
   "name": "python",
   "nbconvert_exporter": "python",
   "pygments_lexer": "ipython3",
   "version": "3.7.9"
  }
 },
 "nbformat": 4,
 "nbformat_minor": 4
}
