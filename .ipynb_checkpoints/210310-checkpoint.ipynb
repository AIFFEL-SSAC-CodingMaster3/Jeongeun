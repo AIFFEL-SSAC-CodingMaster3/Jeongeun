{
 "cells": [
  {
   "cell_type": "markdown",
   "metadata": {},
   "source": [
    "### 최단 경로 알고리즘의 아이디어        \n",
    "\n",
    "1. graph 자료구조를 사용       \n",
    "\n",
    "---\n",
    "\n",
    "1. 출발 노드와 도착 노드를 설정        \n",
    "2. 알고 있는 모든 거리 값을 부여        \n",
    "3. 출발 노드부터 시작하고, 방문하지 않은 인접 노드를 방문, 거리 계산, 현재 아는 거리보다 짧으며 해당 값으로 갱신      \n",
    "4. 현재 노드에 붙어있는 모든 미방문 노드를 계산했다면, 현재 노드는 방문한 노드이므로 미방문 집합에서 제거      \n",
    "5. 도착 노드가 미방문 노드 집합에서 벗어나면, 알고리즘을 종료"
   ]
  },
  {
   "cell_type": "markdown",
   "metadata": {},
   "source": [
    "## 다익스트라 알고리즘     "
   ]
  },
  {
   "cell_type": "code",
   "execution_count": 8,
   "metadata": {},
   "outputs": [],
   "source": [
    "import heapq  # 우선순위 큐 구현을 위함\n",
    "\n",
    "def dijkstra(graph, start):\n",
    "\n",
    "    distances = {node: float('inf') for node in graph}  # start로 부터의 거리 값을 저장하기 위함\n",
    "    distances[start] = 0  # 시작 값은 0이어야 함\n",
    "    queue = []\n",
    "    heapq.heappush(queue, [distances[start], start])  # 시작 노드부터 탐색 시작 하기 위함.\n",
    "\n",
    "    while queue:  # queue에 남아 있는 노드가 없으면 끝\n",
    "        current_distance, current_destination = heapq.heappop(queue)  # 탐색 할 노드, 거리를 가져옴.\n",
    "\n",
    "        if distances[current_destination] < current_distance:  # 기존에 있는 거리보다 길다면, 볼 필요도 없음\n",
    "            continue\n",
    "    \n",
    "    for new_destination, new_distance in graph[current_destination].items():\n",
    "        distance = current_distance + new_distance  # 해당 노드를 거쳐 갈 때 거리    \n",
    "        if distance < distances[new_destination]:  # 알고 있는 거리 보다 작으면 갱신\n",
    "            distances[new_destination] = distance\n",
    "            heapq.heappush(queue, [distance, new_destination])  # 다음 인접 거리를 계산 하기 위해 큐에 삽입\n",
    "    \n",
    "    return distances"
   ]
  },
  {
   "cell_type": "code",
   "execution_count": 9,
   "metadata": {},
   "outputs": [],
   "source": [
    "graph = {\n",
    "    'A': {'B': 8, 'C': 1, 'D': 2},\n",
    "    'B': {},\n",
    "    'C': {'B': 5, 'D': 2},\n",
    "    'D': {'E': 3, 'F': 5},\n",
    "    'E': {'F': 1},\n",
    "    'F': {'A': 5}\n",
    "}"
   ]
  },
  {
   "cell_type": "code",
   "execution_count": 10,
   "metadata": {},
   "outputs": [
    {
     "name": "stdout",
     "output_type": "stream",
     "text": [
      "{'A': 0, 'B': 8, 'C': 1, 'D': 2, 'E': inf, 'F': inf}\n"
     ]
    }
   ],
   "source": [
    "print(dijkstra(graph, 'A'))"
   ]
  },
  {
   "cell_type": "markdown",
   "metadata": {},
   "source": [
    "## K경유지 내 가장 저렴한 항공권"
   ]
  },
  {
   "cell_type": "code",
   "execution_count": 11,
   "metadata": {},
   "outputs": [],
   "source": [
    "# k개의 경유지 이내 \n",
    "# 시작점 scr \n",
    "# 도착점 dst\n",
    "\n",
    "n=3\n",
    "edges = [[0,1,100],[1,2,100],[0,2,500]]\n",
    "\n",
    "scr = 0 \n",
    "dst = 2\n",
    "k = 0"
   ]
  },
  {
   "cell_type": "code",
   "execution_count": null,
   "metadata": {},
   "outputs": [],
   "source": []
  },
  {
   "cell_type": "code",
   "execution_count": null,
   "metadata": {},
   "outputs": [],
   "source": [
    "class Solution:\n",
    "    def canFinish(self, numCourses: int, prerequisites: List[List[int]]) -> bool:\n",
    "        \n",
    "        \n",
    "        prerequisites = [[1,0],[0,1]]\n",
    "        \n",
    "        #prerequisites를 개별로 담아놓을 것\n",
    "        check_list = []\n",
    "        target = []\n",
    "        \n",
    "        #몇 개씩 끊을것인지\n",
    "        slice_count = numCourses\n",
    "        \n",
    "        #prerequisites 안의 요소를 까서 list 넣는다.\n",
    "        for i in prerequisites:\n",
    "            for v in i:\n",
    "                check_list.append(v)\n",
    "                \n",
    "        #check_list에 내용물만 남은 요소들이 남아 있으므로, 이를 slice_count로 슬라이스한다.\n",
    "        print(check_list)\n",
    "        \n",
    "        if len(check_list) > 2:\n",
    "            target.append(check_list[0::2])\n",
    "            \n",
    "            \n",
    "        \n",
    "            return False\n",
    "        else :\n",
    "            return True"
   ]
  }
 ],
 "metadata": {
  "kernelspec": {
   "display_name": "aiffel",
   "language": "python",
   "name": "aiffel"
  },
  "language_info": {
   "codemirror_mode": {
    "name": "ipython",
    "version": 3
   },
   "file_extension": ".py",
   "mimetype": "text/x-python",
   "name": "python",
   "nbconvert_exporter": "python",
   "pygments_lexer": "ipython3",
   "version": "3.7.9"
  }
 },
 "nbformat": 4,
 "nbformat_minor": 4
}
