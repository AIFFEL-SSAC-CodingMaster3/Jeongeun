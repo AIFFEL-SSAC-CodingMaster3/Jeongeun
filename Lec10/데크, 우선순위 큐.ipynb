{
 "cells": [
  {
   "cell_type": "markdown",
   "metadata": {},
   "source": [
    "# 데크(De+queue = Deque)                 \n",
    "\n",
    "- 스택과 큐의 연산을 모두 갖고 있는 복합 자료형               \n",
    "- 데크는 더블 엔디드 큐(Double Ended Queue)의 줄임말로, 글자 그대로 양쪽 끝을 모두 추출할 수 있는, 큐를 일반화한 형태의 추상 자료형이다.           \n",
    "\n",
    "__특징__   \n",
    "1. 양쪽에서 삭제와 삽입을 모두 처리할 수 있다.           \n",
    "2. 스택과 큐의 특징을 모두 갖추고 있다.         \n",
    "3. 배열이나 연결 리스트로 모두 가능하지만, 이중 연결 리스트로 구현하는 것이 가장 잘 어울린다(고 한다.)     "
   ]
  },
  {
   "cell_type": "markdown",
   "metadata": {},
   "source": [
    "[기본 제공하는 Dequeue에 대해 알아보자](https://www.youtube.com/watch?v=Fh0C0EGW0ls)              \n",
    "[python 3. collections-Deque](https://docs.python.org/3/library/collections.html#collections.deque)       \n",
    "\n",
    "\n",
    "![기본 설명](./PostingPic/설명.png)       "
   ]
  },
  {
   "cell_type": "markdown",
   "metadata": {},
   "source": [
    "- append를 이용해 left-to-right로 초기화된 deque 객체를 리턴한다. (iterable한)                 \n",
    "- 스택과 큐의 일반화된 형태.                        \n",
    "- 쓰레드-세이프하며, 양 쪽에서 가능한 삽입/출력으로 메모리를 사용할 때 효율적이다.(양 쪽 어디에서는 같은 O(1)의 시간복잡도로)       \n",
    "\n",
    "- 리스트가 비슷한 동작을 지원하지만, 리스트는 고정된 길이의 운영에 최적화되어 있어 더 많은 시간복잡도(O(n)을 요구한다.    \n",
    "\n",
    "- deque의 maxlen이 정해져 있지 않으면, 임시 길이로 설정된다.\n",
    "- 만약 고정된 최대 길이를 넘어가게 되면, 새 자료가 삽입될 때 반대쪽에서 자료가 버려진다.           \n",
    "- Bounded length의 deque는 유닉스 환경에서의 tail 과 비슷한 기능을 지원한다. 이는 트랜잭션이나, 가장 최근에 사용된 데이터를 추적할 때 유용하다.    \n",
    "\n",
    "> - 쓰레드 세이프 : 어떤 객체가 멀티 쓰레드로부터 동시에 접근되어도 프로그램 실행에 이상이 없이 안전함.       \n",
    "> - Unix.tail == data.tail(5)"
   ]
  },
  {
   "cell_type": "markdown",
   "metadata": {},
   "source": [
    "![삽입](./PostingPic/1.png)         \n",
    "\n"
   ]
  },
  {
   "cell_type": "markdown",
   "metadata": {},
   "source": [
    "1. append() : 오른쪽에서 자료형 삽입               \n",
    "2. appendleft() : 왼쪽에서 자료형 삽입          \n",
    "3. clear() : deque안의 자료를 모두 지우고, 길이도 0으로 만든다.        \n",
    "4. copy()  : deque를 얕은복사          \n",
    "5. count(x) : x라는 값을 가진 자료의 수를 센다.                \n",
    "6. extend(iterable) : iterable한 자료를 오른쪽에 삽입하여 늘린다.              \n",
    "7. extendleft(iterable) : 위와 마찬가지. 단, 왼쪽으로 들어가기 때문에 반대 순서데이          \n",
    "8. index(x) : deque 안에서 x의 위치를 반환(x가 없으면 value Error)           \n",
    "9. insert(i, x) : i위치에 x값을 삽입 "
   ]
  },
  {
   "cell_type": "markdown",
   "metadata": {},
   "source": [
    "![출력](./PostingPic/2.png)"
   ]
  },
  {
   "cell_type": "markdown",
   "metadata": {},
   "source": [
    "1. pop() : 오른쪽에서 꺼내기\n",
    "2. popleft() : 왼쪽에서 꺼내기             \n",
    "3. remove(x) : 첫번째 걔를... 삭제...!      \n",
    "4. reverse() : 거꾸로 뒤집기      \n",
    "5. rotate(n=1) : 오른쪽으로 deque를 n만큼 밀어낸다. deque가 비어있지 않으면 pop()과 같다.   \n",
    "6. maxlen : 최고 긴 길이를...!"
   ]
  },
  {
   "cell_type": "code",
   "execution_count": 5,
   "metadata": {},
   "outputs": [
    {
     "data": {
      "text/plain": [
       "range(0, 5)"
      ]
     },
     "execution_count": 5,
     "metadata": {},
     "output_type": "execute_result"
    }
   ],
   "source": [
    "# 실습\n",
    "\n",
    "from collections import deque\n",
    "\n",
    "iterable = range(5)\n",
    "iterable"
   ]
  },
  {
   "cell_type": "code",
   "execution_count": 6,
   "metadata": {},
   "outputs": [
    {
     "data": {
      "text/plain": [
       "deque([0, 1, 2, 3, 4])"
      ]
     },
     "execution_count": 6,
     "metadata": {},
     "output_type": "execute_result"
    }
   ],
   "source": [
    "d = deque(iterable)\n",
    "d"
   ]
  },
  {
   "cell_type": "code",
   "execution_count": 8,
   "metadata": {},
   "outputs": [
    {
     "data": {
      "text/plain": [
       "deque([0, 1, 2, 3, 4, 5, 5])"
      ]
     },
     "execution_count": 8,
     "metadata": {},
     "output_type": "execute_result"
    }
   ],
   "source": [
    "d.append(5)\n",
    "d"
   ]
  },
  {
   "cell_type": "code",
   "execution_count": 9,
   "metadata": {},
   "outputs": [
    {
     "data": {
      "text/plain": [
       "deque([0, 1, 2, 3, 4, 5])"
      ]
     },
     "execution_count": 9,
     "metadata": {},
     "output_type": "execute_result"
    }
   ],
   "source": [
    "d.pop()\n",
    "d"
   ]
  },
  {
   "cell_type": "code",
   "execution_count": 10,
   "metadata": {},
   "outputs": [],
   "source": [
    "d.extend(range(6,10))"
   ]
  },
  {
   "cell_type": "code",
   "execution_count": 11,
   "metadata": {},
   "outputs": [
    {
     "data": {
      "text/plain": [
       "deque([0, 1, 2, 3, 4, 5, 6, 7, 8, 9])"
      ]
     },
     "execution_count": 11,
     "metadata": {},
     "output_type": "execute_result"
    }
   ],
   "source": [
    "d"
   ]
  },
  {
   "cell_type": "code",
   "execution_count": 12,
   "metadata": {},
   "outputs": [
    {
     "data": {
      "text/plain": [
       "deque([9, 8, 7, 6, 0, 1, 2, 3, 4, 5, 6, 7, 8, 9])"
      ]
     },
     "execution_count": 12,
     "metadata": {},
     "output_type": "execute_result"
    }
   ],
   "source": [
    "#거꾸로 드간다 했제!\n",
    "d.extendleft(range(6,10))\n",
    "d"
   ]
  },
  {
   "cell_type": "code",
   "execution_count": 13,
   "metadata": {},
   "outputs": [
    {
     "data": {
      "text/plain": [
       "deque([8, 7, 6, 0, 1, 2, 3, 4, 5, 6, 7, 8, 9])"
      ]
     },
     "execution_count": 13,
     "metadata": {},
     "output_type": "execute_result"
    }
   ],
   "source": [
    "#remove하니까 젤 앞에 있는 9가 없어져버렸다\n",
    "d.remove(9)\n",
    "d"
   ]
  },
  {
   "cell_type": "code",
   "execution_count": 14,
   "metadata": {},
   "outputs": [
    {
     "data": {
      "text/plain": [
       "deque([8, 9, 8, 7, 6, 0, 1, 2, 3, 4, 5, 6, 7])"
      ]
     },
     "execution_count": 14,
     "metadata": {},
     "output_type": "execute_result"
    }
   ],
   "source": [
    "d.rotate(2)\n",
    "d"
   ]
  },
  {
   "cell_type": "code",
   "execution_count": 15,
   "metadata": {},
   "outputs": [
    {
     "data": {
      "text/plain": [
       "deque([8, 7, 6, 0, 1, 2, 3, 4, 5, 6, 7, 8, 9])"
      ]
     },
     "execution_count": 15,
     "metadata": {},
     "output_type": "execute_result"
    }
   ],
   "source": [
    "d.rotate(-2)\n",
    "d"
   ]
  },
  {
   "cell_type": "code",
   "execution_count": 16,
   "metadata": {},
   "outputs": [
    {
     "data": {
      "text/plain": [
       "deque([9, 8, 7, 6, 5, 4, 3, 2, 1, 0, 6, 7, 8])"
      ]
     },
     "execution_count": 16,
     "metadata": {},
     "output_type": "execute_result"
    }
   ],
   "source": [
    "#거꾸로 뒤집었디!\n",
    "d.reverse()\n",
    "d"
   ]
  },
  {
   "cell_type": "code",
   "execution_count": 17,
   "metadata": {},
   "outputs": [
    {
     "data": {
      "text/plain": [
       "2"
      ]
     },
     "execution_count": 17,
     "metadata": {},
     "output_type": "execute_result"
    }
   ],
   "source": [
    "d.count(8)"
   ]
  },
  {
   "cell_type": "code",
   "execution_count": 18,
   "metadata": {},
   "outputs": [
    {
     "data": {
      "text/plain": [
       "deque([])"
      ]
     },
     "execution_count": 18,
     "metadata": {},
     "output_type": "execute_result"
    }
   ],
   "source": [
    "d.clear()\n",
    "d"
   ]
  },
  {
   "cell_type": "code",
   "execution_count": 19,
   "metadata": {},
   "outputs": [],
   "source": [
    "from queue import Queue\n",
    "\n",
    "class Deque(Queue):\n",
    "    def enqueue_back(self, item):\n",
    "        value = self.items.pop(0)\n",
    "        \n",
    "        if value is not None:\n",
    "            return value\n",
    "        else:\n",
    "            print(\"이 deque는 비었습니다.\")"
   ]
  },
  {
   "cell_type": "code",
   "execution_count": null,
   "metadata": {},
   "outputs": [],
   "source": [
    "if __name__ == \"__main__\":\n",
    "    dq=Deque()\n",
    "    \n",
    "    print('dq가 비었나?')"
   ]
  },
  {
   "cell_type": "code",
   "execution_count": null,
   "metadata": {},
   "outputs": [],
   "source": []
  },
  {
   "cell_type": "markdown",
   "metadata": {},
   "source": [
    "# 우선순위 큐               \n",
    "\n",
    "> - 우선순위 큐는 큐, 또는 스택같은 추상 자료형과 유사하지만, 추가로 각 요소의 '우선순위'와 연관되어 있다.             \n",
    "\n",
    "1. 어떤 특정 조건에 따라 우선순위가 가장 높은 자료형이 추출되는 자료형이다.      \n",
    "2. 원래는 어질러져 있는데, 정하는 요건에 따라 정렬되어 추출되는 것 같다.  마치 like 정렬 알고리즘         \n",
    "3. 활용 분야 : 다익스트라 알고리즘...\n",
    "\n",
    "[우선순위 큐](https://www.youtube.com/watch?v=wRvOzgt2ygs)           \n",
    "[유명하신 그분](https://www.youtube.com/watch?v=AjFlp951nz0)\n",
    "\n",
    "- 리스트로 구현하는 방식     \n",
    "- 힙으로 구현하는 방식\n",
    "\n",
    "![구현방식에따른차이](./PostingPic/우선순위차이.png)"
   ]
  },
  {
   "cell_type": "code",
   "execution_count": 30,
   "metadata": {},
   "outputs": [],
   "source": [
    "import heapq\n",
    "\n",
    "class priorityQueue(object):\n",
    "    def __init__(self):\n",
    "        self._queue =[]\n",
    "        self._index=0\n",
    "        \n",
    "    def push(self, item, priority):\n",
    "        heapq.heappush(self._queue, (-priority, self._index, item))\n",
    "        self._index += 1;\n",
    "        \n",
    "    def pop(self):\n",
    "        return heapq.heappop(self._queue)[-1]"
   ]
  },
  {
   "cell_type": "code",
   "execution_count": 31,
   "metadata": {},
   "outputs": [],
   "source": [
    "class Item():\n",
    "    def __init__(self, name):\n",
    "        self.name = name\n",
    "        \n",
    "    def __repr__(self):\n",
    "        return \"아이템{0}\".format(self.name)"
   ]
  },
  {
   "cell_type": "code",
   "execution_count": 62,
   "metadata": {},
   "outputs": [],
   "source": [
    "def test_priority_queue():\n",
    "    q=priorityQueue()\n",
    "    \n",
    "    q.push(Item('test1'), 1)\n",
    "    q.push(Item('test2'), 3)\n",
    "    q.push(Item('test3'), 2)\n",
    "\n",
    "    z = q.pop()\n",
    "    print('우선순위 가장 큰', z)\n",
    "    \n",
    "    a = q.pop()\n",
    "    print('우선순위 다음', a)"
   ]
  },
  {
   "cell_type": "code",
   "execution_count": 63,
   "metadata": {},
   "outputs": [
    {
     "name": "stdout",
     "output_type": "stream",
     "text": [
      "우선순위 가장 큰 아이템test2\n",
      "우선순위 다음 아이템test3\n"
     ]
    }
   ],
   "source": [
    "if __name__ == \"__main__\":\n",
    "    test_priority_queue()"
   ]
  }
 ],
 "metadata": {
  "kernelspec": {
   "display_name": "aiffel",
   "language": "python",
   "name": "aiffel"
  },
  "language_info": {
   "codemirror_mode": {
    "name": "ipython",
    "version": 3
   },
   "file_extension": ".py",
   "mimetype": "text/x-python",
   "name": "python",
   "nbconvert_exporter": "python",
   "pygments_lexer": "ipython3",
   "version": "3.7.9"
  }
 },
 "nbformat": 4,
 "nbformat_minor": 4
}
