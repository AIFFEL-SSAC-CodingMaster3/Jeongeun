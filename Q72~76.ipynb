{
 "cells": [
  {
   "cell_type": "markdown",
   "metadata": {},
   "source": [
    "## Q72(371)           \n",
    "---\n",
    "- 두 정수의 합"
   ]
  },
  {
   "cell_type": "code",
   "execution_count": null,
   "metadata": {},
   "outputs": [],
   "source": [
    "class Solution:\n",
    "    def getSum(self, a: int, b: int) -> int:\n",
    "        \n",
    "        #operator +나 -를 쓰지 말고 계산하기\n",
    "        \n",
    "        diff = 0\n",
    "        carry = 0\n",
    "        \n",
    "        #carry가 0이 아닐 때 까지\n",
    "        while(b):\n",
    "            \n",
    "            #일반더하기\n",
    "            diff = a^b\n",
    "            print('diff :', diff)\n",
    "            \n",
    "            #더하기를 수행한 후, 오버가 발생하는 경우\n",
    "            carry = (int(a&b))<< 1\n",
    "            print('carry :', carry)\n",
    "            \n",
    "            #a = 아랫단위 더하기\n",
    "            #b = 캐리\n",
    "            a = diff\n",
    "            b = carry\n",
    "                \n",
    "        #4비트로 전환해주는 과정이 필요\n",
    "        return int(a)"
   ]
  },
  {
   "cell_type": "markdown",
   "metadata": {},
   "source": [
    "[여기를 참고](https://www.youtube.com/watch?v=YdaG_03fQ6E)"
   ]
  },
  {
   "cell_type": "markdown",
   "metadata": {},
   "source": [
    "## Q73(393) \n",
    "---\n",
    "\n",
    "- UTF-8 문자열 검증"
   ]
  },
  {
   "cell_type": "code",
   "execution_count": null,
   "metadata": {},
   "outputs": [],
   "source": []
  },
  {
   "cell_type": "markdown",
   "metadata": {},
   "source": [
    "## Q74(191)         \n",
    "---  \n",
    "- 1비트의 개수"
   ]
  },
  {
   "cell_type": "code",
   "execution_count": null,
   "metadata": {},
   "outputs": [],
   "source": [
    "#int n을 이진수로 만들고, 각각의 요소를 리스트로 받음\n",
    "#0b라는 구분자를 자를 수 있도록 앞의 인덱스 2를 슬라이싱 함\n",
    "#bin_n의 길이가 32가 될 때까지 0을 더해준 후, 내부의 1값을 리턴\n",
    "#굳이 안 더해주고 그냥 리턴해도 될것같긴 함 ^^...\n",
    "class Solution:\n",
    "    def hammingWeight(self, n: int) -> int:\n",
    "        \n",
    "        bin_n = list(bin(n))\n",
    "        bin_n = bin_n[2:]\n",
    "    \n",
    "        while len(bin_n) < 32:\n",
    "            bin_n.append(0)\n",
    "            \n",
    "        return bin_n.count('1')"
   ]
  },
  {
   "cell_type": "code",
   "execution_count": null,
   "metadata": {},
   "outputs": [],
   "source": [
    "class Solution:\n",
    "    def hammingWeight(self, n: int) -> int:\n",
    "        \n",
    "        bin_n = list(bin(n))\n",
    "        bin_n = bin_n[2:]\n",
    "            \n",
    "        return bin_n.count('1')"
   ]
  },
  {
   "cell_type": "markdown",
   "metadata": {},
   "source": [
    "## Q75(239)\n",
    "---\n",
    "- 최대 슬라이딩 윈도우"
   ]
  },
  {
   "cell_type": "code",
   "execution_count": null,
   "metadata": {},
   "outputs": [],
   "source": [
    "class Solution:\n",
    "    def maxSlidingWindow(self, nums: List[int], k: int) -> List[int]:\n",
    "        \n",
    "        left=0\n",
    "        right=left+k\n",
    "        \n",
    "        result_list=[]\n",
    "        mini_list=[]\n",
    "        \n",
    "        first=0\n",
    "        max_val=0\n",
    "        \n",
    "        #가장 끄트머리가 len(nums)에 닿을 때 까지\n",
    "        while right <= len(nums):\n",
    "            \n",
    "            if(k <= 1):\n",
    "                result_list = nums\n",
    "            \n",
    "            else:\n",
    "                #2개중에 하나를 비교하는 방식으로\n",
    "                for i in range(left, right):\n",
    "                    mini_list.append(nums[i])\n",
    "            \n",
    "                first = max(mini_list)\n",
    "                \n",
    "                if(first >= max_val):\n",
    "                    max_val = first\n",
    "               \n",
    "            mini_list = []\n",
    "            result_list.append(max_val)\n",
    "            left += 1\n",
    "            right += 1\n",
    "                \n",
    "        return result_list"
   ]
  },
  {
   "cell_type": "code",
   "execution_count": 1,
   "metadata": {},
   "outputs": [
    {
     "name": "stdout",
     "output_type": "stream",
     "text": [
      "0\n",
      "1\n"
     ]
    }
   ],
   "source": [
    "for i in range(0,2):\n",
    "    print(i)"
   ]
  },
  {
   "cell_type": "code",
   "execution_count": 13,
   "metadata": {},
   "outputs": [],
   "source": [
    "def maxSlidingWindow(nums, k):\n",
    "        \n",
    "        left=0\n",
    "        right=left+k\n",
    "        \n",
    "        result_list=[]\n",
    "        mini_list=[]\n",
    "        \n",
    "        first=0\n",
    "        max_val=0\n",
    "        \n",
    "        #가장 끄트머리가 len(nums)에 닿을 때 까지\n",
    "        while right <= len(nums):\n",
    "            \n",
    "            #2개중에 하나를 비교하는 방식으로\n",
    "            for i in range(left, right):\n",
    "                mini_list.append(nums[i])\n",
    "                print(mini_list)\n",
    "            \n",
    "            first = max(mini_list)\n",
    "                \n",
    "            if(first >= max_val):\n",
    "                max_val = first\n",
    "                    \n",
    "            #리스트 초기화 꼭 필요\n",
    "            mini_list = []\n",
    "            result_list.append(max_val)\n",
    "            left += 1\n",
    "            right += 1\n",
    "                \n",
    "        return result_list"
   ]
  },
  {
   "cell_type": "code",
   "execution_count": 14,
   "metadata": {},
   "outputs": [
    {
     "name": "stdout",
     "output_type": "stream",
     "text": [
      "[7]\n",
      "[7, 2]\n",
      "[2]\n",
      "[2, 4]\n"
     ]
    }
   ],
   "source": [
    "number_list = maxSlidingWindow(nums=[7,2,4], k=2)"
   ]
  },
  {
   "cell_type": "code",
   "execution_count": 8,
   "metadata": {},
   "outputs": [
    {
     "name": "stdout",
     "output_type": "stream",
     "text": [
      "[7, 7]\n"
     ]
    }
   ],
   "source": [
    "print(number_list)"
   ]
  },
  {
   "cell_type": "markdown",
   "metadata": {},
   "source": [
    "## Q76(76)\n",
    "---\n",
    "- 부분 문자열이 포함된 최소 윈도우"
   ]
  }
 ],
 "metadata": {
  "kernelspec": {
   "display_name": "aiffel",
   "language": "python",
   "name": "aiffel"
  },
  "language_info": {
   "codemirror_mode": {
    "name": "ipython",
    "version": 3
   },
   "file_extension": ".py",
   "mimetype": "text/x-python",
   "name": "python",
   "nbconvert_exporter": "python",
   "pygments_lexer": "ipython3",
   "version": "3.7.9"
  }
 },
 "nbformat": 4,
 "nbformat_minor": 4
}
