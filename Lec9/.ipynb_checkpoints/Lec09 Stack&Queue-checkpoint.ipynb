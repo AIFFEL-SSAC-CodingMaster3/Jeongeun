{
 "cells": [
  {
   "cell_type": "markdown",
   "metadata": {},
   "source": [
    "### 1. 유효한 괄호(leetcode 20)         \n",
    "\n",
    "- 괄호로 된 입력값이 올바른지 판단하라."
   ]
  },
  {
   "cell_type": "code",
   "execution_count": null,
   "metadata": {},
   "outputs": [],
   "source": [
    "class Solution:\n",
    "    def isValid(self, s: str) -> bool:\n",
    "        \n",
    "        #string을 한 글자씩 쪼개 list로 넣어주도록\n",
    "        #s를 쪼개놓은 list pattern을 정의\n",
    "        pattern = list(s)\n",
    "        \n",
    "        \n",
    "        while pattern:\n",
    "            char = pattern.pop()\n",
    "            char_pair = pattern.pop()\n",
    "                \n",
    "            if char == \")\" :\n",
    "                if char_pair == \"(\":\n",
    "                    return True\n",
    "            \n",
    "            elif char == \"}\":\n",
    "                if char_pair == \"{\":\n",
    "                    return True\n",
    "                \n",
    "            elif char == \"]\":\n",
    "                if char_pair == \"[\":\n",
    "                    return True"
   ]
  },
  {
   "cell_type": "markdown",
   "metadata": {},
   "source": [
    "- 실패    \n",
    "- 겹치는 경우를 생각하지 않았음"
   ]
  },
  {
   "cell_type": "code",
   "execution_count": null,
   "metadata": {},
   "outputs": [],
   "source": [
    "# 해답코드\n",
    "class Solution:\n",
    "    def isValid(self, s: str) -> bool:\n",
    "        \n",
    "        stack=[]\n",
    "        \n",
    "        #이것은 딕셔너리형인가?\n",
    "        table ={\n",
    "            ')':'(',\n",
    "            ']':'[',\n",
    "            '}':'{'\n",
    "        }\n",
    "        \n",
    "        #인풋 s에 있는 모든 개별 요소에게\n",
    "        for char in s:\n",
    "            #만약 char가 table에 없다면 \n",
    "            #list에 추가\n",
    "            #stack에 쌓고, 다음 것과 맞춰보기 위한 임시 거처\n",
    "            if char not in table:\n",
    "                stack.append(char)\n",
    "                \n",
    "            #만약 char가 없거나(홀수), table[char]가 아까 방금 들어온\n",
    "            #char와 맞지 않는다면 'False' 리턴\n",
    "            elif not stack or table[char] != stack.pop():\n",
    "                return False\n",
    "        \n",
    "        ## 이 부분 잘 이해안됨\n",
    "        return len(stack)==0"
   ]
  },
  {
   "cell_type": "markdown",
   "metadata": {},
   "source": [
    "### 2. 중복 문자 제거(leetcode 316)"
   ]
  },
  {
   "cell_type": "markdown",
   "metadata": {},
   "source": [
    "- 중복된 문자를 제외하고 사전적 순서로 나열하라."
   ]
  },
  {
   "cell_type": "code",
   "execution_count": 19,
   "metadata": {},
   "outputs": [],
   "source": [
    "class Solution:\n",
    "    def removeDuplicateLetters(self, s: str) -> str:\n",
    "        \n",
    "        new_s = set(s)\n",
    "        letter = list(new_s)\n",
    "        letter.sort()\n",
    "        letter = ''.join(letter)\n",
    "        \n",
    "        return letter"
   ]
  },
  {
   "cell_type": "markdown",
   "metadata": {},
   "source": [
    "- 실패(테스트 케이스에서는 동작하였으나, 제출케이스에서 미동작)    \n",
    "- 사전식 순서에 대한 이해가 부족하였음"
   ]
  },
  {
   "cell_type": "code",
   "execution_count": null,
   "metadata": {},
   "outputs": [],
   "source": [
    "class Solution:\n",
    "    def removeDuplicateLetters(self, s: str) -> str:\n",
    "        \n",
    "        first = []\n",
    "        second = []\n",
    "        third = []\n",
    "        \n",
    "        #s에 있는 모든 개별 요소를 first list에 보관한다.\n",
    "        for char in s:\n",
    "            first.append(char)\n",
    "            \n",
    "        # first에 있는 모든 요소와 first.pop을 대조한다.\n",
    "        # 만약 뒤에 중복값이 남아있다면 버리고, \n",
    "        # 만약 중복값이 없는 단일요소라면 살려서 second에 추가한다.\n",
    "        while first:\n",
    "            letter = first.pop()\n",
    "            \n",
    "            for i in first:\n",
    "                if letter != i:\n",
    "                    second.append(first.pop())\n",
    "                    \n",
    "                if len(first)==0:\n",
    "                    second.append(letter)\n",
    "                    \n",
    "                print(second)\n",
    "        #순서를 뒤집기 위해 third 리스트에 second를 pop하여 집어넣는다.\n",
    "        for char in second:\n",
    "            third.append(second.pop())\n",
    "        print(third)\n",
    "        \n",
    "        #join을 활용해 str로 변환한다.\n",
    "        third = ''.join(third)\n",
    "        return third"
   ]
  },
  {
   "cell_type": "markdown",
   "metadata": {},
   "source": [
    "### 3. 일일 온도(leetcode 739)            \n",
    "\n",
    "- 매일의 화씨 온도를 입력받아서, 더 따뜻한 날씨를 위해서는 며칠을 더 기다려야 하는지 출력하라."
   ]
  },
  {
   "cell_type": "code",
   "execution_count": null,
   "metadata": {},
   "outputs": [],
   "source": [
    "class Solution:\n",
    "    def dailyTemperatures(self, T: List[int]) -> List[int]:\n",
    "    \n",
    "        gap=[]\n",
    "        #dictionary = { v : i  for i,v in enumerate(T)}\n",
    "        #print(dictionary)\n",
    "        \n",
    "        for i in range(0, len(T)):\n",
    "            \n",
    "            i = T[i]\n",
    "            \n",
    "            for j in range(i+1, len(T)):\n",
    "                \n",
    "                j = T[j]\n",
    "                \n",
    "                if i==j : \n",
    "                    pass\n",
    "                elif(i < j):\n",
    "                    gap.append(j-i)\n",
    "                else:\n",
    "                    pass\n",
    "                    \n",
    "        print(gap)"
   ]
  },
  {
   "cell_type": "code",
   "execution_count": null,
   "metadata": {},
   "outputs": [],
   "source": [
    "class Solution:\n",
    "    def dailyTemperatures(self, T: List[int]) -> List[int]:\n",
    "    \n",
    "        #정답 리스트를 T와 동일한 길이로 만들어준다.\n",
    "        answer = [0] * len(T)\n",
    "        stack=[]\n",
    "        \n",
    "        # i=T의 인덱스\n",
    "        # cur == T의 밸류(하루하루의 기온)\n",
    "        for i, cur in enumerate(T):\n",
    "            \n",
    "            #stack 값이 있고, 현재 기온이 T의 직전 기온보다 클 때(올라갔을 때)\n",
    "            while stack and cur > T[stack[-1]]:\n",
    "                \n",
    "                #last = stack.pop()\n",
    "                last = stack.pop()\n",
    "            \n",
    "                answer[last] = i-last\n",
    "                           \n",
    "            stack.append(i)\n",
    "            \n",
    "        return answer"
   ]
  },
  {
   "cell_type": "markdown",
   "metadata": {},
   "source": [
    "![3](./PostingPic/3.png)"
   ]
  },
  {
   "cell_type": "markdown",
   "metadata": {},
   "source": [
    "### 4. 큐를 이용한 스택 구현(leetcode 225)"
   ]
  },
  {
   "cell_type": "markdown",
   "metadata": {},
   "source": [
    "### 5. 스택을 이용한 큐 구현(leetcode 232)"
   ]
  },
  {
   "cell_type": "markdown",
   "metadata": {},
   "source": [
    "### 6. 원형 큐 디자인(leetcode 622)"
   ]
  },
  {
   "cell_type": "markdown",
   "metadata": {},
   "source": [
    "## Stack "
   ]
  },
  {
   "cell_type": "markdown",
   "metadata": {},
   "source": [
    "- 스택(stack) 나중에 넣은 데이터를 먼저 반환하도록 설계된 메모리 구조(LIFO)   \n",
    "- 입력은(Push), 출력은(Pop)       \n",
    "- 구현은 list를 이용한다고 보기"
   ]
  },
  {
   "cell_type": "code",
   "execution_count": 3,
   "metadata": {},
   "outputs": [
    {
     "name": "stdout",
     "output_type": "stream",
     "text": [
      "[1, 2, 3, 4, 5, 10, 20]\n"
     ]
    }
   ],
   "source": [
    "a = [1,2,3,4,5]\n",
    "a.append(10)\n",
    "a.append(20)\n",
    "\n",
    "print(a)"
   ]
  },
  {
   "cell_type": "code",
   "execution_count": 4,
   "metadata": {},
   "outputs": [
    {
     "data": {
      "text/plain": [
       "20"
      ]
     },
     "execution_count": 4,
     "metadata": {},
     "output_type": "execute_result"
    }
   ],
   "source": [
    "a.pop()"
   ]
  },
  {
   "cell_type": "code",
   "execution_count": 5,
   "metadata": {},
   "outputs": [
    {
     "data": {
      "text/plain": [
       "10"
      ]
     },
     "execution_count": 5,
     "metadata": {},
     "output_type": "execute_result"
    }
   ],
   "source": [
    "a.pop()"
   ]
  },
  {
   "cell_type": "code",
   "execution_count": 11,
   "metadata": {},
   "outputs": [
    {
     "name": "stdout",
     "output_type": "stream",
     "text": [
      "[3, 4, 5, 10, 20]\n"
     ]
    }
   ],
   "source": [
    "print(a)"
   ]
  },
  {
   "cell_type": "markdown",
   "metadata": {},
   "source": [
    "#### 연결 리스트를 이용한 스택 ADT 구현"
   ]
  },
  {
   "cell_type": "code",
   "execution_count": 12,
   "metadata": {},
   "outputs": [],
   "source": [
    "class Node:\n",
    "    def __init__(self, item, next):\n",
    "        self.item = item\n",
    "        self.next = next"
   ]
  },
  {
   "cell_type": "code",
   "execution_count": 13,
   "metadata": {},
   "outputs": [],
   "source": [
    "class Stack:\n",
    "    def __init__(self):\n",
    "        #스택에서는 '가장 먼저 빠져나올 제일 마지막에 들어간 놈' 이 중요\n",
    "        self.last = None\n",
    "        \n",
    "    def push(self, item):\n",
    "        self.last = Node(item, self.last)\n",
    "        \n",
    "    def pop(self):\n",
    "        item = self.last.item\n",
    "        self.last = self.last.next\n",
    "        return item"
   ]
  },
  {
   "cell_type": "code",
   "execution_count": 18,
   "metadata": {},
   "outputs": [
    {
     "name": "stdout",
     "output_type": "stream",
     "text": [
      "3\n",
      "2\n",
      "1\n"
     ]
    }
   ],
   "source": [
    "stack = Stack()\n",
    "\n",
    "stack.push(1)\n",
    "stack.push(2)\n",
    "stack.push(3)\n",
    "\n",
    "for i in range(3):\n",
    "    print(stack.pop())"
   ]
  },
  {
   "cell_type": "markdown",
   "metadata": {},
   "source": [
    "### Queue"
   ]
  },
  {
   "cell_type": "markdown",
   "metadata": {},
   "source": [
    "- 큐(Queue) : 먼저 넣은 데이터를 먼저 반환하도록 설계된 메모리 구조(FIFO)    \n",
    "- Stack과 반대개념     \n",
    "- 구현은 list를 사용하여 큐 구조를 활용"
   ]
  },
  {
   "cell_type": "code",
   "execution_count": 7,
   "metadata": {},
   "outputs": [
    {
     "data": {
      "text/plain": [
       "[1, 2, 3, 4, 5, 10, 20]"
      ]
     },
     "execution_count": 7,
     "metadata": {},
     "output_type": "execute_result"
    }
   ],
   "source": [
    "a = [1,2,3,4,5]\n",
    "a.append(10)\n",
    "a.append(20)\n",
    "a"
   ]
  },
  {
   "cell_type": "code",
   "execution_count": 8,
   "metadata": {},
   "outputs": [
    {
     "data": {
      "text/plain": [
       "1"
      ]
     },
     "execution_count": 8,
     "metadata": {},
     "output_type": "execute_result"
    }
   ],
   "source": [
    "a.pop(0)"
   ]
  },
  {
   "cell_type": "code",
   "execution_count": 9,
   "metadata": {},
   "outputs": [
    {
     "data": {
      "text/plain": [
       "2"
      ]
     },
     "execution_count": 9,
     "metadata": {},
     "output_type": "execute_result"
    }
   ],
   "source": [
    "a.pop(0)"
   ]
  },
  {
   "cell_type": "code",
   "execution_count": 10,
   "metadata": {},
   "outputs": [
    {
     "data": {
      "text/plain": [
       "[3, 4, 5, 10, 20]"
      ]
     },
     "execution_count": 10,
     "metadata": {},
     "output_type": "execute_result"
    }
   ],
   "source": [
    "a"
   ]
  }
 ],
 "metadata": {
  "kernelspec": {
   "display_name": "aiffel",
   "language": "python",
   "name": "aiffel"
  },
  "language_info": {
   "codemirror_mode": {
    "name": "ipython",
    "version": 3
   },
   "file_extension": ".py",
   "mimetype": "text/x-python",
   "name": "python",
   "nbconvert_exporter": "python",
   "pygments_lexer": "ipython3",
   "version": "3.7.9"
  }
 },
 "nbformat": 4,
 "nbformat_minor": 4
}
