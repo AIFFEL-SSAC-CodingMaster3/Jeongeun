{
 "cells": [
  {
   "cell_type": "markdown",
   "metadata": {},
   "source": [
    "# 해시테이블        \n",
    "\n",
    "\n",
    "- 해시/해싱/해시 테이블\n",
    "- 데이터를 관리/유지하는          \n",
    "\n",
    "- 인덱스, 밸류, 버켓, 엔트리\n",
    "\n",
    "\n",
    "- 충돌 문제 발생            \n",
    "- 대처 방법\n",
    "1. 체이닝     \n",
    "2. 선형탐색(이미 만든 데이터를 먼저 소모하자)         \n",
    "3. 리사이징(테이블을 자리를 늘리고, 해시함수를 다시 통과시켜 정리함)   \n",
    "\n",
    "- 파이썬에서 dictionary"
   ]
  },
  {
   "cell_type": "markdown",
   "metadata": {},
   "source": [
    "## 해시맵 디자인 "
   ]
  },
  {
   "cell_type": "code",
   "execution_count": null,
   "metadata": {},
   "outputs": [],
   "source": []
  },
  {
   "cell_type": "code",
   "execution_count": null,
   "metadata": {},
   "outputs": [],
   "source": []
  },
  {
   "cell_type": "markdown",
   "metadata": {},
   "source": [
    "## 중복 문자 없는 가장 긴 문자열"
   ]
  },
  {
   "cell_type": "code",
   "execution_count": null,
   "metadata": {},
   "outputs": [],
   "source": [
    "class Solution:\n",
    "    def lengthOfLongestSubstring(self, s: str) -> int:\n",
    "        \n",
    "        kind = []\n",
    "        kind = list(s)\n",
    "        \n",
    "        #있음을 계산하는 배열\n",
    "        arr=[]\n",
    "        count=0\n",
    "        \n",
    "        for i in kind:\n",
    "            #이게 있으면 중복이 끝남\n",
    "            if i in arr:\n",
    "                return count\n",
    "            \n",
    "            else :\n",
    "                arr.append(i)\n",
    "                count += 1"
   ]
  },
  {
   "cell_type": "code",
   "execution_count": null,
   "metadata": {},
   "outputs": [],
   "source": [
    "def lengthOfLongestSubstring(self, s: str) -> int:\n",
    "        \n",
    "        string_list = list(s)\n",
    "        place=[]\n",
    "        \n",
    "        for i in string_list:\n",
    "            counts = string_list.count(i)\n",
    "            \n",
    "            #단수가 아니라 n개 이상 있을 때에는\n",
    "            if counts > 1:\n",
    "                place.append(string_list.index(i))\n",
    "                \n",
    "                #print(place)\n",
    "\n",
    "            \n",
    "        new = set(place)\n",
    "        new_list = list(new)\n",
    "        \n",
    "        count = len(new_list)\n",
    "        print('최종 수 :',  count)\n",
    "            \n",
    "        return count"
   ]
  },
  {
   "cell_type": "code",
   "execution_count": null,
   "metadata": {},
   "outputs": [],
   "source": [
    "lengthOfLongestSubstring(None, \"bbbbb\")"
   ]
  },
  {
   "cell_type": "code",
   "execution_count": null,
   "metadata": {},
   "outputs": [],
   "source": [
    "lengthOfLongestSubstring(None, \"pwwkew\")"
   ]
  },
  {
   "cell_type": "code",
   "execution_count": null,
   "metadata": {},
   "outputs": [],
   "source": [
    "lengthOfLongestSubstring(None, \"abcabcbb\")"
   ]
  },
  {
   "cell_type": "code",
   "execution_count": null,
   "metadata": {},
   "outputs": [],
   "source": [
    " def lengthOfLongestSubstring(self, s: str) -> int:\n",
    "        \n",
    "        start = -1\n",
    "        max = 0\n",
    "        d={}\n",
    "        \n",
    "        for i in range(len(s)):\n",
    "            \n",
    "            if s[i] in d and d[s[i]] > start :\n",
    "                start = d[s[i]]\n",
    "                d[s[i]] = i\n",
    "                print(i, '번째시행' ,d)\n",
    "                print('맥스값' , max)\n",
    "                \n",
    "            else:\n",
    "                d[s[i]] = i\n",
    "                print(i, '번째시행' ,d)\n",
    "                print('맥스값' , max)\n",
    "                \n",
    "                if i-start > max:\n",
    "                    print('특이점발생', i-start)\n",
    "                    max = i-start\n",
    "        \n",
    "        return max\n",
    "        "
   ]
  },
  {
   "cell_type": "code",
   "execution_count": null,
   "metadata": {},
   "outputs": [],
   "source": [
    "lengthOfLongestSubstring(None, \"abcabcbb\")"
   ]
  },
  {
   "cell_type": "code",
   "execution_count": null,
   "metadata": {},
   "outputs": [],
   "source": []
  },
  {
   "cell_type": "markdown",
   "metadata": {},
   "source": [
    "## 보석과 돌"
   ]
  },
  {
   "cell_type": "code",
   "execution_count": null,
   "metadata": {},
   "outputs": [],
   "source": [
    "class Solution:\n",
    "    def numJewelsInStones(self, jewels: str, stones: str) -> int:\n",
    "        \n",
    "        stone_list = list(stones)\n",
    "        jewels_list = list(jewels)\n",
    "        \n",
    "        print(stone_list)\n",
    "        print(jewels_list)\n",
    "        \n",
    "        count = 0\n",
    "        sum_count =0\n",
    "        \n",
    "        for i in jewels_list:\n",
    "            count = stone_list.count(i)           \n",
    "            sum_count += count\n",
    "            \n",
    "        return sum_count"
   ]
  },
  {
   "cell_type": "markdown",
   "metadata": {},
   "source": [
    "Rumtime : 32ms, 63.11%           \n",
    "Memory :14.2mb, 48.17%"
   ]
  },
  {
   "cell_type": "markdown",
   "metadata": {},
   "source": [
    "## 상위 k 빈도 요소"
   ]
  },
  {
   "cell_type": "code",
   "execution_count": null,
   "metadata": {},
   "outputs": [],
   "source": [
    "  def topKFrequent(self, nums, k):\n",
    "    \n",
    "    #비지 않는 array가 주어질 때, 가장 빈번하게 나온 k를 아웃풋\n",
    "        freq = []\n",
    "        result=[]\n",
    "            \n",
    "        for i in nums:    \n",
    "            counts = nums.count(i)\n",
    "            freq.append(counts)\n",
    "        \n",
    "        dictionary = dict(zip(nums, freq))\n",
    "        \n",
    "        for i, v in dictionary.items():\n",
    "            if(v >= k):\n",
    "                result.append(i)\n",
    "        return result"
   ]
  },
  {
   "cell_type": "code",
   "execution_count": 38,
   "metadata": {},
   "outputs": [
    {
     "name": "stdout",
     "output_type": "stream",
     "text": [
      "원래배열 [1]\n",
      "빈도 [1]\n",
      "딕셔너리 {1: 1}\n"
     ]
    },
    {
     "data": {
      "text/plain": [
       "[1]"
      ]
     },
     "execution_count": 38,
     "metadata": {},
     "output_type": "execute_result"
    }
   ],
   "source": [
    "topKFrequent(None, nums, k)"
   ]
  },
  {
   "cell_type": "code",
   "execution_count": null,
   "metadata": {},
   "outputs": [],
   "source": [
    "nums = [1,1,1,2,2,3]\n",
    "k = 2"
   ]
  },
  {
   "cell_type": "code",
   "execution_count": null,
   "metadata": {},
   "outputs": [],
   "source": []
  },
  {
   "cell_type": "code",
   "execution_count": 37,
   "metadata": {},
   "outputs": [],
   "source": [
    "nums = [1]\n",
    "k = 1"
   ]
  }
 ],
 "metadata": {
  "kernelspec": {
   "display_name": "aiffel",
   "language": "python",
   "name": "aiffel"
  },
  "language_info": {
   "codemirror_mode": {
    "name": "ipython",
    "version": 3
   },
   "file_extension": ".py",
   "mimetype": "text/x-python",
   "name": "python",
   "nbconvert_exporter": "python",
   "pygments_lexer": "ipython3",
   "version": "3.7.9"
  }
 },
 "nbformat": 4,
 "nbformat_minor": 4
}
