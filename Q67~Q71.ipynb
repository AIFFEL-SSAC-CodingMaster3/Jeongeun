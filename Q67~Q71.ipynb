{
 "cells": [
  {
   "cell_type": "markdown",
   "metadata": {},
   "source": [
    "### Q67(349)"
   ]
  },
  {
   "cell_type": "code",
   "execution_count": null,
   "metadata": {},
   "outputs": [],
   "source": [
    "#중복 없도록 배열을 복사\n",
    "#대상이 될 배열들을 카피\n",
    "#배열을 2개씩 곱하여, \n",
    "#두 배열의 차가 된 요소를 결과로 반환\n",
    "class Solution:\n",
    "    def intersection(self, nums1: List[int], nums2: List[int]) -> List[int]:\n",
    "        \n",
    "        nums1 = list(set(nums1))\n",
    "        nums2 = list(set(nums2))\n",
    "        \n",
    "        target_list = []\n",
    "        other_list=[]\n",
    "        result=[]\n",
    "        \n",
    "        if len(nums1)>= len(nums2):\n",
    "            target_list = nums2.copy()\n",
    "            other_list = nums1.copy()\n",
    "        else:\n",
    "            target_list = nums1.copy()\n",
    "            other_list = nums2.copy()\n",
    "            \n",
    "        for i, v in enumerate(target_list):\n",
    "            if v in other_list:\n",
    "                result.append(v)\n",
    "            \n",
    "        return result"
   ]
  },
  {
   "cell_type": "markdown",
   "metadata": {},
   "source": [
    "![문제해결](./PostingPic/0427_첫번째문제해결.png)"
   ]
  },
  {
   "cell_type": "markdown",
   "metadata": {},
   "source": [
    "## Q68(167)"
   ]
  },
  {
   "cell_type": "code",
   "execution_count": null,
   "metadata": {},
   "outputs": [],
   "source": [
    "class Solution:\n",
    "    \n",
    "    def twoSum(self, numbers: List[int], target: int) -> List[int]:\n",
    "        \n",
    "        array = numbers\n",
    "        new_array = []\n",
    "        \n",
    "        def half_search(left, right, array):\n",
    "            \n",
    "            mid = int((left+right)/2)\n",
    "            print('mid', mid)\n",
    "            \n",
    "            #타겟이 미드보다 커서 뒤로 서치해야 하는 경우\n",
    "            if target >= array[mid]:\n",
    "                for i in range(len(array[mid:])):\n",
    "                    new_array.append(array[mid+i])\n",
    "                \n",
    "            elif target <= array[mid]:\n",
    "                for i in range(len(array[:mid])):\n",
    "                    new_array.append(array[i])\n",
    "                \n",
    "            \n",
    "        half_search(0, len(array), array)\n",
    "        result = []\n",
    "        sum_result =0\n",
    "        \n",
    "        #두 수의 합으로...\n",
    "        for i,v in enumerate(new_array):\n",
    "            sum_result += v\n",
    "            result.append(i+1)\n",
    "            \n",
    "            if sum_result == target:\n",
    "                return result"
   ]
  },
  {
   "cell_type": "markdown",
   "metadata": {},
   "source": [
    "#### 투 포인터"
   ]
  },
  {
   "cell_type": "code",
   "execution_count": null,
   "metadata": {},
   "outputs": [],
   "source": [
    "#정렬된 배열\n",
    "#양쪽 끝에서 시작하여 합의 크기에 따라 포인터를 이동\n",
    "class Solution:\n",
    "    \n",
    "    def twoSum(self, numbers: List[int], target: int) -> List[int]:\n",
    "        \n",
    "        #양쪽 끝에서 시작\n",
    "        left, right = 0, len(numbers)-1\n",
    "        \n",
    "        while not left==right:\n",
    "            if numbers[left] + numbers[right] < target:\n",
    "                left += 1\n",
    "                \n",
    "            elif numbers[left] + numbers[right] > target:\n",
    "                right -= 1\n",
    "            else:\n",
    "                return left+1, right+1"
   ]
  },
  {
   "cell_type": "markdown",
   "metadata": {},
   "source": [
    "> - 가장 빠른 풀이 : 투포인터에서 if 문의 순서를 바꾸었다."
   ]
  },
  {
   "cell_type": "markdown",
   "metadata": {},
   "source": [
    "#### 이진 검색"
   ]
  },
  {
   "cell_type": "code",
   "execution_count": null,
   "metadata": {},
   "outputs": [],
   "source": [
    "#합(target)과 하나의 차를 비교하며 타겟이 나올 때 까지 리스트를 반으로 자른다.\n",
    "class Solution:    \n",
    "    def twoSum(self, numbers: List[int], target: int) -> List[int]:\n",
    "        \n",
    "        for k, v in enumerate(numbers):\n",
    "            #이 배열은 인덱스가 1부터 시작하기 때문에..\n",
    "            left, right = k+1, len(numbers)-1\n",
    "            \n",
    "            #두 수의 합 중 나머지 하나를 구하기 위해 하나를 선점한다.\n",
    "            expected = target -v\n",
    "            \n",
    "            while left <= right:\n",
    "                mid = left+ (right+left)//2\n",
    "                \n",
    "                if numbers[mid] < expected:\n",
    "                    left = mid+1\n",
    "                    \n",
    "                if numbers[mid] > expected:\n",
    "                    right = mid-1\n",
    "                    \n",
    "                else:\n",
    "                    return k+1, mid+1"
   ]
  },
  {
   "cell_type": "markdown",
   "metadata": {},
   "source": [
    "> - 시간초과"
   ]
  },
  {
   "cell_type": "markdown",
   "metadata": {},
   "source": [
    "#### bisect"
   ]
  },
  {
   "cell_type": "code",
   "execution_count": null,
   "metadata": {},
   "outputs": [],
   "source": [
    "class Solution:    \n",
    "    def twoSum(self, numbers: List[int], target: int) -> List[int]:\n",
    "        \n",
    "        for k, v in enumerate(numbers):\n",
    "            \n",
    "            expected = target-v\n",
    "            \n",
    "            i = bisect.bisect_left(number[k+1:], expect)\n",
    "            \n",
    "            if i < len(numbers[k:1]) and numbers[i+k+1] == expected:\n",
    "                return k+i k+i+2"
   ]
  },
  {
   "cell_type": "code",
   "execution_count": null,
   "metadata": {},
   "outputs": [],
   "source": [
    "#bisect에서 슬라이싱 최소화\n",
    "class Solution:    \n",
    "    def twoSum(self, numbers: List[int], target: int) -> List[int]:\n",
    "        \n",
    "        for k, v in enumerate(numbers):\n",
    "            \n",
    "            expected = target-v\n",
    "            \n",
    "            #k를 for문으로 돌게 되니까, k보다 작은 값은 볼 필요가 없다.\n",
    "            nums = numbers[k+1:]\n",
    "            \n",
    "            i = bisect.bisect_left(nums, expect)\n",
    "            \n",
    "            if i < len(nums) and numbers[i+k+1] == expected:\n",
    "                return k+i k+i+2"
   ]
  },
  {
   "cell_type": "code",
   "execution_count": null,
   "metadata": {},
   "outputs": [],
   "source": [
    "#슬라이싱 제거\n",
    "class Solution:    \n",
    "    def twoSum(self, numbers: List[int], target: int) -> List[int]:\n",
    "        expected = target -v\n",
    "        \n",
    "        #왼쪽 범위를 제한하는 파라미터를 적용\n",
    "        i = bisect.bisect_left(numbers, expect, k+1)\n",
    "        \n",
    "        if i<len(numbers) and numbers[i] == expected:\n",
    "            return k+1, i+i"
   ]
  },
  {
   "cell_type": "markdown",
   "metadata": {},
   "source": [
    "## Q69(240)"
   ]
  },
  {
   "cell_type": "code",
   "execution_count": null,
   "metadata": {},
   "outputs": [],
   "source": [
    "class Solution:\n",
    "    def searchMatrix(self, matrix: List[List[int]], target: int) -> bool:\n",
    "        \n",
    "        def half_search(left, right):\n",
    "            \n",
    "            mid = left+right//2\n",
    "            \n",
    "            for i in range(len(matrix)):\n",
    "                #중간값이 타겟보다 커서 뒤로 서치해야 하는 경우\n",
    "                if matrix[i][mid] >= target :\n",
    "                    half_search(mid, len(matrix))\n",
    "            \n",
    "                elif matrix[i][mid] < target:\n",
    "                    half_search(0, mid)\n",
    "                \n",
    "                else:\n",
    "                    return True\n",
    "                \n",
    "            return False\n",
    "                \n",
    "            \n",
    "            \n",
    "            \n",
    "    \n",
    "        half_search(0, len(matrix))\n",
    "            "
   ]
  },
  {
   "cell_type": "markdown",
   "metadata": {},
   "source": [
    "## Q70(136)"
   ]
  },
  {
   "cell_type": "markdown",
   "metadata": {},
   "source": [
    "![설명](./PostingPic/0428_3번문제.png)"
   ]
  },
  {
   "cell_type": "markdown",
   "metadata": {},
   "source": [
    "> 구역을 제한하되, target을 기준으로 행/열을 다 자르면 된다."
   ]
  },
  {
   "cell_type": "code",
   "execution_count": null,
   "metadata": {},
   "outputs": [],
   "source": [
    "class Solution:\n",
    "    def singleNumber(self, nums: List[int]) -> int:\n",
    "        \n",
    "        #중복을 모두 제거한 셋\n",
    "        compare_list = list(set(nums.copy()))\n",
    "        compare_list.sort()\n",
    "        nums.sort()\n",
    "            \n",
    "        print(compare_list)\n",
    "        print(nums)\n",
    "        \n",
    "        result=[]\n",
    "        \n",
    "        for i, v in enumerate(compare_list):\n",
    "            result.append(v)\n",
    "            result.append(v)\n",
    "            \n",
    "        print(result)\n",
    "        \n",
    "        for i in range(len(nums)):\n",
    "            if nums[i] != result[i]:\n",
    "                return result[i]\n",
    "            \n",
    "            \n",
    "        return nums[-1]"
   ]
  },
  {
   "cell_type": "markdown",
   "metadata": {},
   "source": [
    "![2해결](./PostingPic/0427_두번째문제해결.png)"
   ]
  },
  {
   "cell_type": "markdown",
   "metadata": {},
   "source": [
    "## Q71(461)"
   ]
  },
  {
   "cell_type": "code",
   "execution_count": null,
   "metadata": {},
   "outputs": [],
   "source": [
    "#1.숫자 이진화\n",
    "#2.리스트 길이 맞추기\n",
    "#3.비교\n",
    "\n",
    "class Solution:\n",
    "    def hammingDistance(self, x: int, y: int) -> int:\n",
    "        \n",
    "        #들어온 숫자를 2진수로 변환\n",
    "        #2진수를 각 리스트로 넣고\n",
    "        #각 리스트 사이의 인덱스 차를 구함\n",
    "        \n",
    "        count = 0\n",
    "\n",
    "        #일단 이진수를 구한다.\n",
    "        def divide_nums(number, result=[]):   \n",
    "            \n",
    "            if len(result) == 0:\n",
    "                result=[]\n",
    "            \n",
    "            if number == 0 :\n",
    "                print(\"number is 0\")\n",
    "            \n",
    "            else :\n",
    "                result.append(number%2)\n",
    "                divide_nums(number//2, result)\n",
    "                \n",
    "            return result\n",
    "\n",
    "\n",
    "        bi_x = divide_nums(x)\n",
    "        bi_y = divide_nums(y)\n",
    "        \n",
    "        #양쪽의 길이를 맞춰주는 작업\n",
    "        while (len(bi_x) != len(bi_y)):\n",
    "            \n",
    "            if len(bi_x) < len(bi_y):\n",
    "                bi_x.append(0)\n",
    "            else:\n",
    "                bi_y.append(0)\n",
    "                \n",
    "        \n",
    "        for i in range(len(bi_x)):\n",
    "            if bi_x[i] != bi_y[i]:\n",
    "                count += 1\n",
    "                \n",
    "        return count"
   ]
  }
 ],
 "metadata": {
  "kernelspec": {
   "display_name": "aiffel",
   "language": "python",
   "name": "aiffel"
  },
  "language_info": {
   "codemirror_mode": {
    "name": "ipython",
    "version": 3
   },
   "file_extension": ".py",
   "mimetype": "text/x-python",
   "name": "python",
   "nbconvert_exporter": "python",
   "pygments_lexer": "ipython3",
   "version": "3.7.9"
  }
 },
 "nbformat": 4,
 "nbformat_minor": 4
}
