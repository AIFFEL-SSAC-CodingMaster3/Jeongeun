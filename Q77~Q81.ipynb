{
 "cells": [
  {
   "cell_type": "markdown",
   "metadata": {},
   "source": [
    "## Q77(424) *발표 \n",
    "---"
   ]
  },
  {
   "cell_type": "code",
   "execution_count": null,
   "metadata": {},
   "outputs": [],
   "source": [
    "class Solution:\n",
    "    def characterReplacement(self, s: str, k: int) -> int:\n",
    "        \n",
    "        #카운트를 하나 잡는다.\n",
    "        count = 0\n",
    "        pointer = 0\n",
    "        target = 0\n",
    "        end = len(s)-1\n",
    "        \n",
    "        #포인터가 주어진 string의 길이-1 일 경우까지, 그리고\n",
    "        #count가 k번의 기회를 아직 다 쓰지 않았을 때 까지만\n",
    "        while (target < end):\n",
    "            \n",
    "            if count <= k:\n",
    "            \n",
    "                #대상자가 타겟과 다를 경우\n",
    "                if s[target] != s[target+1] :\n",
    "                \n",
    "                    #카운트를 올리고, 포인터도 이동한다. \n",
    "                    count += 1\n",
    "                    pointer += \n",
    "                    \n",
    "                else:\n",
    "                    pointer += 1\n",
    "                    \n",
    "                \n",
    "        return pointer+1"
   ]
  },
  {
   "cell_type": "markdown",
   "metadata": {},
   "source": [
    "## Q78(122)            \n",
    "---"
   ]
  },
  {
   "cell_type": "code",
   "execution_count": null,
   "metadata": {},
   "outputs": [],
   "source": [
    "class Solution:\n",
    "    def maxProfit(self, prices: List[int]) -> int:\n",
    "        \n",
    "        pointer = 0\n",
    "        buy, sell = 0,0\n",
    "        profit =0\n",
    "        \n",
    "        for i in range(len(prices)-1):\n",
    "            \n",
    "            if prices[i] <= prices[i+1]:\n",
    "                \n",
    "                buy = prices[i]\n",
    "                \n",
    "                for "
   ]
  },
  {
   "cell_type": "markdown",
   "metadata": {},
   "source": [
    "## Q79(406)        \n",
    "---"
   ]
  },
  {
   "cell_type": "code",
   "execution_count": null,
   "metadata": {},
   "outputs": [],
   "source": [
    "class Solution:\n",
    "    def reconstructQueue(self, people: List[List[int]]) -> List[List[int]]:\n",
    "        \n",
    "        for i in range(1, len(people)):\n",
    "            \n",
    "            j = i-1\n",
    "            key = people[i][1]\n",
    "            \n",
    "            while people[j][1] > key and j>=0:\n",
    "                people[j+1][1] = people[j][1]\n",
    "                j = j-1\n",
    "                \n",
    "            people[j+1][1] = key\n",
    "            \n",
    "            \n",
    "        for h in range(1, len(people)):\n",
    "            \n",
    "            j = h-1\n",
    "            key = people[h][0]\n",
    "             \n",
    "            while (people[j][0] > key):\n",
    "                if j >=0:\n",
    "                    people[j+1][0] = people[j][0]\n",
    "                    j = j-1\n",
    "                \n",
    "                people[j+1][0] = key\n",
    "            \n",
    "        print(people)"
   ]
  },
  {
   "cell_type": "markdown",
   "metadata": {},
   "source": [
    "## Q80(621)                \n",
    "---"
   ]
  },
  {
   "cell_type": "code",
   "execution_count": null,
   "metadata": {},
   "outputs": [],
   "source": [
    "class Solution:\n",
    "    def leastInterval(self, tasks: List[str], n: int) -> int:\n",
    "        \n",
    "        count = len(tasks)\n",
    "        \n",
    "        #만약 task가 종류보다 작거나 같으면 문제가 생김.\n",
    "        #종류별 개수가 필요함\n",
    "        \n",
    "        task_dict = {}\n",
    "        \n",
    "        for i in range(len(tasks)):\n",
    "            \n",
    "            if tasks[i] in task_dict:\n",
    "                task_dict[tasks[i]] += 1\n",
    "                \n",
    "            else:\n",
    "                task_dict[tasks[i]] = 1\n",
    "            \n",
    "        for i, v in task_dict.items():\n",
    "            \n",
    "            if v <= n:\n",
    "                count += (n-v)\n",
    "                \n",
    "        return count\n",
    "                "
   ]
  },
  {
   "cell_type": "markdown",
   "metadata": {},
   "source": [
    "## Q81(134)           \n",
    "---"
   ]
  },
  {
   "cell_type": "code",
   "execution_count": null,
   "metadata": {},
   "outputs": [],
   "source": [
    "class Solution:\n",
    "    def canCompleteCircuit(self, gas: List[int], cost: List[int]) -> int:\n",
    "        \n",
    "        result = []\n",
    "        index = []\n",
    "        \n",
    "        \n",
    "        for i in range(len(gas)):\n",
    "            temp = gas[i] - cost[i]\n",
    "            result.append(temp)\n",
    "            \n",
    "        \n",
    "        sum_gas = 0\n",
    "        \n",
    "        for i in range(len(result)):\n",
    "            \n",
    "            if result[i] > 0:\n",
    "                index.append(i)\n",
    "                \n",
    "        \n",
    "        #양수로 시작하는 인덱스가 하나도 없으므로 \n",
    "        #목적에 맞는 방문법은 존재하지 않으므로 -1 리턴\n",
    "        if len(index) <= 0:\n",
    "            return -1\n",
    "        \n",
    "        \n",
    "        while index:\n",
    "            \n",
    "            false_index = index[i]\n",
    "            \n",
    "            for i in range(len(result)):\n",
    "                \n",
    "                if sum_gas > 0:\n",
    "                    sum_gas += result[false_index]\n",
    "\n",
    "                    if false_index > len(result):\n",
    "                        false_index = len(result)-index[i]\n",
    "                    \n",
    "                    else:\n",
    "                        fasle_index += 1\n",
    "                    \n",
    "                else:\n",
    "                    return -1\n",
    "                "
   ]
  }
 ],
 "metadata": {
  "kernelspec": {
   "display_name": "aiffel",
   "language": "python",
   "name": "aiffel"
  },
  "language_info": {
   "codemirror_mode": {
    "name": "ipython",
    "version": 3
   },
   "file_extension": ".py",
   "mimetype": "text/x-python",
   "name": "python",
   "nbconvert_exporter": "python",
   "pygments_lexer": "ipython3",
   "version": "3.7.9"
  }
 },
 "nbformat": 4,
 "nbformat_minor": 4
}
