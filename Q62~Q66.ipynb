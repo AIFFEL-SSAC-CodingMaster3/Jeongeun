{
 "cells": [
  {
   "cell_type": "markdown",
   "metadata": {},
   "source": [
    "### Q62(242)              \n",
    "---"
   ]
  },
  {
   "cell_type": "code",
   "execution_count": null,
   "metadata": {},
   "outputs": [],
   "source": [
    "class Solution:\n",
    "    def isAnagram(self, s: str, t: str) -> bool:\n",
    "        \n",
    "        #해결 아이디어 : list.reverse를 사용하자\n",
    "        t = ''.join(list(reversed(t)))\n",
    "        \n",
    "        return (lambda x : True if t == s else False)"
   ]
  },
  {
   "cell_type": "markdown",
   "metadata": {},
   "source": [
    "### Q63(75)        \n",
    "---\n"
   ]
  },
  {
   "cell_type": "code",
   "execution_count": null,
   "metadata": {},
   "outputs": [],
   "source": [
    "class Solution:\n",
    "    def sortColors(self, nums: List[int]) -> None:\n",
    "        \"\"\"\n",
    "        Do not return anything, modify nums in-place instead.\n",
    "        \"\"\"\n",
    "        #FollowUp을 의식해서 풀어보자...\n",
    "        #삽입정렬 or 선택정렬이라고 본다\n",
    "        for i in range(1, len(nums)):\n",
    "            index = i\n",
    "            \n",
    "            #index를 끝에서 \n",
    "            while index > 0 and nums[index - 1] > nums[index]:\n",
    "                nums[index - 1], nums[index] = nums[index], nums[index - 1]\n",
    "                index -= 1\n",
    "\n",
    "        print(nums)"
   ]
  },
  {
   "cell_type": "markdown",
   "metadata": {},
   "source": [
    "- Runtime: 32 ms, faster than 71.14% of Python3 online submissions for Sort Colors.\n",
    "- Memory Usage: 14.2 MB, less than 44.16% of Python3 online submissions for Sort Colors."
   ]
  },
  {
   "cell_type": "markdown",
   "metadata": {},
   "source": [
    "### Q64(973)           \n",
    "---"
   ]
  },
  {
   "cell_type": "markdown",
   "metadata": {},
   "source": [
    "- 두 점 사이의 유클리드 거리         \n",
    "The distance between two points on the X-Y plane is the Euclidean distance (i.e., √(x1 - x2)2 + (y1 - y2)2)."
   ]
  },
  {
   "cell_type": "code",
   "execution_count": null,
   "metadata": {},
   "outputs": [],
   "source": [
    "class Solution:\n",
    "    def kClosest(self, points: List[List[int]], k: int) -> List[List[int]]:\n",
    "        \n",
    "        #1. 원점과 각 점의 유클리드 거리를 구함\n",
    "        #2, 유클리드 거리를 가까운 순서대로 정렬\n",
    "        #2. 유클리드 거리 중 k번째로 가까운 값을 출력 \n",
    "        \n",
    "        def euclidean_distance(points):\n",
    "            x1 = points[0]\n",
    "            y1 = points[1]\n",
    "            distance = (0-x1)**2 + (0-y1)**2\n",
    "            return distance\n",
    "        \n",
    "        distance_dic = {}\n",
    "        \n",
    "        for i in range(len(points)):\n",
    "            distance_dic[euclidean_distance(points[i])] = points[i]\n",
    "            \n",
    "        print('distance_dic', distance_dic)\n",
    "        \n",
    "        distance_dic = dict(sorted(distance_dic.items()))\n",
    "        print('sorted', distance_dic)\n",
    "        \n",
    "        val = []\n",
    "        \n",
    "        for i in range(0, k):\n",
    "            val.append(list(distance_dic.values())[i])\n",
    "            print('val', val)\n",
    "        \n",
    "        return val"
   ]
  },
  {
   "cell_type": "markdown",
   "metadata": {},
   "source": [
    "> 밑에 형식바꾸기"
   ]
  },
  {
   "cell_type": "markdown",
   "metadata": {},
   "source": [
    "### Q.65(704)           \n",
    "---"
   ]
  },
  {
   "cell_type": "markdown",
   "metadata": {},
   "source": [
    "- __이진 검색 : 정렬된 배열에서 타겟을 찾는 검색 알고리즘__      \n",
    "- 값을 찾아내는 시간 복잡도 $O(logn)$ : 로그시간 알고리즘         \n",
    "- 이진 탐색 트리와 유사한 점이 많음. 그러나, 이진 검색의 경우 자료구조가 아닌 '탐색 알고리즘' 으로써 기능함       "
   ]
  },
  {
   "cell_type": "code",
   "execution_count": null,
   "metadata": {},
   "outputs": [],
   "source": [
    "class Solution:\n",
    "    def search(self, nums: List[int], target: int) -> int:\n",
    "        \n",
    "        #이진 탐색은 항상 절반으로 나눠서, \n",
    "        #값이 작으면 왼쪽, 값이 크면 오른쪽을 서치함을 알 수 있다.    \n",
    "        \n",
    "        #입력되는 nums는 이미 정렬되어 있다.\n",
    "        def circle_search(nums):\n",
    "            \n",
    "            index = len(nums)//2\n",
    "            print('index', index)\n",
    "            print(target, nums[index])\n",
    "            \n",
    "            if index < 0:\n",
    "                return -1\n",
    "            \n",
    "            #타겟이 인덱스 위치와 정확히 같은 경우\n",
    "            if target == nums[index]:\n",
    "                val = number_dict[target]\n",
    "                return val\n",
    "            \n",
    "            else:\n",
    "                #타겟이 절반보다 커서 뒤로 탐색해야 하는 경우\n",
    "                if target > nums[index]:\n",
    "                    circle_search(nums[index:])\n",
    "            \n",
    "                #타겟이 절반보다 작아서 앞으로 탐색해야 하는 경우\n",
    "                if target < nums[index]:\n",
    "                    circle_search(nums[:index+1])\n",
    "                    \n",
    "            return -1\n",
    "        \n",
    "        number_dict = {}\n",
    "        \n",
    "        for i, v in enumerate(nums):\n",
    "            number_dict[v] = i\n",
    "            \n",
    "        print('number_dict' , number_dict)\n",
    "        circle_search(nums)"
   ]
  },
  {
   "cell_type": "markdown",
   "metadata": {},
   "source": [
    "> - 마지막 마무리 해야함"
   ]
  },
  {
   "cell_type": "code",
   "execution_count": null,
   "metadata": {},
   "outputs": [],
   "source": [
    "class Solution:\n",
    "    def search(self, nums: List[int], target: int) -> int:\n",
    "        \n",
    "        #이진 탐색은 항상 절반으로 나눠서, \n",
    "        #값이 작으면 왼쪽, 값이 크면 오른쪽을 서치함을 알 수 있다.    \n",
    "        \n",
    "        #입력되는 nums는 이미 정렬되어 있다.\n",
    "        def circle_search(nums):\n",
    "            \n",
    "            index = len(nums)//2\n",
    "            print('index', index)\n",
    "            print(target, nums[index])\n",
    "            \n",
    "            if index < 0 :\n",
    "                val = -1\n",
    "            \n",
    "            #타겟이 인덱스 위치와 정확히 같은 경우\n",
    "            if target == nums[index]:\n",
    "                val = number_dict[target]\n",
    "                return val\n",
    "            \n",
    "            \n",
    "            else:\n",
    "                #타겟이 절반보다 커서 뒤로 탐색해야 하는 경우\n",
    "                if target > nums[index] :\n",
    "                    circle_search(nums[index:])\n",
    "            \n",
    "                #타겟이 절반보다 작아서 앞으로 탐색해야 하는 경우\n",
    "                if target < nums[index]:\n",
    "                    circle_search(nums[:index+1])\n",
    "                    \n",
    "        \n",
    "        number_dict = {}\n",
    "        val = 0\n",
    "        \n",
    "        for i, v in enumerate(nums):\n",
    "            number_dict[v] = i\n",
    "            \n",
    "        print(number_dict)\n",
    "        circle_search(nums)\n",
    "        \n",
    "        return val"
   ]
  },
  {
   "cell_type": "code",
   "execution_count": null,
   "metadata": {},
   "outputs": [],
   "source": [
    "class Solution:\n",
    "    def search(self, nums: List[int], target: int) -> int:\n",
    "        \n",
    "        #이진 탐색은 항상 절반으로 나눠서, \n",
    "        #값이 작으면 왼쪽, 값이 크면 오른쪽을 서치함을 알 수 있다.    \n",
    "        #입력되는 nums는 이미 정렬되어 있다.\n",
    "        \n",
    "        val = 0\n",
    "        number_dic = {}\n",
    "        \n",
    "        for i, v in enumerate(nums):\n",
    "            number_dic[v] = i\n",
    "    \n",
    "        def search_nums(nums):\n",
    "            \n",
    "            index = len(nums)//2    \n",
    "            print('index', index)\n",
    "            \n",
    "            if target not in nums:\n",
    "                val = -1\n",
    "            \n",
    "            elif target in nums:\n",
    "                val = number_dic[target]\n",
    "            \n",
    "            \n",
    "            if target > nums[index]:\n",
    "                search_nums(nums[index:])\n",
    "                \n",
    "            if target < nums[index]:\n",
    "                search_nums(nums[:index+1])\n",
    "                \n",
    "\n",
    "                \n",
    "                \n",
    "        search_nums(nums)\n",
    "                \n",
    "        return val"
   ]
  },
  {
   "cell_type": "markdown",
   "metadata": {},
   "source": [
    "#### 책 풀이 1(재귀풀이)"
   ]
  },
  {
   "cell_type": "code",
   "execution_count": null,
   "metadata": {},
   "outputs": [],
   "source": [
    "class Solution:\n",
    "    def search(self, nums: List[int], target: int) -> int:\n",
    "        \n",
    "        #이진 탐색은 항상 절반으로 나눠서, \n",
    "        #값이 작으면 왼쪽, 값이 크면 오른쪽을 서치함을 알 수 있다.    \n",
    "        #입력되는 nums는 이미 정렬되어 있다.\n",
    "        \n",
    "        def search_nums(left, right):\n",
    "            \n",
    "            #index!=0\n",
    "            if left <= right:\n",
    "                mid = (left+right)//2\n",
    "                \n",
    "                if nums[mid] < target:\n",
    "                    return search_nums(mid+1, right)\n",
    "                \n",
    "                elif nums[mid] > target:\n",
    "                    return search_nums(left, mid-1)\n",
    "                \n",
    "                #이 경우 nums[mid] == target\n",
    "                else:\n",
    "                    return mid\n",
    "                \n",
    "            else:\n",
    "                return -1\n",
    "            \n",
    "            \n",
    "        return search_nums(0, len(nums)-1)"
   ]
  },
  {
   "cell_type": "markdown",
   "metadata": {},
   "source": [
    "#### 반복 풀이"
   ]
  },
  {
   "cell_type": "code",
   "execution_count": null,
   "metadata": {},
   "outputs": [],
   "source": [
    "def search(self, nums: List[int], target: int) -> int:\n",
    "        \n",
    "        left, right = 0, len(nums)-1\n",
    "        \n",
    "        while left <= right:\n",
    "            mid = (left+right)//2\n",
    "            \n",
    "            if nums[mid] < target:\n",
    "                left = mid +1\n",
    "                \n",
    "            elif nums[mid] > target:\n",
    "                right = mid -1\n",
    "                \n",
    "            else:\n",
    "                return mid\n",
    "            \n",
    "        #내부에 없어서 어디에도 해당되지 않는 경우\n",
    "        return -1"
   ]
  },
  {
   "cell_type": "markdown",
   "metadata": {},
   "source": [
    "#### 파이썬에서 제공하는 이진 검색 알고리즘(bisect)"
   ]
  },
  {
   "cell_type": "code",
   "execution_count": null,
   "metadata": {},
   "outputs": [],
   "source": [
    "def search(self, nums: List[int], target: int) -> int:\n",
    "    \n",
    "    index = bisect.bisect_left(nums, target)\n",
    "    \n",
    "    if index < len(nums) and nums[index] == target:\n",
    "        return index\n",
    "    else:\n",
    "        return -1"
   ]
  },
  {
   "cell_type": "markdown",
   "metadata": {},
   "source": [
    "![바이섹트](./PostingPic/bisect.png)"
   ]
  },
  {
   "cell_type": "markdown",
   "metadata": {},
   "source": [
    "#### python의 index() 사용하기"
   ]
  },
  {
   "cell_type": "code",
   "execution_count": null,
   "metadata": {},
   "outputs": [],
   "source": [
    "def search(self, nums: List[int], target: int) -> int:\n",
    "    \n",
    "    try:\n",
    "        return nums.index(target)\n",
    "    except ValueError:\n",
    "        return -1"
   ]
  },
  {
   "cell_type": "markdown",
   "metadata": {},
   "source": [
    "![트라이엑셉트](./PostingPic/tryexcept.png)"
   ]
  },
  {
   "cell_type": "markdown",
   "metadata": {},
   "source": [
    "![그래프](./PostingPic/0421_그래프.png)"
   ]
  },
  {
   "cell_type": "markdown",
   "metadata": {},
   "source": [
    "![바이섹트](./PostingPic/0421_식.png)"
   ]
  },
  {
   "cell_type": "markdown",
   "metadata": {},
   "source": [
    "> - 상위 2번째 분포 코드        \n",
    "> - 바이섹트 하위권 245, 255 지점     \n",
    "> - 거의 유사한 코드로 구성되어 있었고, left와 right를 어떻게 지정해주는지, while문 안에서 어떻게 가르는지에 따라 약간의 차이가 있었음"
   ]
  },
  {
   "cell_type": "markdown",
   "metadata": {},
   "source": [
    "### Q.66(33)               \n",
    "---"
   ]
  },
  {
   "cell_type": "code",
   "execution_count": null,
   "metadata": {},
   "outputs": [],
   "source": [
    "class Solution:\n",
    "    def search(self, nums: List[int], target: int) -> int:\n",
    "        \n",
    "        prev_index={}\n",
    "        after_index={}\n",
    "        \n",
    "        def check_index(nums):\n",
    "            for i, v in enumerate(nums):\n",
    "                prev_index[v] = i\n",
    "                \n",
    "        check_index(nums)\n",
    "        print('prev_dic', prev_index)\n",
    "        print('nums', nums)\n",
    "\n",
    "        if target in nums:\n",
    "            val = prev_index[target] \n",
    "        else:\n",
    "            val = -1\n",
    "        \n",
    "        return val"
   ]
  },
  {
   "cell_type": "markdown",
   "metadata": {},
   "source": [
    "> - 문제를 이해 못했지만 맞추긴했음(...)"
   ]
  }
 ],
 "metadata": {
  "kernelspec": {
   "display_name": "aiffel",
   "language": "python",
   "name": "aiffel"
  },
  "language_info": {
   "codemirror_mode": {
    "name": "ipython",
    "version": 3
   },
   "file_extension": ".py",
   "mimetype": "text/x-python",
   "name": "python",
   "nbconvert_exporter": "python",
   "pygments_lexer": "ipython3",
   "version": "3.7.9"
  }
 },
 "nbformat": 4,
 "nbformat_minor": 4
}
