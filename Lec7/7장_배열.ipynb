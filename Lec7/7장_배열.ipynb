{
 "cells": [
  {
   "cell_type": "markdown",
   "metadata": {},
   "source": [
    "# 7장 배열\n",
    "\n",
    "## 이론    \n",
    "\n",
    "1) 자료구조의 종류   \n",
    "   - 메모리 공간 기반의 연속방식(Contiguous)   \n",
    "   - 포인터 기반의 연결 방식(Link)"
   ]
  },
  {
   "cell_type": "markdown",
   "metadata": {},
   "source": [
    "> \"배열은 연속 방식의 가장 기본이 되는 자료형이다.\""
   ]
  },
  {
   "cell_type": "markdown",
   "metadata": {},
   "source": [
    "2) 배열이란?    \n",
    "\n",
    "- 크기를 지정하고 해당 크기만큼의 연속된 메모리 공간을 할당받는 작업을 수행하는 자료형   \n",
    "- 크기가 고정되어, 한 번 생성한 배열은 크기를 변경할 수 없다.   \n",
    "- 어느 위치에서나 O(1)의 속도로 조회가 가능하다는 장점이 있다.    \n",
    "\n",
    "__하지만 이런 배열에서, '이 배열의 자리를 꼭 늘리고 싶다' 면 어떻게 해야할까?__     \n",
    "\n",
    "> 그래서 나타난 것이 __'동적 배열'__"
   ]
  },
  {
   "cell_type": "markdown",
   "metadata": {},
   "source": [
    "3) 동적 배열    \n",
    "\n",
    "- ex)ArrayList(자바), std::vector(C++)   \n",
    "- 초기값은 작게 잡고, 추가 공간이 필요해지면 공간을 늘려주고 모두 복사한다.   \n",
    "- 늘려주는 행위 : __\"더블링\"__     \n",
    "- 단, 각 언어마다 더블링하는 양(그로스팩터)은 다 다르다.(파이썬은 비교적 적게 더블링하는 편)     \n",
    "---\n",
    "- 동적 배열의 경우, 조회에는 O(1)의 비용이 들지만 더블링 시에는 O(n)만큼의 비용이 발생한다. (자료 삽입 시 O(n) 발생 가능)   \n",
    "- __파이썬의 동적 배열 자료형 --> 리스트__"
   ]
  },
  {
   "cell_type": "markdown",
   "metadata": {},
   "source": [
    "## 그럼 이제 배열 자료형인 '배열' 과 '리스트'를 통해 이번 강의 문제를 풀어보자."
   ]
  },
  {
   "cell_type": "markdown",
   "metadata": {},
   "source": [
    "## 1. 두 수의 조합(리트코드 1)"
   ]
  },
  {
   "cell_type": "markdown",
   "metadata": {},
   "source": [
    "   * 설명    \n",
    "   1) integer배열인 nums와 int인 target이 주어짐.     \n",
    "   2) 더해서 target이 되는 두 숫자의 인덱스를 반환할 것.      \n",
    "   3) 각 인풋에서는 '오직 하나의 해가 존재함'      \n",
    "   4) 동일한 구성요소를 2번 사용할 수 없음      \n",
    "   5) 인덱스를 출력하는 순서는 상관없음      \n",
    "   ---\n",
    "   * 아이디어          \n",
    "   1) 더해지기 전에 이미 타겟보다 크거나 같은 수는 제외함      \n",
    "   2) 새로 정리된 배열을 가지고, 빼는 개념으로 키를 찾아감        \n"
   ]
  },
  {
   "cell_type": "code",
   "execution_count": 26,
   "metadata": {},
   "outputs": [
    {
     "name": "stdout",
     "output_type": "stream",
     "text": [
      "[2, 37, 36]\n",
      "[0, 3]\n"
     ]
    }
   ],
   "source": [
    "#인풋 아이디어\n",
    "#nums = [2,7,11,15] \n",
    "#target = 9\n",
    "\n",
    "nums = [2,37,39,36,47] \n",
    "target = 38\n",
    "\n",
    "# 정답이 아닌 숫자를 제외할 배열\n",
    "new_array = []\n",
    "\n",
    "# 정답이 될 2숫자의 인덱스를 반환할 배열\n",
    "result = []\n",
    "\n",
    "# 1.더해지기 전에 이미 타겟보다 크거나 같은 수는 제외함\n",
    "for number in nums:\n",
    "    if(number < target):\n",
    "        new_array.append(number)\n",
    "print(new_array)\n",
    "\n",
    "# 새로 정리된 배열 중에서, 빼면서 정답을 찾는 식으로 키를 반환받음\n",
    "for minus1 in new_array:\n",
    "    if (target-minus1) in nums:\n",
    "        result.append(nums.index(minus1))\n",
    "        result.append(nums.index(target-minus1))\n",
    "        break\n",
    "\n",
    "print(result)"
   ]
  },
  {
   "cell_type": "markdown",
   "metadata": {},
   "source": [
    "### 포인트가 될 만한 파이썬 문법    \n",
    "\n",
    "* list.index(value) \n",
    "  : 이 문법으로 리스트에서 '값'의 인덱스를 뽑아올 수 있다.   "
   ]
  },
  {
   "cell_type": "markdown",
   "metadata": {},
   "source": [
    "### 책에서 소개한 코드    \n",
    "\n",
    "#### 1) 브루트 포스   \n",
    "   1. 이중 for문으로 인덱스를 옮겨가며 끝까지 모든 수의 조합을 구하고    \n",
    "   2. 각 조합이 == 타겟인지 확인   \n",
    "  \n",
    "#### 2) In을 이용한 탐색   \n",
    "   1. 바깥에서 for문을 돌려 배열의 인덱스만큼 target-배열[인덱스] 를 하고,    \n",
    "   2. 이 값이 남은 배열에 존재하는지 여부를 판단   \n",
    "   ** 이 경우 시간복잡도는 똑같이 O(n^2) 이지만 in이 파이썬 내부 함수이므로 더 빠르게 동작한다.   \n",
    "   \n",
    "#### 3) 첫번째 수를 뺀 결과를 '키로 조회'\n",
    "   1. 키와 값을 바꿔서 딕셔너리로 저장   \n",
    "   2. 타겟에서 첫번째 수를 뺀 결과를 키로 조회\n",
    "   ** 딕셔너리는 해시테이블로 되어 있어 조회가 평균적으로 O(1)에 가능하다. (최악의 경우 O(n))"
   ]
  },
  {
   "cell_type": "code",
   "execution_count": null,
   "metadata": {},
   "outputs": [],
   "source": [
    "def twoSum(self, nums:List(int), target:int) -> List[int]:\n",
    "    nums_dic = {}\n",
    "    \n",
    "    #딕셔너리로 인덱스와 값을 저장(단, 값:인덱스 쌍으로)\n",
    "    for i, num in enumerate(nums):\n",
    "        nums_dic[num] = i\n",
    "    \n",
    "    #타겟에서 값을 뺀 애가 딕셔너리에 있는지? 조회한 후 있으면 nums.index(num) 을 반환\n",
    "    for i, num in enumerate(nums):\n",
    "        if (target - num) in nums_dic and i != nums_dic[target-num]:\n",
    "            return nums.index(num), nums_dic[target-num]"
   ]
  },
  {
   "cell_type": "markdown",
   "metadata": {},
   "source": [
    "#### 4) 조회 구조 개선       \n",
    "\n",
    "   1. 위의 구조에 for가 각각 2번 있었던 것을 하나로 합치기"
   ]
  },
  {
   "cell_type": "code",
   "execution_count": null,
   "metadata": {},
   "outputs": [],
   "source": [
    "def twoSum(self, nums:List[int], target:int) -> List[int]:\n",
    "    nums_map = {}\n",
    "    \n",
    "    for i, num in enumerate(nums):\n",
    "        if (target-num) in nums_map:\n",
    "            return [nums_map[target-num], i]\n",
    "        nums_map[num] = i\n",
    "        \n",
    "# 질문!!  return [nums_map[target-num], i]"
   ]
  },
  {
   "cell_type": "markdown",
   "metadata": {},
   "source": [
    "------ \n",
    "\n",
    "#### 5) 투 포인터 기법\n",
    "__주의! 이 문제는 '인덱스'를 반환해야 하므로 주로 정렬한 뒤 적용되는 투 포인터 기법은 맞지 않을 수 있다.__ \n",
    "\n",
    "__투 포인터 기법__    \n",
    "1. 주로 정렬된 배열을 대상으로    \n",
    "2. 배열의 인덱스에서 '포인터를 옮겨가며' 풀이하는 방법   \n",
    "3. 아직 알고리즘이 정의되어 있지는 않고 실전적인 풀이기법이다.    \n",
    "4. 슬라이딩 윈도우랑 약간 비슷하다.(20장)    \n",
    "\n",
    "[투 포인터 기법 참고](https://m.blog.naver.com/kks227/220795165570)   \n",
    "\n",
    "** 시간복잡도는 O(n)"
   ]
  },
  {
   "cell_type": "code",
   "execution_count": null,
   "metadata": {},
   "outputs": [],
   "source": [
    "def twoSum(self, nums:List[int], target:int) -> List[int]:\n",
    "    \n",
    "    #왼쪽, 오른쪽 포인터를 정해준다.\n",
    "    left, right = 0, len(nums)-1\n",
    "    \n",
    "    #둘이 중간에서 만나지 않을 때까지 포인터를 움직일고얌\n",
    "    while not left == right:\n",
    "        if nums[left]+nums[right] < target:\n",
    "            left += 1\n",
    "        \n",
    "        else if (nums[left] + nums[right]) > target:\n",
    "            right -= 1\n",
    "        \n",
    "        else:\n",
    "            return left, right"
   ]
  },
  {
   "cell_type": "markdown",
   "metadata": {},
   "source": [
    "#### 6) 고(GO) 언어로 풀이하기   \n",
    "\n",
    "   * 코딩테스트 플랫폼에 따라, 한 테스트 안에서도 언어를 섞어 쓸 수 있는 경우도 있음\n",
    "   * 각 언어의 특성을 숙지하고, 더 빠른 언어를 선택하여 풀이할 수 있음   "
   ]
  },
  {
   "cell_type": "markdown",
   "metadata": {},
   "source": [
    "## 2. 빗물 트래핑   \n",
    "\n",
    "#### 아이디어      \n",
    "   1) 배열 값의 쌍을 찾고,     \n",
    "   2) 인덱스가 얼마나 떨어져 있는지를 구해서 곱한다.\n",
    "   \n",
    "![빗물 트래핑 아이디어]()"
   ]
  },
  {
   "cell_type": "markdown",
   "metadata": {},
   "source": [
    "## 3. 세 수의 합 "
   ]
  },
  {
   "cell_type": "markdown",
   "metadata": {},
   "source": [
    "   * 세 수를 더해서 합이 0이 되게 하는 3개의 원소를 출력하라."
   ]
  },
  {
   "cell_type": "code",
   "execution_count": null,
   "metadata": {},
   "outputs": [],
   "source": [
    "nums = [-1,0,1,2,-1,4]\n",
    "result_array = []\n",
    "\n",
    "nums.sort()\n",
    "print(nums)\n",
    "\n",
    "sum=0\n",
    "\n",
    "    for i in range(0, nums):\n",
    "        for j in range(1,len(nums)-1):\n",
    "            \n",
    "            #브루트 포스 식으로 2개 값의 합을 구한다.\n",
    "    \n",
    "        #만약 -sum 값이 nums 안에 있다면 3개의 값을 result_array에 더한다.\n",
    "        if (-sum) in nums:\n",
    "            result_array.append(nums[i])\n",
    "            result_array.append(nums[j])\n",
    "\n",
    "print(result_array)"
   ]
  },
  {
   "cell_type": "markdown",
   "metadata": {},
   "source": [
    "## 4. 배열 파티션 1(리트코드 561)"
   ]
  },
  {
   "cell_type": "markdown",
   "metadata": {},
   "source": [
    "   * 설명   \n",
    "   1) 무조건 짝수의 길이(2n)로 제공되는 인티저 배열이 있음   \n",
    "   2) 이 integer를 2개씩 짝지어 그 그룹의 최솟값을 구하고,    \n",
    "   3) 각 그룹에서 도출된 최솟값을 더해 나올 수 있는 최대값을 구하라.             \n",
    "   \n",
    "   \n",
    "   * __아이디어__          \n",
    "   1) 그룹에서 무조건 '최솟값'을 구하게 되는 페어에서      \n",
    "   2) 최대로 값을 가져오려면      \n",
    "   3) 작은 것은 작은 것 끼리, 큰 것은 큰 것끼리 짝지어 놓아야 한다.    "
   ]
  },
  {
   "cell_type": "code",
   "execution_count": 30,
   "metadata": {},
   "outputs": [
    {
     "name": "stdout",
     "output_type": "stream",
     "text": [
      "4\n"
     ]
    }
   ],
   "source": [
    "#Input\n",
    "#Sort()하여 오름차순으로 정렬할 수 있도록\n",
    "nums = [4,2,3,1]\n",
    "nums.sort()   \n",
    "\n",
    "sum_nums =0\n",
    "\n",
    "for i,n in enumerate(nums):\n",
    "    if i%2 ==0:\n",
    "        sum_nums += n\n",
    "    \n",
    "        \n",
    "print(sum_nums)"
   ]
  },
  {
   "cell_type": "markdown",
   "metadata": {},
   "source": [
    "### 봐둘만한 코드      \n",
    "\n",
    "1) 파이썬-슬라이싱 이용하기"
   ]
  },
  {
   "cell_type": "code",
   "execution_count": null,
   "metadata": {},
   "outputs": [],
   "source": [
    "def arrayPairSum(srn self, nums:List[int]) -> int:\n",
    "    return sum(sorted(nums)[::2])"
   ]
  },
  {
   "cell_type": "markdown",
   "metadata": {},
   "source": [
    "## 5. 자신을 제외한 배열의 곱(리트코드 238)"
   ]
  },
  {
   "cell_type": "markdown",
   "metadata": {},
   "source": [
    "#### 아이디어      \n",
    "   1. 내 자리만 1로 치환한 새로운 배열을 만든다.\n",
    "   2. 새로운 배열의 모든 원소를 곱한다."
   ]
  },
  {
   "cell_type": "code",
   "execution_count": 37,
   "metadata": {},
   "outputs": [
    {
     "name": "stdout",
     "output_type": "stream",
     "text": [
      "[24]\n"
     ]
    }
   ],
   "source": [
    "nums = [1,2,3,4]\n",
    "index = 0\n",
    "\n",
    "new_nums =[]\n",
    "sum_nums =1\n",
    "\n",
    "for i in enumerate(nums):\n",
    "    if(i == index):\n",
    "        sum_nums = sum_nums*1\n",
    "    \n",
    "    else:\n",
    "        sum_nums *= nums[index]\n",
    "        index +=1\n",
    "    \n",
    "new_nums.append(sum_nums)\n",
    "    \n",
    "         \n",
    "print(new_nums)"
   ]
  },
  {
   "cell_type": "markdown",
   "metadata": {},
   "source": [
    "#### 결과 : 이중 for 문이 되어서 실패      \n",
    "\n",
    "### 정답 풀이"
   ]
  },
  {
   "cell_type": "code",
   "execution_count": 45,
   "metadata": {},
   "outputs": [
    {
     "name": "stdout",
     "output_type": "stream",
     "text": [
      "[48, 24, 12, 8]\n"
     ]
    }
   ],
   "source": [
    "nums = [1,2,4,6]\n",
    "\n",
    "out = []\n",
    "p = 1\n",
    "    \n",
    "for i in range(0, len(nums)):\n",
    "    out.append(p)\n",
    "    p = p*nums[i]\n",
    "    #print(out)\n",
    "p = 1\n",
    "    \n",
    "for i in range(len(nums) -1, 0-1, -1):\n",
    "    out[i] = out[i] *p\n",
    "    p = p*nums[i]\n",
    "    \n",
    "\n",
    "print(out)"
   ]
  },
  {
   "cell_type": "markdown",
   "metadata": {},
   "source": [
    "## 6. 주식을 사고 팔기 가장 좋은 시점(리트코드 121)"
   ]
  },
  {
   "cell_type": "markdown",
   "metadata": {},
   "source": [
    "   * 설명   \n",
    "   1) 매일매일의 주식 가격을 나타내는 배열 prices가 주어진다.    \n",
    "   2) 인덱스==날짜, 값==가격    \n",
    "   ---\n",
    "   * 아이디어     \n",
    "   1) 수익이 가장 크게 나려면 무조건 최저점에서 사야 한다.      \n",
    "   2) 배열 중 최저값을 갖는 인덱스를 반환받고,      \n",
    "   3) 해당 인덱스 뒤로 최대값을 검색하여     \n",
    "   4) 가장 큰 값을 찾는다.     "
   ]
  },
  {
   "cell_type": "code",
   "execution_count": 20,
   "metadata": {},
   "outputs": [
    {
     "name": "stdout",
     "output_type": "stream",
     "text": [
      "이 주식값 배열에서 낼 수 있는 최대의 수익 :  5\n"
     ]
    }
   ],
   "source": [
    "prices = [7,1,5,3,6,4]\n",
    "\n",
    "#최소값을 탐색\n",
    "min_value = min(prices)\n",
    "\n",
    "#최소값 뒤로 배열을 전부 잘라버림\n",
    "prices = prices[prices.index(min_value):]\n",
    "\n",
    "#자른 배열에서 최대값을 검색\n",
    "max_value = max(prices)\n",
    "\n",
    "\n",
    "print(\"이 주식값 배열에서 낼 수 있는 최대의 수익 : \", (max_value - min_value))"
   ]
  },
  {
   "cell_type": "markdown",
   "metadata": {},
   "source": [
    "__첫번째 시도에서 발생한 문제점__\n",
    "\n",
    "![문제점](./PostingPic/6번문제오류.png)"
   ]
  },
  {
   "cell_type": "markdown",
   "metadata": {},
   "source": [
    "   * 응? 왜 틀렸지? 하고 봤더니 배열의 최소값이 가장 마지막 인덱스에 있을 경우에는 다른 대안이 발생할 수도 있다는 것을 누락시켰다는 문제점이 있었다."
   ]
  },
  {
   "cell_type": "code",
   "execution_count": null,
   "metadata": {},
   "outputs": [],
   "source": [
    "prices = [2,4,1]\n",
    "\n",
    "#최소값을 탐색\n",
    "min_value = min(prices)\n",
    "\n",
    "#최소값 뒤로 배열을 전부 잘라버림\n",
    "if(len(prices[prices.index(min_value)]) < 2):\n",
    "    min_value = \n",
    "prices = prices[prices.index(min_value):]\n",
    "\n",
    "#자른 배열에서 최대값을 검색\n",
    "max_value = max(prices)\n",
    "\n",
    "\n",
    "print(\"이 주식값 배열에서 낼 수 있는 최대의 수익 : \", (max_value - min_value))"
   ]
  }
 ],
 "metadata": {
  "kernelspec": {
   "display_name": "aiffel",
   "language": "python",
   "name": "aiffel"
  },
  "language_info": {
   "codemirror_mode": {
    "name": "ipython",
    "version": 3
   },
   "file_extension": ".py",
   "mimetype": "text/x-python",
   "name": "python",
   "nbconvert_exporter": "python",
   "pygments_lexer": "ipython3",
   "version": "3.7.9"
  }
 },
 "nbformat": 4,
 "nbformat_minor": 4
}
