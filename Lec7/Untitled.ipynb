{
 "cells": [
  {
   "cell_type": "markdown",
   "metadata": {},
   "source": [
    "# 7장 배열\n",
    "\n",
    "## 이론    \n",
    "\n",
    "1) 자료구조의 종류   \n",
    "   - 메모리 공간 기반의 연속방식(Contiguous)   \n",
    "   - 포인터 기반의 연결 방식(Link)"
   ]
  },
  {
   "cell_type": "markdown",
   "metadata": {},
   "source": [
    "2) 배열의 특징   \n",
    "   - 어느 위치에나 O(1)에 조회가 가능하다.\n",
    "   - 고정된 크기만큼의 연속된 메모리 할당   \n",
    "   - 동적 배열 자료형의 공간이 추가될 때 늘어나는 것을 '더블링'이라고 한다.   \n",
    "   - 파이썬은 다른 언어에 비해 더블링 시 늘어나는 공간이 작은 편이다."
   ]
  },
  {
   "cell_type": "markdown",
   "metadata": {},
   "source": [
    "## 1. 두 수의 합"
   ]
  },
  {
   "cell_type": "markdown",
   "metadata": {},
   "source": [
    "덧셈하여 타겟을 만들 수 있는 배열의 두 숫자 인덱스를 리턴하라."
   ]
  },
  {
   "cell_type": "code",
   "execution_count": 12,
   "metadata": {},
   "outputs": [],
   "source": [
    "# 입력\n",
    "# nums = [2,7,11,15]\n",
    "nums = [1,2,3,4,7,11,15]\n",
    "target = 9\n",
    "\n",
    "# 아래와 같이 출력되는 것을 희망한다. \n",
    "#[0,1]"
   ]
  },
  {
   "cell_type": "markdown",
   "metadata": {},
   "source": [
    "### 생각의 흐름\n",
    "\n",
    "- 인덱스의 0자리+1자리의 조합, 0자리+2자리의 조합, 0자리+마지막 자리의 조합...\n",
    "- 위와 같은 식으로 두 수의 조합을 만드는 것을 먼저 생각했으나 시간이 오래 걸릴 것 같았다.   \n",
    "- 따라서, 1) 주어진 배열을 모두 돌며 target 보다 큰 수를 제외한 새 배열을 작성하고,    \n",
    "- 그 안에서 조합을 작성하는 방식을 생각하였다."
   ]
  },
  {
   "cell_type": "code",
   "execution_count": 13,
   "metadata": {},
   "outputs": [
    {
     "name": "stdout",
     "output_type": "stream",
     "text": [
      "[1, 2, 3, 4, 7]\n"
     ]
    }
   ],
   "source": [
    "new_nums = []\n",
    "index = 0\n",
    "\n",
    "for i in nums:\n",
    "    if(nums[index] < target):\n",
    "        new_nums.append(i)\n",
    "        index = index+1\n",
    "\n",
    "print(new_nums)"
   ]
  },
  {
   "cell_type": "code",
   "execution_count": null,
   "metadata": {},
   "outputs": [],
   "source": []
  },
  {
   "cell_type": "code",
   "execution_count": null,
   "metadata": {},
   "outputs": [],
   "source": [
    "#"
   ]
  },
  {
   "cell_type": "code",
   "execution_count": null,
   "metadata": {},
   "outputs": [],
   "source": []
  },
  {
   "cell_type": "code",
   "execution_count": null,
   "metadata": {},
   "outputs": [],
   "source": []
  },
  {
   "cell_type": "code",
   "execution_count": null,
   "metadata": {},
   "outputs": [],
   "source": []
  },
  {
   "cell_type": "code",
   "execution_count": null,
   "metadata": {},
   "outputs": [],
   "source": []
  },
  {
   "cell_type": "code",
   "execution_count": null,
   "metadata": {},
   "outputs": [],
   "source": []
  },
  {
   "cell_type": "code",
   "execution_count": null,
   "metadata": {},
   "outputs": [],
   "source": []
  },
  {
   "cell_type": "code",
   "execution_count": null,
   "metadata": {},
   "outputs": [],
   "source": []
  },
  {
   "cell_type": "code",
   "execution_count": null,
   "metadata": {},
   "outputs": [],
   "source": []
  }
 ],
 "metadata": {
  "kernelspec": {
   "display_name": "aiffel",
   "language": "python",
   "name": "aiffel"
  },
  "language_info": {
   "codemirror_mode": {
    "name": "ipython",
    "version": 3
   },
   "file_extension": ".py",
   "mimetype": "text/x-python",
   "name": "python",
   "nbconvert_exporter": "python",
   "pygments_lexer": "ipython3",
   "version": "3.7.9"
  }
 },
 "nbformat": 4,
 "nbformat_minor": 4
}
