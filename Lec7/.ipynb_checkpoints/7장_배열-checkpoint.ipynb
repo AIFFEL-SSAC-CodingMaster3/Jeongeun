{
 "cells": [
  {
   "cell_type": "markdown",
   "metadata": {},
   "source": [
    "# 7장 배열\n",
    "\n",
    "## 이론    \n",
    "\n",
    "1) 자료구조의 종류   \n",
    "   - 메모리 공간 기반의 연속방식(Contiguous)   \n",
    "   - 포인터 기반의 연결 방식(Link)"
   ]
  },
  {
   "cell_type": "markdown",
   "metadata": {},
   "source": [
    "덧셈하여 타겟을 만들 수 있는 배열의 두 숫자 인덱스를 리턴하라."
   ]
  },
  {
   "cell_type": "code",
   "execution_count": null,
   "metadata": {},
   "outputs": [],
   "source": []
  },
  {
   "cell_type": "markdown",
   "metadata": {},
   "source": [
    "## 1. 두 수의 조합(리트코드 1)"
   ]
  },
  {
   "cell_type": "markdown",
   "metadata": {},
   "source": [
    "   * 설명    \n",
    "   1) integer배열인 nums와 int인 target이 주어짐.     \n",
    "   2) 더해서 target이 되는 두 숫자의 인덱스를 반환할 것.      \n",
    "   3) 각 인풋에서는 '오직 하나의 해가 존재함'      \n",
    "   4) 동일한 구성요소를 2번 사용할 수 없음      \n",
    "   5) 인덱스를 출력하는 순서는 상관없음      \n",
    "   ---\n",
    "   * 아이디어          \n",
    "   1) 더해지기 전에 이미 타겟보다 크거나 같은 수는 제외함      \n",
    "   2) 새로 정리된 배열을 가지고, 빼는 개념으로 키를 찾아감        \n"
   ]
  },
  {
   "cell_type": "code",
   "execution_count": 26,
   "metadata": {},
   "outputs": [
    {
     "name": "stdout",
     "output_type": "stream",
     "text": [
      "[2, 37, 36]\n",
      "[0, 3]\n"
     ]
    }
   ],
   "source": [
    "#nums = [2,7,11,15] \n",
    "#target = 9\n",
    "\n",
    "nums = [2,37,39,36,47] \n",
    "target = 38\n",
    "\n",
    "# 정답이 아닌 숫자를 제외할 배열\n",
    "new_array = []\n",
    "\n",
    "# 정답이 될 2숫자의 인덱스를 반환할 배열\n",
    "result = []\n",
    "\n",
    "# 1.더해지기 전에 이미 타겟보다 크거나 같은 수는 제외함\n",
    "for number in nums:\n",
    "    if(number < target):\n",
    "        new_array.append(number)\n",
    "print(new_array)\n",
    "\n",
    "# 새로 정리된 배열 중에서, 빼면서 정답을 찾는 식으로 키를 반환받음\n",
    "for minus1 in new_array:\n",
    "    if (target-minus1) in nums:\n",
    "        result.append(nums.index(minus1))\n",
    "        result.append(nums.index(target-minus1))\n",
    "        break\n",
    "\n",
    "print(result)"
   ]
  },
  {
   "cell_type": "markdown",
   "metadata": {},
   "source": [
    "## 2. 빗물 트래핑"
   ]
  },
  {
   "cell_type": "code",
   "execution_count": null,
   "metadata": {},
   "outputs": [],
   "source": []
  },
  {
   "cell_type": "markdown",
   "metadata": {},
   "source": [
    "## 3. 세 수의 합(리트코드 15)"
   ]
  },
  {
   "cell_type": "code",
   "execution_count": null,
   "metadata": {},
   "outputs": [],
   "source": []
  },
  {
   "cell_type": "markdown",
   "metadata": {},
   "source": [
    "## 4. 배열 파티션 1(리트코드 561)"
   ]
  },
  {
   "cell_type": "markdown",
   "metadata": {},
   "source": [
    "   * 설명   \n",
    "   1) 무조건 짝수의 길이(2n)로 제공되는 인티저 배열이 있음   \n",
    "   2) 이 integer를 2개씩 짝지어 그 그룹의 최솟값을 구하고,    \n",
    "   3) 각 그룹에서 도출된 최솟값을 더해 나올 수 있는 최대값을 구하라.             \n",
    "   \n",
    "   \n",
    "   * __아이디어__          \n",
    "   1) 그룹에서 무조건 '최솟값'을 구하게 되는 페어에서      \n",
    "   2) 최대로 값을 가져오려면      \n",
    "   3) 작은 것은 작은 것 끼리, 큰 것은 큰 것끼리 짝지어 놓아야 한다.    "
   ]
  },
  {
   "cell_type": "code",
   "execution_count": 18,
   "metadata": {},
   "outputs": [],
   "source": [
    "#Input\n",
    "#Sort()하여 오름차순으로 정렬할 수 있도록\n",
    "nums = [4,2,3,1]\n",
    "nums.sort()   \n",
    "\n",
    "len_nums = len(nums)/2\n",
    "\n",
    "# (전체 배열의 길이/2)(2개씩 쌍) 이므로 \n",
    "int numArray[len_nums][2]; \n",
    "\n",
    "for front, back in nums:\n",
    "    numArray[front][back] =  "
   ]
  },
  {
   "cell_type": "markdown",
   "metadata": {},
   "source": [
    "## 5. 자신을 제외한 배열의 곱(리트코드 238)"
   ]
  },
  {
   "cell_type": "markdown",
   "metadata": {},
   "source": [
    "## 6. 주식을 사고 팔기 가장 좋은 시점(리트코드 121)"
   ]
  },
  {
   "cell_type": "markdown",
   "metadata": {},
   "source": [
    "   * 설명   \n",
    "   1) 매일매일의 주식 가격을 나타내는 배열 prices가 주어진다.    \n",
    "   2) 인덱스==날짜, 값==가격    \n",
    "   ---\n",
    "   * 아이디어     \n",
    "   1) 수익이 가장 크게 나려면 무조건 최저점에서 사야 한다.      \n",
    "   2) 배열 중 최저값을 갖는 인덱스를 반환받고,      \n",
    "   3) 해당 인덱스 뒤로 최대값을 검색하여     \n",
    "   4) 가장 큰 값을 찾는다.     "
   ]
  },
  {
   "cell_type": "code",
   "execution_count": 20,
   "metadata": {},
   "outputs": [
    {
     "name": "stdout",
     "output_type": "stream",
     "text": [
      "이 주식값 배열에서 낼 수 있는 최대의 수익 :  5\n"
     ]
    }
   ],
   "source": [
    "prices = [7,1,5,3,6,4]\n",
    "\n",
    "#최소값을 탐색\n",
    "min_value = min(prices)\n",
    "\n",
    "#최소값 뒤로 배열을 전부 잘라버림\n",
    "prices = prices[prices.index(min_value):]\n",
    "\n",
    "#자른 배열에서 최대값을 검색\n",
    "max_value = max(prices)\n",
    "\n",
    "\n",
    "print(\"이 주식값 배열에서 낼 수 있는 최대의 수익 : \", (max_value - min_value))"
   ]
  },
  {
   "cell_type": "markdown",
   "metadata": {},
   "source": [
    "__첫번째 시도에서 발생한 문제점__\n",
    "\n",
    "![문제점](./PostingPic/6번문제오류.png)"
   ]
  },
  {
   "cell_type": "markdown",
   "metadata": {},
   "source": [
    "   * 응? 왜 틀렸지? 하고 봤더니 배열의 최소값이 가장 마지막 인덱스에 있을 경우에는 다른 대안이 발생할 수도 있다는 것을 누락시켰다는 문제점이 있었다."
   ]
  },
  {
   "cell_type": "code",
   "execution_count": null,
   "metadata": {},
   "outputs": [],
   "source": [
    "prices = [2,4,1]\n",
    "\n",
    "#최소값을 탐색\n",
    "min_value = min(prices)\n",
    "\n",
    "#최소값 뒤로 배열을 전부 잘라버림\n",
    "if(len(prices[prices.index(min_value)]) < 2):\n",
    "    min_value = \n",
    "prices = prices[prices.index(min_value):]\n",
    "\n",
    "#자른 배열에서 최대값을 검색\n",
    "max_value = max(prices)\n",
    "\n",
    "\n",
    "print(\"이 주식값 배열에서 낼 수 있는 최대의 수익 : \", (max_value - min_value))"
   ]
  },
  {
   "cell_type": "markdown",
   "metadata": {},
   "source": [
    "## 5. 자신을 제외한 배열의 곱(리트코드238)"
   ]
  },
  {
   "cell_type": "markdown",
   "metadata": {},
   "source": [
    "## 6. 주식을 사고팔기 가장 좋은 시점(리트코드 121)"
   ]
  },
  {
   "cell_type": "code",
   "execution_count": null,
   "metadata": {},
   "outputs": [],
   "source": []
  },
  {
   "cell_type": "code",
   "execution_count": null,
   "metadata": {},
   "outputs": [],
   "source": []
  },
  {
   "cell_type": "code",
   "execution_count": null,
   "metadata": {},
   "outputs": [],
   "source": []
  }
 ],
 "metadata": {
  "kernelspec": {
   "display_name": "aiffel",
   "language": "python",
   "name": "aiffel"
  },
  "language_info": {
   "codemirror_mode": {
    "name": "ipython",
    "version": 3
   },
   "file_extension": ".py",
   "mimetype": "text/x-python",
   "name": "python",
   "nbconvert_exporter": "python",
   "pygments_lexer": "ipython3",
   "version": "3.7.9"
  }
 },
 "nbformat": 4,
 "nbformat_minor": 4
}
