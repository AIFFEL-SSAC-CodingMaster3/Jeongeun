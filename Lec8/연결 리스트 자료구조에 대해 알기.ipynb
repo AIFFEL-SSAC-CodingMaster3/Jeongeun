{
 "cells": [
  {
   "cell_type": "markdown",
   "metadata": {},
   "source": [
    "### 연결 리스트란?       \n",
    "\n",
    "- 연결 리스트는 대부분의 알고리즘에서 사용하는 기본 자료구조이다. \n",
    "- __알고리즘에서 사용하는 데이터와 다음 노드를 가리키는 링크를 묶어서 노드로 정의하여 사용__ 한다.     \n",
    "\n",
    "\n",
    "> 오? C나 C++은 포인터의 개념이 있지만 파이썬에서는 어떻게 연결 리스트를 만든다는 말이지?"
   ]
  },
  {
   "cell_type": "markdown",
   "metadata": {},
   "source": [
    "#### 1) 노드와 링크         \n",
    "- 파이썬에서 연결 리스트를 사용하기 위해서는 노드(데이터+링크)를 다음과 같이 클래스로 정의하여 사용한다."
   ]
  },
  {
   "cell_type": "code",
   "execution_count": null,
   "metadata": {},
   "outputs": [],
   "source": [
    "class Node:\n",
    "    def__init(self, data, next=None) :\n",
    "        self.data = data\n",
    "        self.next = next"
   ]
  },
  {
   "cell_type": "markdown",
   "metadata": {},
   "source": [
    "#### 2) 연결리스트의 특징         \n",
    "- 연결 리스트는 연속적이지 않은 데이터들을 링크로 서로 연결한다.(배열의 단점을 보완하는 자료구조 형태이다.)"
   ]
  },
  {
   "cell_type": "markdown",
   "metadata": {},
   "source": [
    "#### 3) 연결리스트의 삽입과 삭제     \n",
    "\n",
    "3-1. 연결리스트의 초기화"
   ]
  },
  {
   "cell_type": "code",
   "execution_count": 3,
   "metadata": {},
   "outputs": [
    {
     "name": "stdout",
     "output_type": "stream",
     "text": [
      "A\n",
      "B\n",
      "C\n",
      "D\n"
     ]
    }
   ],
   "source": [
    "# 데이터와 링크(다음 노드의 연결 정보)를 갖는 클래스 'Node'를 설정한다.\n",
    "class Node:\n",
    "    def __init__(self, data, next=None):\n",
    "        self.data = data\n",
    "        self.next = next\n",
    "\n",
    "# A->B->C->D로 연결된 형태의 연결리스트를 초기화하는 함수\n",
    "def init_list():\n",
    "    global node_A\n",
    "    node_A = Node(\"A\")\n",
    "    node_B = Node(\"B\")\n",
    "    node_C = Node(\"C\")\n",
    "    node_D = Node(\"D\")\n",
    "    \n",
    "    node_A.next= node_B\n",
    "    node_B.next= node_C\n",
    "    node_C.next= node_D\n",
    "\n",
    "# 연결리스트를 A부터 차례대로 출력해준다.    \n",
    "def print_list():\n",
    "    global node_A\n",
    "    \n",
    "    #이 때, 시작은 A부터 \n",
    "    node = node_A\n",
    "    \n",
    "    #단, node=node.next로 다음 데이터가 누구인지 알려준다.\n",
    "    while node:\n",
    "        print(node.data)\n",
    "        node = node.next\n",
    "        \n",
    "    print\n",
    "    \n",
    "if __name__ == '__main__':\n",
    "    init_list()\n",
    "    print_list()"
   ]
  },
  {
   "cell_type": "markdown",
   "metadata": {},
   "source": [
    "##### 3-2. 연결리스트의 삽입과 삭제"
   ]
  },
  {
   "cell_type": "code",
   "execution_count": 7,
   "metadata": {},
   "outputs": [],
   "source": [
    "class Node:\n",
    "    def __init__(self, data, next=None):\n",
    "        self.data = data\n",
    "        self.next = next\n",
    "\n",
    "# A->B->C->D로 연결된 형태의 연결리스트를 초기화하는 함수\n",
    "def init_list():\n",
    "    global node_A\n",
    "    node_A = Node(\"A\")\n",
    "    node_B = Node(\"B\")\n",
    "    node_D = Node(\"D\")\n",
    "    node_E = Node(\"E\")\n",
    "    \n",
    "    node_A.next= node_B\n",
    "    node_B.next= node_D\n",
    "    node_D.next= node_E"
   ]
  },
  {
   "cell_type": "code",
   "execution_count": 4,
   "metadata": {},
   "outputs": [],
   "source": [
    "#노드를 삭제(삭제할 노드 이름)\n",
    "def delete_node(del_data):\n",
    "    global node_A\n",
    "    \n",
    "    #일단 A를 기준으로, 연결시켜주기\n",
    "    pre_node = node_A\n",
    "    next_node = pre_node.next\n",
    "    \n",
    "    #만약 이전 노드가 == 지우려는 노드 데이터라면\n",
    "    if(pre_node.data == del_data):\n",
    "        #A를 다음 노드로 하고, 이전 노드를 지운다.\n",
    "        node_A = next_node\n",
    "        del pre_node\n",
    "        return\n",
    "    \n",
    "    while next_node:\n",
    "        \n",
    "        #만약 넥스트 노드의 데이터가 지울 노드였다면\n",
    "        if next_node.data == del_data:\n",
    "            #이전 노드에서 (지금 지우기 전에 next랑 연결해주고)\n",
    "            pre_node.next = next_node.next\n",
    "            #이제서야 지울 녀석을 지운다.\n",
    "            del next_node\n",
    "            break\n",
    "        \n",
    "        pre_node=next_node\n",
    "        next_node=next_node.next"
   ]
  },
  {
   "cell_type": "code",
   "execution_count": 5,
   "metadata": {},
   "outputs": [],
   "source": [
    "def insert_node(data):\n",
    "    global node_A\n",
    "    \n",
    "    new_node = Node(data)\n",
    "    \n",
    "    node_P = node_A\n",
    "    node_T = node_A\n",
    "    \n",
    "    while node_T.data <= data:\n",
    "        node_P = node_T\n",
    "        node_T = node_T.next\n",
    "        \n",
    "    new_node.next = node_T\n",
    "    node_P.next = new_node"
   ]
  },
  {
   "cell_type": "code",
   "execution_count": 8,
   "metadata": {},
   "outputs": [
    {
     "name": "stdout",
     "output_type": "stream",
     "text": [
      "연결 리스트 초기화 후\n",
      "A\n",
      "B\n",
      "D\n",
      "E\n",
      "노드 C를 추가한 후\n",
      "A\n",
      "B\n",
      "C\n",
      "D\n",
      "E\n"
     ]
    }
   ],
   "source": [
    "# 연결리스트를 A부터 차례대로 출력해준다.    \n",
    "def print_list():\n",
    "    global node_A\n",
    "    \n",
    "    #이 때, 시작은 A부터 \n",
    "    node = node_A\n",
    "    \n",
    "    #단, node=node.next로 다음 데이터가 누구인지 알려준다.\n",
    "    while node:\n",
    "        print(node.data)\n",
    "        node = node.next\n",
    "        \n",
    "    print\n",
    "    \n",
    "if __name__ == '__main__':\n",
    "    print(\"연결 리스트 초기화 후\")\n",
    "    init_list()\n",
    "    print_list()\n",
    "    print(\"노드 C를 추가한 후\")\n",
    "    insert_node(\"C\")\n",
    "    print_list()"
   ]
  },
  {
   "cell_type": "markdown",
   "metadata": {},
   "source": [
    "### 4. 이중 연결 리스트      \n",
    "\n",
    "- 배열과 달리 프로그램 실행 중에도 동적으로 새로운 노드를 삽입하거나 삭제할 수 있음     \n",
    "- 단일 연결 리스트(한 방향)과 달리, 양방향으로 오갈 수 있음"
   ]
  },
  {
   "cell_type": "markdown",
   "metadata": {},
   "source": [
    "#### 4-1. 이중연결리스트 초기화"
   ]
  },
  {
   "cell_type": "code",
   "execution_count": 10,
   "metadata": {},
   "outputs": [
    {
     "name": "stdout",
     "output_type": "stream",
     "text": [
      "연결 리스트의 초기화 후\n",
      "A\n",
      "B\n",
      "D\n",
      "E\n"
     ]
    }
   ],
   "source": [
    "class Node:\n",
    "    def __init__(self, data, next=None, prev=None):\n",
    "        self.data = data\n",
    "        self.next = next\n",
    "        self.prev = prev\n",
    "        \n",
    "def init_list():\n",
    "    global node_A\n",
    "    \n",
    "    node_A = Node(\"A\")\n",
    "    node_B = Node(\"B\")\n",
    "    node_D = Node(\"D\")\n",
    "    node_E = Node(\"E\")\n",
    "    \n",
    "    node_A.next = node_B\n",
    "    \n",
    "    node_B.next = node_D\n",
    "    node_B.prev = node_A\n",
    "   \n",
    "    node_D.next = node_E\n",
    "    node_D.prev = node_B\n",
    "    \n",
    "\n",
    "def print_list():\n",
    "    global node_A\n",
    "    \n",
    "    node = node_A\n",
    "    while node:\n",
    "        print(node.data)\n",
    "        node = node.next\n",
    "    \n",
    "    print\n",
    "    \n",
    "if __name__ == '__main__':\n",
    "    print(\"연결 리스트의 초기화 후\")\n",
    "    init_list()\n",
    "    print_list() \n",
    "    "
   ]
  },
  {
   "cell_type": "code",
   "execution_count": null,
   "metadata": {},
   "outputs": [],
   "source": []
  },
  {
   "cell_type": "code",
   "execution_count": null,
   "metadata": {},
   "outputs": [],
   "source": []
  },
  {
   "cell_type": "code",
   "execution_count": null,
   "metadata": {},
   "outputs": [],
   "source": []
  }
 ],
 "metadata": {
  "kernelspec": {
   "display_name": "aiffel",
   "language": "python",
   "name": "aiffel"
  },
  "language_info": {
   "codemirror_mode": {
    "name": "ipython",
    "version": 3
   },
   "file_extension": ".py",
   "mimetype": "text/x-python",
   "name": "python",
   "nbconvert_exporter": "python",
   "pygments_lexer": "ipython3",
   "version": "3.7.9"
  }
 },
 "nbformat": 4,
 "nbformat_minor": 4
}
