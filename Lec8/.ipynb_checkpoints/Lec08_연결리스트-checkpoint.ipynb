{
 "cells": [
  {
   "cell_type": "markdown",
   "metadata": {},
   "source": [
    "## 연결리스트       \n",
    "\n",
    "---\n",
    "1. 연결리스트 : 하나의 데이터가 자신의 이전, 다음 데이터의 위치를 기억하고 있는 자료구조     \n",
    "    \n",
    "   * 노드끼리의 연결 관계에 따라 종류가 나뉜다.    \n",
    "   * 단일 연결리스트 __파이썬에서는 리스트가 항상 단일 연결 리스트이다__   \n",
    "   * 이중 연결리스트    \n",
    "---\n",
    "[연결 리스트의 장점 및 특징]   \n",
    "1. __연결 리스트는 가장 기본적인 선형 자료구조__ 로, 배열과 함께 다양한 추상 자료형 구현의 기반이 된다.         \n",
    "2. 새로운 노드를 삽입하거나 삭제하기 간편하다.    \n",
    "3. 연결을 통해 물리 메모리를 '연속적으로' 사용하지 않아 관리가 쉽다.     \n",
    "4. '포인터로 연결한다' 라는 개념을 다양하게 활용 가능하다. \n",
    "--- \n",
    "[연결 리스트의 단점]    \n",
    "1. 연결 리스트는 특정 인덱스에 접근하려면 항상 순서대로 읽어야 한다.($O(1)$ 에 조회 불가능)     \n",
    "---\n",
    "* 잠깐! 추상 자료형이란?\n",
    "- 기능의 구현을 나타내지 않고 '기능만 정의한 것'     \n",
    "- 사람에 따라 다 다르게 구현 가능하다"
   ]
  },
  {
   "cell_type": "markdown",
   "metadata": {},
   "source": [
    "## 연결리스트 구현"
   ]
  },
  {
   "cell_type": "code",
   "execution_count": null,
   "metadata": {},
   "outputs": [],
   "source": [
    "class linkedList:\n",
    "    def __init__(self, val, next=None):\n",
    "        self.val = val\n",
    "        self.next = None"
   ]
  },
  {
   "cell_type": "code",
   "execution_count": 8,
   "metadata": {},
   "outputs": [],
   "source": [
    "class Node(object):\n",
    "    def __init__(self, data, next = None):\n",
    "        self.data = data\n",
    "        self.next = next\n",
    "\n",
    "class SList(object):\n",
    "    def __init__(self):\n",
    "        self.head = Node(None)\n",
    "        self.size = 0\n",
    "        \n",
    "    def listSize(self):\n",
    "        return self.size\n",
    "    \n",
    "    def is_empty(self):\n",
    "        if self.size != 0:\n",
    "            return False\n",
    "        else:\n",
    "            return True\n",
    "        \n",
    "    def selectNode(self, idx):\n",
    "        if idx >= self.size:\n",
    "            print(\"Index Error\")\n",
    "            return None\n",
    "        if idx == 0:\n",
    "            return self.head\n",
    "        else:\n",
    "            target = self.head\n",
    "            for cnt in range(idx):\n",
    "                target = target.next\n",
    "            return target\n",
    "        \n",
    "    def appendleft(self, value):\n",
    "        if self.is_empty():\n",
    "            self.head = Node(value)\n",
    "        else:\n",
    "            self.head = Node(value, self.head)\n",
    "        self.size += 1\n",
    "    \n",
    "    def append(self, value):\n",
    "        if self.is_empty():\n",
    "            self.head = Node(value)\n",
    "            self.size += 1\n",
    "        else:\n",
    "            target = self.head\n",
    "            while target.next != None:\n",
    "                target = target.next\n",
    "            newtail = Node(value)\n",
    "            target.next = newtail\n",
    "            self.size += 1\n",
    "        \n",
    "    def insert(self, value, idx):\n",
    "        if self.is_empty():\n",
    "            self.head = Node(value)\n",
    "            self.size += 1\n",
    "        elif idx == 0:\n",
    "            self.head = Node(value, self.head)\n",
    "            self.size += 1\n",
    "        else:\n",
    "            target = self.selectNode(idx-1)\n",
    "            if target == None:\n",
    "                return\n",
    "            newNode = Node(value)\n",
    "            tmp = target.next\n",
    "            target.next = newNode\n",
    "            newNode.next = tmp\n",
    "            self.size += 1\n",
    "        \n",
    "    def delete(self, idx):\n",
    "        if self.is_empty():\n",
    "            print('Underflow: Empty Linked List Error')\n",
    "            return\n",
    "        elif idx >= self.size:\n",
    "            print('Overflow: Index Error')\n",
    "            return\n",
    "        elif idx == 0:\n",
    "            target = self.head\n",
    "            self.head = target.next\n",
    "            del(target)\n",
    "            self.size -= 1\n",
    "        else:\n",
    "            target = self.selectNode(idx-1)\n",
    "            deltarget = target.next\n",
    "            target.next = target.next.next\n",
    "            del(deltarget)\n",
    "            self.size -= 1\n",
    "            \n",
    "    def printlist(self):\n",
    "        target = self.head\n",
    "        while target:\n",
    "            if target.next != None:\n",
    "                print(target.data, '-> ', end='')\n",
    "                target = target.next\n",
    "            else:\n",
    "                print(target.data)\n",
    "                target = target.next"
   ]
  },
  {
   "cell_type": "markdown",
   "metadata": {},
   "source": [
    "## 1. 팰린드롬 연결리스트(리트코드 234)"
   ]
  },
  {
   "cell_type": "code",
   "execution_count": 24,
   "metadata": {},
   "outputs": [
    {
     "name": "stdout",
     "output_type": "stream",
     "text": [
      "2\n",
      "1 -> 2\n"
     ]
    }
   ],
   "source": [
    "l1 = SList()\n",
    "l1.append(1)\n",
    "l1.append(2)\n",
    "\n",
    "print(l1.listSize())\n",
    "l1.printlist()"
   ]
  },
  {
   "cell_type": "markdown",
   "metadata": {},
   "source": [
    "##### 해결 방법을 떠올리지 못해서 소스코드만 공부함\n",
    "\n",
    "### 다양한 풀이 방법\n",
    "1. 리스트로 변환하여 해결하는 방법\n",
    "2. 데크를 이용한 최적화\n",
    "3. 런너 기법\n",
    "---\n",
    "#### 1. 리스트 변환 해결법           \n",
    "- 팰린드롬 여부를 추출하기 위해서는 앞,뒤로 모두 추출할 수 있는 자료구조가 필요    \n",
    "- 파이썬 리스트는 pop()이 있어 마지막 요소가 아니라도 원하는 위치를 추출할 수 있을 것임"
   ]
  },
  {
   "cell_type": "code",
   "execution_count": 29,
   "metadata": {},
   "outputs": [],
   "source": [
    "def isPalindrome(head:SList) -> bool :\n",
    "    \n",
    "    new_list = []\n",
    "    \n",
    "    #만약 요소가 없다면, 그대로 True(예외처리)\n",
    "    if not head:\n",
    "        return True\n",
    "    \n",
    "    node = head\n",
    "    \n",
    "    #만약 node에 값이 있다면, new_list라는 리스트에 node.data를 전달\n",
    "    while node is not None:\n",
    "        new_list.append(node.data)\n",
    "        node = node.next\n",
    "    \n",
    "    #new_list로 변환한 값을 가지고, pop을 이용하여 처음과 끝 비교\n",
    "    while len(new_list)>1:\n",
    "        if new_list.pop(0) != new_list.pop():\n",
    "            return False\n",
    "    return True"
   ]
  },
  {
   "cell_type": "markdown",
   "metadata": {},
   "source": [
    "![1번 결과](./PostingPic/1번정답.png)\n",
    "\n",
    "![1번 결과](./PostingPic/1번정답결과.png)"
   ]
  },
  {
   "cell_type": "markdown",
   "metadata": {},
   "source": [
    "#### 2. deque로 최적화하기        \n",
    "- 리스트의 경우, 동적배열형이므로 '자료를 꺼낼 때 걸리는 시간' == $o(n)$     \n",
    "- 이를 개선하기 위해 파이썬 자료형인 Deque를 통해 속도를 $O(1)$로 바꿀 수 있음   "
   ]
  },
  {
   "cell_type": "code",
   "execution_count": null,
   "metadata": {},
   "outputs": [],
   "source": [
    "def isPalindrome(head:SList) -> bool :\n",
    "    \n",
    "    new_que = collections.deque()\n",
    "    \n",
    "    #만약 요소가 없다면, 그대로 True(예외처리)\n",
    "    if not head:\n",
    "        return True\n",
    "    \n",
    "    node = head\n",
    "    \n",
    "    #만약 node에 값이 있다면, new_list라는 리스트에 node.data를 전달\n",
    "    while node is not None:\n",
    "        new_que.append(node.val)\n",
    "        node = node.next\n",
    "    \n",
    "    #new_list로 변환한 값을 가지고, pop을 이용하여 처음과 끝 비교\n",
    "    while len(new_que)>1:\n",
    "        if new_que.popleft(0) != new_que.pop():\n",
    "            return False\n",
    "    return True"
   ]
  },
  {
   "cell_type": "code",
   "execution_count": null,
   "metadata": {},
   "outputs": [],
   "source": [
    "class Solution:\n",
    "    def isPalindrome(self, head: ListNode) -> bool: \n",
    "            \n",
    "        new_que = collections.deque()\n",
    "        \n",
    "        while head:\n",
    "            new_que.append(head.val)\n",
    "            head  = head.next\n",
    "        \n",
    "        while len(new_que) > 1:\n",
    "            if new_que.popleft() != new_que.pop():\n",
    "                return False"
   ]
  },
  {
   "cell_type": "markdown",
   "metadata": {},
   "source": [
    "![1번 디큐](./PostingPic/1번디큐.png)"
   ]
  },
  {
   "cell_type": "markdown",
   "metadata": {},
   "source": [
    "#### 3. 런너를 활용하기          \n",
    "\n",
    "- 빠른 런너와 느린 런너를 배치하여       \n",
    "- 느린런너는 (중간까지) 역순의 리스트를 만들고,     \n",
    "- 중간 이후로는 남은 리스트와 == 역순의 리스트가 일치하는지 여부를 본다."
   ]
  },
  {
   "cell_type": "code",
   "execution_count": 32,
   "metadata": {},
   "outputs": [
    {
     "name": "stdout",
     "output_type": "stream",
     "text": [
      "True\n"
     ]
    }
   ],
   "source": [
    "print(not None)"
   ]
  },
  {
   "cell_type": "code",
   "execution_count": null,
   "metadata": {},
   "outputs": [],
   "source": [
    "class Solution:\n",
    "    def isPalindrome(self, head: ListNode) -> bool: \n",
    "        \n",
    "        rev = None\n",
    "        \n",
    "        #출발은 같이 함\n",
    "        slow = fast = head\n",
    "        \n",
    "        #fast와 fast..next가 있을 때까지\n",
    "        while (fast and fast.next) :\n",
    "            #fast는 두 칸씩 뛰어넘어감\n",
    "            fast = fast.next.next\n",
    "            \n",
    "            #rev = slow         rev는 역순의 리스트노드\n",
    "            #rev.next = rev     rev의 다음 노드는 slow이다.\n",
    "            #slow = slow.next   slow는 천천히 다음 노드로 간다.\n",
    "            \n",
    "            rev, rev.next , slow = slow, rev, slow.next\n",
    "        \n",
    "        #아직 fast이면(갈 곳이 남았다면 slow는 계속 다음을 향해 간다.)\n",
    "        if fast :\n",
    "            slow = slow.next\n",
    "            \n",
    "        while rev and rev.val == slow.val :\n",
    "            slow = slow.next\n",
    "            rev = rev.next\n",
    "        \n",
    "        return not rev"
   ]
  },
  {
   "cell_type": "markdown",
   "metadata": {},
   "source": [
    "## 14. 두 정렬 리스트의 병합(leetcode 21)"
   ]
  },
  {
   "cell_type": "code",
   "execution_count": null,
   "metadata": {},
   "outputs": [],
   "source": [
    "# Definition for singly-linked list.\n",
    "# class ListNode:\n",
    "#     def __init__(self, val=0, next=None):\n",
    "#         self.val = val\n",
    "#         self.next = next\n",
    "class Solution:\n",
    "    def mergeTwoLists(self, l1: ListNode, l2: ListNode) -> ListNode:\n",
    "        \n",
    "        # 돌려줄 리스트\n",
    "        head = ListNode(0)\n",
    "        ptr = head\n",
    "        \n",
    "        while True:\n",
    "            if l1 is None and l2 is None:\n",
    "                break\n",
    "                \n",
    "            elif l1 is None:\n",
    "                ptr.next = l2\n",
    "                break\n",
    "                \n",
    "            elif l2 is None:\n",
    "                ptr.next = l2\n",
    "                break\n",
    "                \n",
    "            else:\n",
    "                smallerValue = 0\n",
    "                \n",
    "                #만약에 l1값이 l2값보다 작으면\n",
    "                #l1값을 주되 l1줄에 머물러 있을 것\n",
    "                if(l1.val < l2.val):\n",
    "                    smallerValue = l1.val\n",
    "                    l1 = l1.next\n",
    "                \n",
    "                else:\n",
    "                    smallerValue = l2.val\n",
    "                    l2 = l2.next\n",
    "                    \n",
    "                newNode = ListNode(smallerValue)\n",
    "                ptr.next = newNode\n",
    "                ptr = ptr.next\n",
    "                print(newNode)\n",
    "                \n",
    "        return head.next"
   ]
  },
  {
   "cell_type": "markdown",
   "metadata": {},
   "source": [
    "## 역순 연결리스트(leetcode 206)"
   ]
  },
  {
   "cell_type": "markdown",
   "metadata": {},
   "source": [
    "[여기](https://www.youtube.com/watch?v=XDO6I8jxHtA) , 7분"
   ]
  },
  {
   "cell_type": "code",
   "execution_count": null,
   "metadata": {},
   "outputs": [],
   "source": [
    "class Solution:\n",
    "    def reverseList(self, head: ListNode) -> ListNode:\n",
    "        \n",
    "        prev = None\n",
    "        \n",
    "        while head:\n",
    "            temp = head\n",
    "            head = head.next\n",
    "            temp.next = prev\n",
    "            prev = temp\n",
    "            \n",
    "        return prev"
   ]
  },
  {
   "cell_type": "markdown",
   "metadata": {},
   "source": [
    "## 두 수의 덧셈(leetcode 2)"
   ]
  },
  {
   "cell_type": "code",
   "execution_count": null,
   "metadata": {},
   "outputs": [],
   "source": [
    "class Solution:\n",
    "    def addTwoNumbers(self, l1: ListNode, l2: ListNode) -> ListNode:\n",
    "        \n",
    "        number_list1 = []\n",
    "        number_list2 = []\n",
    "        \n",
    "        sum_1=0\n",
    "        sum_2=0\n",
    "        real_sum = 0        \n",
    "        \n",
    "        while l1:\n",
    "            number_list1.append(l1.val)\n",
    "        print(number_list1)\n",
    "            \n",
    "        while l2:\n",
    "            number_list2.append(l2.val)\n",
    "        print(number_list2)\n",
    "        \n",
    "        \n",
    "        for i in range(number_list1):\n",
    "            \n",
    "            sum_1 += number_list1[i] * (10^i)\n",
    "            sum_2 += number_list2[i] * (10^i)\n",
    "            \n",
    "        real_sum = sum_1+sum_2\n",
    "        \n",
    "        real_sum.split()"
   ]
  },
  {
   "cell_type": "markdown",
   "metadata": {},
   "source": [
    "[여기](https://www.youtube.com/watch?v=SbcCpAw_8Dg)"
   ]
  },
  {
   "cell_type": "code",
   "execution_count": null,
   "metadata": {},
   "outputs": [],
   "source": [
    "class Solution:\n",
    "    def addTwoNumbers(self, l1: ListNode, l2: ListNode) -> ListNode:\n",
    "        \n",
    "        #포인터\n",
    "        p1 = l1\n",
    "        p2 = l2\n",
    "        \n",
    "        #캐리 계산\n",
    "        currentCarry = 0\n",
    "        \n",
    "        # head => 나중에 리턴할 값\n",
    "        # current => 움직일 값\n",
    "        head = current = ListNode(0)\n",
    "        \n",
    "        #p1, p2, 캐리가 있는 동안\n",
    "        while p1 or p2 or currentCarry:\n",
    "            \n",
    "            print(p1.val, p2.val, currentCarry)\n",
    "            \n",
    "            #자리수를 계산할 current_val\n",
    "            current_val = currentCarry\n",
    "            \n",
    "            #p1, p2를 계산하고\n",
    "            current_val += 0 if p1 is None else p1.val\n",
    "            current_val += 0 if p2 is None else p2.val\n",
    "            \n",
    "            if current_val >= 10:\n",
    "                current_val -= 10\n",
    "                currentCarry = 1\n",
    "            else:\n",
    "                currentCarry = 0\n",
    "                \n",
    "            print(current_val, currentCarry)\n",
    "            \n",
    "            current.next = ListNode(current_val)\n",
    "            current = current.next\n",
    "            \n",
    "            if p1 is None and p2 is None:\n",
    "                break\n",
    "                \n",
    "            elif p1 is None:\n",
    "                p2 = p2.next\n",
    "            elif p2 is None:\n",
    "                p1 = p1.next\n",
    "            else:\n",
    "                p1 = p1.next\n",
    "                p2 = p2.next\n",
    "                \n",
    "                \n",
    "        return head.next"
   ]
  },
  {
   "cell_type": "markdown",
   "metadata": {},
   "source": [
    "## 페어의 노드 스왑(leetcode 24)"
   ]
  },
  {
   "cell_type": "code",
   "execution_count": null,
   "metadata": {},
   "outputs": [],
   "source": [
    "class Solution:\n",
    "    def swapPairs(self, head: ListNode) -> ListNode:\n",
    "        \n",
    "        fast = temp = head\n",
    "        \n",
    "        while head is not None:\n",
    "        \n",
    "            temp.next = head.next.next.next\n",
    "            fast = head.next\n",
    "            temp = fast\n",
    "\n",
    "            fast.next = head\n",
    "            \n",
    "            head = temp\n",
    "            head.next = fast.next\n",
    "            \n",
    "            fast.next = temp.next\n",
    "            return head"
   ]
  },
  {
   "cell_type": "code",
   "execution_count": null,
   "metadata": {},
   "outputs": [],
   "source": [
    "Error - Found cycle in the ListNode"
   ]
  }
 ],
 "metadata": {
  "kernelspec": {
   "display_name": "aiffel",
   "language": "python",
   "name": "aiffel"
  },
  "language_info": {
   "codemirror_mode": {
    "name": "ipython",
    "version": 3
   },
   "file_extension": ".py",
   "mimetype": "text/x-python",
   "name": "python",
   "nbconvert_exporter": "python",
   "pygments_lexer": "ipython3",
   "version": "3.7.9"
  }
 },
 "nbformat": 4,
 "nbformat_minor": 4
}
