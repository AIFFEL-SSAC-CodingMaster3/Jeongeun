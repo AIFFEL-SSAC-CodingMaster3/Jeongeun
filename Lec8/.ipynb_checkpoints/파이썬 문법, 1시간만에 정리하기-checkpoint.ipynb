{
 "cells": [
  {
   "cell_type": "markdown",
   "metadata": {},
   "source": [
    "[이 강의를 참고하여 문법을 정리해보았음](https://www.youtube.com/watch?v=M6kQTpIqpLs)"
   ]
  },
  {
   "cell_type": "markdown",
   "metadata": {},
   "source": [
    "### 숫자"
   ]
  },
  {
   "cell_type": "code",
   "execution_count": 4,
   "metadata": {},
   "outputs": [
    {
     "name": "stdout",
     "output_type": "stream",
     "text": [
      "1 2\n"
     ]
    }
   ],
   "source": [
    "#숫자\n",
    "#이렇게 ','로 나누어서 선언할 수도 있음\n",
    "x,y = 1, 2\n",
    "\n",
    "print(x, y)"
   ]
  },
  {
   "cell_type": "code",
   "execution_count": 6,
   "metadata": {},
   "outputs": [
    {
     "name": "stdout",
     "output_type": "stream",
     "text": [
      "더하기 : 3\n",
      "빼기 :  -1\n",
      "곱하기 : 2\n",
      "나누기 : 0.5\n",
      "제곱 :  2\n",
      "나머지연산 : 1\n"
     ]
    }
   ],
   "source": [
    "#기본적인 사칙연산을 모두 지원함\n",
    "\n",
    "print('더하기 :' ,x+y)\n",
    "print('빼기 : '  ,x-y)\n",
    "print('곱하기 :', x*y)\n",
    "print('나누기 :', x/y)\n",
    "print('제곱 : ', y**x)\n",
    "print('나머지연산 :', x%y) #mode(나머지가 얼마나 나오는지를 알려주는 연산)"
   ]
  },
  {
   "cell_type": "markdown",
   "metadata": {},
   "source": [
    "### 문자열"
   ]
  },
  {
   "cell_type": "code",
   "execution_count": 7,
   "metadata": {},
   "outputs": [
    {
     "name": "stdout",
     "output_type": "stream",
     "text": [
      "인공지능 공부\n",
      "아주 재미있죠!\n",
      "앞으로도 열심히 해봅시다\n"
     ]
    }
   ],
   "source": [
    "# \"\"나 ''로 선언, 두 선언방식 사이에 차이점 없음\n",
    "\n",
    "x = '안녕, '\n",
    "y = '반가워요'\n",
    "\n",
    "# \"\"\" / \"\"\" 으로 여러 줄을 한꺼번에 선언할 수 있다\n",
    "z = \"\"\"인공지능 공부\n",
    "아주 재미있죠!\n",
    "앞으로도 열심히 해봅시다\"\"\"\n",
    "\n",
    "print(z)"
   ]
  },
  {
   "cell_type": "markdown",
   "metadata": {},
   "source": [
    "### 숫자와 문자열을 함께 인쇄할 때는"
   ]
  },
  {
   "cell_type": "code",
   "execution_count": 10,
   "metadata": {},
   "outputs": [
    {
     "name": "stdout",
     "output_type": "stream",
     "text": [
      "하하 오늘은 5번째, 금요일이라구\n",
      "하하 오늘은  5 번째, 금요일이라구\n"
     ]
    }
   ],
   "source": [
    "# ,를 씁니다. C#에서는 +을 쓰지만 파이썬에서는 이렇게 쓰면 오류난다구요\n",
    "\n",
    "x=\"하하 오늘은 \"\n",
    "y=5\n",
    "z=\"번째, 금요일이라구\"\n",
    "\n",
    "# 'can only concatenate str to str', 타입이 안 맞는다는 오류를 뱉게 됨.\n",
    "#print(x+y+z)\n",
    "\n",
    "#정 +를 쓰고 싶다면 이렇게 하자.\n",
    "print(x+str(y)+z)\n",
    "\n",
    "#하지만 보통 이렇게 쓰더라구\n",
    "print(x, y, z)"
   ]
  },
  {
   "cell_type": "markdown",
   "metadata": {},
   "source": [
    "### 조건문     \n",
    "##### feat.bool값(True, False)"
   ]
  },
  {
   "cell_type": "code",
   "execution_count": 17,
   "metadata": {},
   "outputs": [
    {
     "name": "stdout",
     "output_type": "stream",
     "text": [
      "2가 1보다 크지\n"
     ]
    }
   ],
   "source": [
    "#보통 if(A가 B라면)의 순서대로 적어준다.\n",
    "if 2 > 1:\n",
    "    print(\"2가 1보다 크지\")"
   ]
  },
  {
   "cell_type": "code",
   "execution_count": 13,
   "metadata": {},
   "outputs": [
    {
     "name": "stdout",
     "output_type": "stream",
     "text": [
      "2가 1보다 작다고? 말도 안되지\n"
     ]
    }
   ],
   "source": [
    "#직관적으로, if not을 써도 좋다.\n",
    "if not 2<1:\n",
    "    print('2가 1보다 작다고? 말도 안되지')"
   ]
  },
  {
   "cell_type": "code",
   "execution_count": 16,
   "metadata": {},
   "outputs": [
    {
     "name": "stdout",
     "output_type": "stream",
     "text": [
      "파이썬에서는 두 조건을 나열할 때 and을 그대로 써준다.\n"
     ]
    }
   ],
   "source": [
    "if (1>0) and (2>1):\n",
    "    print(\"파이썬에서는 두 조건을 나열할 때 and을 그대로 써준다.\")\n",
    " \n",
    "# 평소에 쓰던대로 && 을 쓰면 오류가 납니다.\n",
    "#if (1>0) && (2>1): print(\"원래는 && 이게 더 익숙한데 말이지\")"
   ]
  },
  {
   "cell_type": "markdown",
   "metadata": {},
   "source": [
    "## 함수"
   ]
  },
  {
   "cell_type": "code",
   "execution_count": 18,
   "metadata": {},
   "outputs": [
    {
     "name": "stdout",
     "output_type": "stream",
     "text": [
      "함수를 만들었다!\n"
     ]
    }
   ],
   "source": [
    "# def == definition\n",
    "def make_f():\n",
    "    print(\"함수를 만들었다!\")\n",
    "    \n",
    "make_f()"
   ]
  },
  {
   "cell_type": "code",
   "execution_count": 27,
   "metadata": {},
   "outputs": [
    {
     "name": "stdout",
     "output_type": "stream",
     "text": [
      "정은는 영희에게 말했다.\n"
     ]
    }
   ],
   "source": [
    "# 인자(함수에서 변경하고 싶은 자리)를 받아서 써 보자\n",
    "# 인자는 보통 argument라고 번역하기 때문에, C에서도 보면 **arg 식으로 포인터 인자를 많이 정의해놓았음.\n",
    "def make_differ_f(people1, people2):\n",
    "    \n",
    "    #여기서도, %s, %d등을 통해 인자 자리를 정해주고\n",
    "    # %(인자)로 매칭해주고, 사이에 ,를 쓰지 않는 것이 C#과 다른 점.\n",
    "    print(\"%s는 %s에게 말했다.\" %(people1,people2))\n",
    "    \n",
    "make_differ_f(\"정은\", \"영희\")"
   ]
  },
  {
   "cell_type": "code",
   "execution_count": 30,
   "metadata": {},
   "outputs": [
    {
     "name": "stdout",
     "output_type": "stream",
     "text": [
      "8\n"
     ]
    }
   ],
   "source": [
    "# 리턴받는 함수\n",
    "def return_f(a, b):\n",
    "    result = a+b\n",
    "    return a+b\n",
    "\n",
    "what = return_f(3, 5)\n",
    "print(what)"
   ]
  },
  {
   "cell_type": "markdown",
   "metadata": {},
   "source": [
    "### For 와 While      \n",
    "#### C# 문법과 세상 제일 헷갈리는.. 비슷한 듯 다른 문법.."
   ]
  },
  {
   "cell_type": "code",
   "execution_count": 1,
   "metadata": {},
   "outputs": [
    {
     "name": "stdout",
     "output_type": "stream",
     "text": [
      "다섯 번 인쇄할거야\n",
      "다섯 번 인쇄할거야\n",
      "다섯 번 인쇄할거야\n",
      "다섯 번 인쇄할거야\n",
      "다섯 번 인쇄할거야\n"
     ]
    }
   ],
   "source": [
    "#For i in range(n) : n번 반복하라.\n",
    "\n",
    "for i in range(5):\n",
    "    print(\"다섯 번 인쇄할거야\")"
   ]
  },
  {
   "cell_type": "code",
   "execution_count": 4,
   "metadata": {},
   "outputs": [
    {
     "name": "stdout",
     "output_type": "stream",
     "text": [
      "0 아직 3보다 작아\n",
      "1 아직 3보다 작아\n",
      "2 아직 3보다 작아\n"
     ]
    }
   ],
   "source": [
    "#While -> 조건으로\n",
    "#While True : 무한루프\n",
    "\n",
    "#조건으로 삼을 i를 정의\n",
    "i = 0\n",
    "\n",
    "while i < 3:\n",
    "    print(i , \"아직 3보다 작아\")\n",
    "    i = i+1"
   ]
  },
  {
   "cell_type": "code",
   "execution_count": 19,
   "metadata": {},
   "outputs": [
    {
     "name": "stdout",
     "output_type": "stream",
     "text": [
      "아직 5보다 커 10\n",
      "아직 5보다 커 9\n",
      "아직 5보다 커 8\n",
      "아직 5보다 커 7\n",
      "아직 5보다 커 6\n",
      "아직 5보다 커 5\n",
      "4 5보다 작아지니까 빠져나올거야\n"
     ]
    }
   ],
   "source": [
    "# break, 루프를 돌다가 중간에 끝내고 싶을 때.\n",
    "i = 10\n",
    "    \n",
    "# 원래 i가 2보다 큰, 3까지 출력되어야 하는데 break를 써서 4일때 빠져나왔다.\n",
    "# 참고로 4일때도, \"아직 5보다 커\"를 건너뛰고 실행되는 것을 알 수 있다. if 조건이 걸렸기 때문에.\n",
    "while i>2:\n",
    "    print(\"아직 5보다 커\", i)\n",
    "    i = i-1\n",
    "        \n",
    "    if(i==4):\n",
    "        print(i,\"5보다 작아지니까 빠져나올거야\")\n",
    "        break;"
   ]
  },
  {
   "cell_type": "code",
   "execution_count": 26,
   "metadata": {},
   "outputs": [
    {
     "name": "stdout",
     "output_type": "stream",
     "text": [
      "...\n",
      "0 지금이 짝수야!\n",
      "...\n",
      "...\n",
      "2 지금이 짝수야!\n",
      "...\n",
      "...\n",
      "4 지금이 짝수야!\n"
     ]
    }
   ],
   "source": [
    "#continue, 도돌이표. 이걸 만나는 순간 루프의 첫번째 줄로 감\n",
    "#짝수일때만 말하게 하고싶다.\n",
    "\n",
    "for i in range(5):\n",
    "    print(\"...\")\n",
    "    \n",
    "    #2로 나눈 나머지가 1일때는 아래의 '짝수야!'를 출력하지 않고 다시 처음으로 돌아가버리게 한다.\n",
    "    if(i%2 == 1):\n",
    "        continue\n",
    "    \n",
    "    print(i, \"지금이 짝수야!\")"
   ]
  }
 ],
 "metadata": {
  "kernelspec": {
   "display_name": "aiffel",
   "language": "python",
   "name": "aiffel"
  },
  "language_info": {
   "codemirror_mode": {
    "name": "ipython",
    "version": 3
   },
   "file_extension": ".py",
   "mimetype": "text/x-python",
   "name": "python",
   "nbconvert_exporter": "python",
   "pygments_lexer": "ipython3",
   "version": "3.7.9"
  }
 },
 "nbformat": 4,
 "nbformat_minor": 4
}
