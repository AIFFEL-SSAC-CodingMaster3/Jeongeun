{
 "cells": [
  {
   "cell_type": "code",
   "execution_count": null,
   "metadata": {},
   "outputs": [],
   "source": [
    "## 1038"
   ]
  },
  {
   "cell_type": "code",
   "execution_count": null,
   "metadata": {},
   "outputs": [],
   "source": [
    "class Solution:\n",
    "    def __init__(self):\n",
    "        self.val = 0\n",
    "    \n",
    "    def bstToGst(self, root: TreeNode) -> TreeNode:\n",
    "    \n",
    "        if root :\n",
    "            #내가 가진 가장 오른쪽으로 내려간다.\n",
    "            self.bstToGst(root.right)\n",
    "            self.val += root.val\n",
    "            root.val = self.val\n",
    "            \n",
    "            #왼쪽의 경우, 가장 마지막으로 값을 더하게 된다.\n",
    "            self.bstToGst(root.left)\n",
    " \n",
    "        return root"
   ]
  },
  {
   "cell_type": "code",
   "execution_count": null,
   "metadata": {},
   "outputs": [],
   "source": [
    "#속도 16ms\n",
    "class Solution:\n",
    "    def __init__(self):\n",
    "        self.val  = 0\n",
    "    \n",
    "    def bstToGst(self, root: TreeNode) -> TreeNode:\n",
    "        \n",
    "        if not root:\n",
    "            return None\n",
    "        \n",
    "        if root.right:\n",
    "            self.bstToGst(root.right)\n",
    "        \n",
    "        self.val += root.val\n",
    "        root.val = self.val\n",
    "        \n",
    "        #위의 코드와의 차이점(left가 있을때만)\n",
    "        if root.left:\n",
    "            self.bstToGst(root.left)\n",
    "            \n",
    "        return root"
   ]
  },
  {
   "cell_type": "code",
   "execution_count": null,
   "metadata": {},
   "outputs": [],
   "source": [
    "#기존의 재귀 구조를 리스트와 변수로 구현한 것\n",
    "class Solution:\n",
    "    \n",
    "    def bstToGst(self, root: TreeNode) -> TreeNode:\n",
    "        \n",
    "        node = root\n",
    "        stack = []\n",
    "        prefix = 0\n",
    "        \n",
    "        #스택이 있거나 노드가 있는 경우만\n",
    "        while stack or node:\n",
    "            \n",
    "            #노드가 있다면\n",
    "            while node:\n",
    "                \n",
    "                #리스트에 노드를 추가하고,\n",
    "                stack.append(node)\n",
    "                \n",
    "                #노드가 가진 오른쪽 노드로 내려감\n",
    "                node = node.right\n",
    "            \n",
    "            \n",
    "            node = stack.pop()\n",
    "            \n",
    "            #prefix == self.val\n",
    "            prefix += node.val\n",
    "            node.val = prefix\n",
    "            node = node.left\n",
    "        \n",
    "        return root"
   ]
  }
 ],
 "metadata": {
  "kernelspec": {
   "display_name": "aiffel",
   "language": "python",
   "name": "aiffel"
  },
  "language_info": {
   "codemirror_mode": {
    "name": "ipython",
    "version": 3
   },
   "file_extension": ".py",
   "mimetype": "text/x-python",
   "name": "python",
   "nbconvert_exporter": "python",
   "pygments_lexer": "ipython3",
   "version": "3.7.9"
  }
 },
 "nbformat": 4,
 "nbformat_minor": 4
}
